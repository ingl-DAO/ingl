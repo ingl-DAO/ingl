{
 "cells": [
  {
   "cell_type": "code",
   "execution_count": 1,
   "metadata": {},
   "outputs": [
    {
     "name": "stdout",
     "output_type": "stream",
     "text": [
      "Client is connected\n",
      "Bh3yaPaZEJREs6fFRXbnvaaaaSJiLLoAeeh5YAQys9r5\n"
     ]
    },
    {
     "ename": "RPCException",
     "evalue": "{'code': -32002, 'message': 'Transaction simulation failed: Error processing Instruction 0: custom program error: 0x4', 'data': {'accounts': None, 'err': {'InstructionError': [0, {'Custom': 4}]}, 'logs': ['Program D7F68HKoDSMGY254ku5PPDnaN1qXFhFrcjDbvwMxm7sV invoke [1]', 'Program 11111111111111111111111111111111 invoke [2]', 'Program 11111111111111111111111111111111 success', 'Program log: Error:  keyword=\"Already Created\" Executing a process later than is allowed', 'Program D7F68HKoDSMGY254ku5PPDnaN1qXFhFrcjDbvwMxm7sV consumed 13129 of 200000 compute units', 'Program D7F68HKoDSMGY254ku5PPDnaN1qXFhFrcjDbvwMxm7sV failed: custom program error: 0x4'], 'unitsConsumed': 0}}",
     "output_type": "error",
     "traceback": [
      "\u001b[0;31m---------------------------------------------------------------------------\u001b[0m",
      "\u001b[0;31mRPCException\u001b[0m                              Traceback (most recent call last)",
      "\u001b[1;32m/home/artemesian/projects/ingl-team/ingl/libs/program/python/register_validator.ipynb Cell 1\u001b[0m in \u001b[0;36m<cell line: 12>\u001b[0;34m()\u001b[0m\n\u001b[1;32m     <a href='vscode-notebook-cell://wsl%2Bubuntu/home/artemesian/projects/ingl-team/ingl/libs/program/python/register_validator.ipynb#ch0000000vscode-remote?line=9'>10</a>\u001b[0m \u001b[39m# validator_keypair = payer_keypair\u001b[39;00m\n\u001b[1;32m     <a href='vscode-notebook-cell://wsl%2Bubuntu/home/artemesian/projects/ingl-team/ingl/libs/program/python/register_validator.ipynb#ch0000000vscode-remote?line=10'>11</a>\u001b[0m \u001b[39mprint\u001b[39m(validator_keypair\u001b[39m.\u001b[39mpublic_key)\n\u001b[0;32m---> <a href='vscode-notebook-cell://wsl%2Bubuntu/home/artemesian/projects/ingl-team/ingl/libs/program/python/register_validator.ipynb#ch0000000vscode-remote?line=11'>12</a>\u001b[0m register_validator_id(payer_keypair, PublicKey(\u001b[39m\"\u001b[39;49m\u001b[39mungTcuwCzTLBJrQLUyXFHePwC7syY7v5p4kw4vpLh5t\u001b[39;49m\u001b[39m\"\u001b[39;49m), client)\n",
      "File \u001b[0;32m~/projects/ingl-team/ingl/libs/program/python/processor.py:240\u001b[0m, in \u001b[0;36mregister_validator_id\u001b[0;34m(payer_keypair, validator_pubkey, client)\u001b[0m\n\u001b[1;32m    238\u001b[0m transaction \u001b[39m=\u001b[39m Transaction()\n\u001b[1;32m    239\u001b[0m transaction\u001b[39m.\u001b[39madd(TransactionInstruction(accounts, ingl_constants\u001b[39m.\u001b[39mINGL_PROGRAM_ID, instruction_data))\n\u001b[0;32m--> 240\u001b[0m \u001b[39mreturn\u001b[39;00m client\u001b[39m.\u001b[39;49msend_transaction(transaction, payer_keypair)\n",
      "File \u001b[0;32m~/.local/lib/python3.8/site-packages/solana/rpc/api.py:1389\u001b[0m, in \u001b[0;36mClient.send_transaction\u001b[0;34m(self, txn, opts, recent_blockhash, *signers)\u001b[0m\n\u001b[1;32m   1382\u001b[0m txn\u001b[39m.\u001b[39msign(\u001b[39m*\u001b[39msigners)\n\u001b[1;32m   1383\u001b[0m opts_to_use \u001b[39m=\u001b[39m (\n\u001b[1;32m   1384\u001b[0m     types\u001b[39m.\u001b[39mTxOpts(preflight_commitment\u001b[39m=\u001b[39m\u001b[39mself\u001b[39m\u001b[39m.\u001b[39m_commitment, last_valid_block_height\u001b[39m=\u001b[39mlast_valid_block_height)\n\u001b[1;32m   1385\u001b[0m     \u001b[39mif\u001b[39;00m opts \u001b[39mis\u001b[39;00m \u001b[39mNone\u001b[39;00m\n\u001b[1;32m   1386\u001b[0m     \u001b[39melse\u001b[39;00m opts\n\u001b[1;32m   1387\u001b[0m )\n\u001b[0;32m-> 1389\u001b[0m txn_resp \u001b[39m=\u001b[39m \u001b[39mself\u001b[39;49m\u001b[39m.\u001b[39;49msend_raw_transaction(txn\u001b[39m.\u001b[39;49mserialize(), opts\u001b[39m=\u001b[39;49mopts_to_use)\n\u001b[1;32m   1390\u001b[0m \u001b[39mif\u001b[39;00m \u001b[39mself\u001b[39m\u001b[39m.\u001b[39mblockhash_cache:\n\u001b[1;32m   1391\u001b[0m     blockhash_resp \u001b[39m=\u001b[39m \u001b[39mself\u001b[39m\u001b[39m.\u001b[39mget_latest_blockhash(Finalized)\n",
      "File \u001b[0;32m~/.local/lib/python3.8/site-packages/solana/rpc/api.py:1330\u001b[0m, in \u001b[0;36mClient.send_raw_transaction\u001b[0;34m(self, txn, opts)\u001b[0m\n\u001b[1;32m   1328\u001b[0m resp \u001b[39m=\u001b[39m \u001b[39mself\u001b[39m\u001b[39m.\u001b[39m_provider\u001b[39m.\u001b[39mmake_request(\u001b[39m*\u001b[39margs)\n\u001b[1;32m   1329\u001b[0m \u001b[39mif\u001b[39;00m opts_to_use\u001b[39m.\u001b[39mskip_confirmation:\n\u001b[0;32m-> 1330\u001b[0m     \u001b[39mreturn\u001b[39;00m \u001b[39mself\u001b[39;49m\u001b[39m.\u001b[39;49m_post_send(resp)\n\u001b[1;32m   1331\u001b[0m post_send_args \u001b[39m=\u001b[39m \u001b[39mself\u001b[39m\u001b[39m.\u001b[39m_send_raw_transaction_post_send_args(resp, opts_to_use)\n\u001b[1;32m   1332\u001b[0m \u001b[39mreturn\u001b[39;00m \u001b[39mself\u001b[39m\u001b[39m.\u001b[39m__post_send_with_confirm(\u001b[39m*\u001b[39mpost_send_args)\n",
      "File \u001b[0;32m~/.local/lib/python3.8/site-packages/solana/rpc/core.py:451\u001b[0m, in \u001b[0;36m_ClientCore._post_send\u001b[0;34m(resp)\u001b[0m\n\u001b[1;32m    449\u001b[0m error \u001b[39m=\u001b[39m resp\u001b[39m.\u001b[39mget(\u001b[39m\"\u001b[39m\u001b[39merror\u001b[39m\u001b[39m\"\u001b[39m)\n\u001b[1;32m    450\u001b[0m \u001b[39mif\u001b[39;00m error:\n\u001b[0;32m--> 451\u001b[0m     \u001b[39mraise\u001b[39;00m RPCException(error)\n\u001b[1;32m    452\u001b[0m \u001b[39mif\u001b[39;00m \u001b[39mnot\u001b[39;00m resp\u001b[39m.\u001b[39mget(\u001b[39m\"\u001b[39m\u001b[39mresult\u001b[39m\u001b[39m\"\u001b[39m):\n\u001b[1;32m    453\u001b[0m     \u001b[39mraise\u001b[39;00m RPCNoResultException(\u001b[39m\"\u001b[39m\u001b[39mFailed to send transaction\u001b[39m\u001b[39m\"\u001b[39m)\n",
      "\u001b[0;31mRPCException\u001b[0m: {'code': -32002, 'message': 'Transaction simulation failed: Error processing Instruction 0: custom program error: 0x4', 'data': {'accounts': None, 'err': {'InstructionError': [0, {'Custom': 4}]}, 'logs': ['Program D7F68HKoDSMGY254ku5PPDnaN1qXFhFrcjDbvwMxm7sV invoke [1]', 'Program 11111111111111111111111111111111 invoke [2]', 'Program 11111111111111111111111111111111 success', 'Program log: Error:  keyword=\"Already Created\" Executing a process later than is allowed', 'Program D7F68HKoDSMGY254ku5PPDnaN1qXFhFrcjDbvwMxm7sV consumed 13129 of 200000 compute units', 'Program D7F68HKoDSMGY254ku5PPDnaN1qXFhFrcjDbvwMxm7sV failed: custom program error: 0x4'], 'unitsConsumed': 0}}"
     ]
    }
   ],
   "source": [
    "from instruction import keypair_from_json\n",
    "from processor import register_validator_id\n",
    "from solana.publickey import PublicKey\n",
    "from solana.keypair import Keypair\n",
    "from solana.rpc.api import Client\n",
    "client = Client(\"https://api.devnet.solana.com\")\n",
    "print(\"Client is connected\" if client.is_connected() else \"Client is Disconnected\")\n",
    "payer_keypair = keypair_from_json(\"./keypair.json\")\n",
    "validator_keypair = Keypair()\n",
    "# validator_keypair = payer_keypair\n",
    "print(validator_keypair.public_key)\n",
    "register_validator_id(payer_keypair, PublicKey(\"ungTcuwCzTLBJrQLUyXFHePwC7syY7v5p4kw4vpLh5t\"), client)"
   ]
  }
 ],
 "metadata": {
  "kernelspec": {
   "display_name": "Python 3.8.10 64-bit",
   "language": "python",
   "name": "python3"
  },
  "language_info": {
   "codemirror_mode": {
    "name": "ipython",
    "version": 3
   },
   "file_extension": ".py",
   "mimetype": "text/x-python",
   "name": "python",
   "nbconvert_exporter": "python",
   "pygments_lexer": "ipython3",
   "version": "3.8.10"
  },
  "orig_nbformat": 4,
  "vscode": {
   "interpreter": {
    "hash": "31f2aee4e71d21fbe5cf8b01ff0e069b9275f58929596ceb00d14d90e3e16cd6"
   }
  }
 },
 "nbformat": 4,
 "nbformat_minor": 2
}
