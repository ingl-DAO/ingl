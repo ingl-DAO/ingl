{
 "cells": [
  {
   "cell_type": "code",
   "execution_count": 5,
   "metadata": {},
   "outputs": [
    {
     "name": "stdout",
     "output_type": "stream",
     "text": [
      "Client is connected\n",
<<<<<<< HEAD
      "5iNUj8xg2vBX2kmoockmmNFYptqz2KwRFuuzWfeWGss5\n",
      "{'jsonrpc': '2.0', 'result': 'fexUEzXYm9trc9tTpA4YKBfkvwaqsZqBM7ZoGKppfLmWKN4YcuyoKGG3Nozp91iZfsFNp14HTTUszNhthmreMVF', 'id': 2}\n",
      "{'jsonrpc': '2.0', 'result': '2L3rUWELCPvDcvGucGimmKZNaFyaBdRL4X5XMb3SSNeDD33dUqhJ7VCBHTNV8iEhneakDY6qZ9Su1Aes7UgCqAii', 'id': 4}\n",
      "[DZVvuG1Q4zwtWhdBwJFeZpKmWToKq3PhY5DRFg177ScP, GtgtQLfqKjn3gaHuH7Fw64n49vr2DrYHiJAsSTNNscAE]\n"
=======
      "GCAxGEzGEmk5m4JCPVsEh4hTx6gvS5XabfLAjbHEGfhy\n"
>>>>>>> 77f92aa21bc0128bf9c88601ce3400c28e0863cc
     ]
    },
    {
     "data": {
      "text/plain": [
       "{'jsonrpc': '2.0',\n",
       " 'result': '4SePgxt47FDVrvt2qYqKoMs7eW7QNpYHePF372x1x863bjqokeBJP5AmunF9Xfphfs9tptPwD28Pr98jKUsNQFrJ',\n",
       " 'id': 2}"
      ]
     },
     "execution_count": 5,
     "metadata": {},
     "output_type": "execute_result"
    }
   ],
   "source": [
    "from instruction import keypair_from_json\n",
    "from processor import register_validator_id\n",
    "from solana.publickey import PublicKey\n",
    "from solana.keypair import Keypair\n",
    "from solana.rpc.api import Client\n",
    "client = Client(\"https://api.testnet.solana.com\")\n",
    "print(\"Client is connected\" if client.is_connected() else \"Client is Disconnected\")\n",
    "payer_keypair = keypair_from_json(\"./keypair.json\")\n",
    "validator_keypair = Keypair()\n",
    "# validator_keypair = payer_keypair\n",
    "print(validator_keypair.public_key)\n",
<<<<<<< HEAD
    "vals = [\"DZVvuG1Q4zwtWhdBwJFeZpKmWToKq3PhY5DRFg177ScP\", \"GtgtQLfqKjn3gaHuH7Fw64n49vr2DrYHiJAsSTNNscAE\" ]\n",
    "vals = [PublicKey(i) if type(i) == str else i for i in vals]\n",
    "for val_pubkey in vals:\n",
    "    print(register_validator_id(payer_keypair, val_pubkey, client))\n",
    "print(vals)"
=======
    "register_validator_id(payer_keypair, validator_keypair.public_key, client)"
>>>>>>> 77f92aa21bc0128bf9c88601ce3400c28e0863cc
   ]
  }
 ],
 "metadata": {
  "kernelspec": {
   "display_name": "Python 3.10.5 64-bit",
   "language": "python",
   "name": "python3"
  },
  "language_info": {
   "codemirror_mode": {
    "name": "ipython",
    "version": 3
   },
   "file_extension": ".py",
   "mimetype": "text/x-python",
   "name": "python",
   "nbconvert_exporter": "python",
   "pygments_lexer": "ipython3",
   "version": "3.10.5"
  },
  "orig_nbformat": 4,
  "vscode": {
   "interpreter": {
    "hash": "369f2c481f4da34e4445cda3fffd2e751bd1c4d706f27375911949ba6bb62e1c"
   }
  }
 },
 "nbformat": 4,
 "nbformat_minor": 2
}
