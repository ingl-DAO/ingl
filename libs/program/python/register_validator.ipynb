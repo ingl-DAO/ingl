{
 "cells": [
  {
   "cell_type": "code",
<<<<<<< HEAD
   "execution_count": 2,
=======
   "execution_count": 1,
>>>>>>> 176b31f75d142e761465a8e7f292bbcd7f377b0f
   "metadata": {},
   "outputs": [
    {
     "name": "stdout",
     "output_type": "stream",
     "text": [
      "Client is connected\n",
<<<<<<< HEAD
      "RcKaHNoV21q5FHJds38ZePRzRVN91m5RTXqVX2WiAZX\n"
     ]
    },
    {
     "data": {
      "text/plain": [
       "{'jsonrpc': '2.0',\n",
       " 'result': '2BMJHr9Gb3GrNqr4EEEyBcm8JMWiaRK4rrnwYWRDEskLsyxvXc6gQhGrE1JogN5BTgHJFhRLdK6cVPJz8G1tVKtW',\n",
       " 'id': 2}"
      ]
     },
     "execution_count": 2,
     "metadata": {},
     "output_type": "execute_result"
=======
      "67sTtLc1abbt1ATpgjXUyU2EGsqFPAoTnXmWWLQ1nDoq\n",
      "{'jsonrpc': '2.0', 'result': '2arQARQBqdCpEZcso9oEgzZfJ2nEVzekANjtphN8L77yJRaRQQMsbGmibzXj71RLH5LdNKcD6TTUWvEXJPziXvtk', 'id': 2}\n",
      "{'jsonrpc': '2.0', 'result': '5MtGXKu8vgTy34NiMPTZWquJW3V949Z7j48tEuqh7TH12MztRYnDszZvzmEcqGqFyfNxs8FvpP8548tz3Bhc8Bpz', 'id': 4}\n",
      "{'jsonrpc': '2.0', 'result': '3maBttD8ZmZY5YANaM7giPMJXyazvuGaSjamtv9Vbfv2J2KNX3CKEQ7YcKg6sckgQcfKhaMAtmQ67raijt8gKCh8', 'id': 6}\n",
      "{'jsonrpc': '2.0', 'result': '36cNDsaQgbbE5JeRrB3UDBewEgYmo2WpkXN4YVqwUdyAL2M4ciwK21zPtnnJEnUPizKXHmuKibMpq8AfD3juSCMK', 'id': 8}\n",
      "{'jsonrpc': '2.0', 'result': '5RsFLu4VaHyGBiLV11Ugk3hERUvVdvNpVd4NwoSgYHhkcthgSC7YpCot4vbVnT6tmYNggYvVdP8z555p9qGbk3C3', 'id': 10}\n",
      "[6q4crDPH7SFp2kxAFNmRg16phDRpjtsW7QDk83EFwrLg, 6aVS1dvAUnd73wqZaUT3Ky6dS5ogmdxFgTNUmycNQeCq, 62uPowNXr22WPw7XghajJkWMBJ2fnv1oGthxqHYYPHie, 86uo4MtfpLrW9EKd7pxcyKPWBSPQ8jEWYLj5MpVBigFk, GU3NxbUE2GrZRiqzAYuvEr9h8rgCPj4GtqznSqr9yQiA]\n"
     ]
>>>>>>> 176b31f75d142e761465a8e7f292bbcd7f377b0f
    }
   ],
   "source": [
    "import string\n",
    "from instruction import keypair_from_json\n",
    "from processor import register_validator_id\n",
    "from solana.publickey import PublicKey\n",
    "from solana.keypair import Keypair\n",
    "from solana.rpc.api import Client\n",
    "client = Client(\"https://api.devnet.solana.com\")\n",
    "print(\"Client is connected\" if client.is_connected() else \"Client is Disconnected\")\n",
    "payer_keypair = keypair_from_json(\"./keypair.json\")\n",
    "validator_keypair = Keypair()\n",
    "# validator_keypair = payer_keypair\n",
    "print(validator_keypair.public_key)\n",
<<<<<<< HEAD
    "register_validator_id(payer_keypair, PublicKey(\"2ErCWKkw71Z2GLp4orzhAb1Dek5aapPYPLQ26UifAvug\"), client)"
=======
    "vals = [\"6q4crDPH7SFp2kxAFNmRg16phDRpjtsW7QDk83EFwrLg\", \"6aVS1dvAUnd73wqZaUT3Ky6dS5ogmdxFgTNUmycNQeCq\", payer_keypair.public_key, \"86uo4MtfpLrW9EKd7pxcyKPWBSPQ8jEWYLj5MpVBigFk\", \"GU3NxbUE2GrZRiqzAYuvEr9h8rgCPj4GtqznSqr9yQiA\" ]\n",
    "vals = [PublicKey(i) if type(i) == str else i for i in vals]\n",
    "for val_pubkey in vals:\n",
    "    print(register_validator_id(payer_keypair, val_pubkey, client))\n",
    "print(vals)"
>>>>>>> 176b31f75d142e761465a8e7f292bbcd7f377b0f
   ]
  }
 ],
 "metadata": {
  "kernelspec": {
<<<<<<< HEAD
   "display_name": "Python 3.8.10 64-bit",
=======
   "display_name": "Python 3.10.5 64-bit",
>>>>>>> 94267f71dc0cc28b60a9c0f6af64997feb7ed623
   "language": "python",
   "name": "python3"
  },
  "language_info": {
   "codemirror_mode": {
    "name": "ipython",
    "version": 3
   },
   "file_extension": ".py",
   "mimetype": "text/x-python",
   "name": "python",
   "nbconvert_exporter": "python",
   "pygments_lexer": "ipython3",
<<<<<<< HEAD
   "version": "3.8.10"
=======
   "version": "3.10.5"
>>>>>>> 94267f71dc0cc28b60a9c0f6af64997feb7ed623
  },
  "orig_nbformat": 4,
  "vscode": {
   "interpreter": {
<<<<<<< HEAD
    "hash": "31f2aee4e71d21fbe5cf8b01ff0e069b9275f58929596ceb00d14d90e3e16cd6"
=======
    "hash": "369f2c481f4da34e4445cda3fffd2e751bd1c4d706f27375911949ba6bb62e1c"
>>>>>>> 94267f71dc0cc28b60a9c0f6af64997feb7ed623
   }
  }
 },
 "nbformat": 4,
 "nbformat_minor": 2
}
