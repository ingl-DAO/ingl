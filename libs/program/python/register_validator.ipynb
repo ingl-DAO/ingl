{
 "cells": [
  {
   "cell_type": "code",
   "execution_count": null,
   "metadata": {},
   "outputs": [],
   "source": [
    "from instruction import keypair_from_json\n",
    "from processor import register_validator_id\n",
    "from solana.publickey import PublicKey\n",
    "from solana.keypair import Keypair\n",
    "from solana.rpc.api import Client\n",
    "client = Client(\"https://api.devnet.solana.com\")\n",
    "print(\"Client is connected\" if client.is_connected() else \"Client is Disconnected\")\n",
    "payer_keypair = keypair_from_json(\"./keypair.json\")\n",
    "validator_keypair = Keypair()\n",
    "# validator_keypair = payer_keypair\n",
    "print(payer_keypair.public_key)\n",
    "vals = [\"J3wqjuNuduVLKFrZscCwZtoy6F8HSJqbSFQJV3LSqHJ2\", \"EEBa8frib8zBLxj61NEMAUoEyrHFgV9MUzneHVHFax42\", \"BwVDYeT9sUadojNc1JeFz66FktsUHGiFQa7LeuNxSBdh\" ]\n",
    "vals = [PublicKey(i) if type(i) == str else i for i in vals]\n",
    "for val_pubkey in vals:\n",
    "    print(register_validator_id(payer_keypair, val_pubkey, client))\n"
   ]
  }
 ],
 "metadata": {
  "kernelspec": {
   "display_name": "Python 3.9.13 64-bit (windows store)",
   "language": "python",
   "name": "python3"
  },
  "language_info": {
   "codemirror_mode": {
    "name": "ipython",
    "version": 3
   },
   "file_extension": ".py",
   "mimetype": "text/x-python",
   "name": "python",
   "nbconvert_exporter": "python",
   "pygments_lexer": "ipython3",
   "version": "3.9.13"
  },
  "orig_nbformat": 4,
  "vscode": {
   "interpreter": {
    "hash": "08b78e4066f9d28ced5f76d81dbed32db21884263686bb618ace706836f0dcaa"
   }
  }
 },
 "nbformat": 4,
 "nbformat_minor": 2
}
