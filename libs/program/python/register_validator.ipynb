{
 "cells": [
  {
   "cell_type": "code",
   "execution_count": 3,
   "metadata": {},
   "outputs": [
    {
     "data": {
      "text/html": [
       "<pre style=\"white-space:pre;overflow-x:auto;line-height:normal;font-family:Menlo,'DejaVu Sans Mono',consolas,'Courier New',monospace\">Client is connected\n",
       "</pre>\n"
      ],
      "text/plain": [
       "Client is connected\n"
      ]
     },
     "metadata": {},
     "output_type": "display_data"
    },
    {
     "data": {
      "text/html": [
       "<pre style=\"white-space:pre;overflow-x:auto;line-height:normal;font-family:Menlo,'DejaVu Sans Mono',consolas,'Courier New',monospace\">62uPowNXr22WPw7XghajJkWMBJ2fnv1oGthxqHYYPHie\n",
       "</pre>\n"
      ],
      "text/plain": [
       "62uPowNXr22WPw7XghajJkWMBJ2fnv1oGthxqHYYPHie\n"
      ]
     },
     "metadata": {},
     "output_type": "display_data"
    },
    {
     "data": {
      "text/html": [
       "<pre style=\"white-space:pre;overflow-x:auto;line-height:normal;font-family:Menlo,'DejaVu Sans Mono',consolas,'Courier New',monospace\">Transaction Id: <a href=\"https://explorer.solana.com/tx/CmAkvMuXPro7FyCohPswFugKBHssDGqpssJKVVxBJNLLJToH8YfxY41mG5y8cLTmcYHzqos27k84J5QPSoBzMjs?cluster=devnet\" target=\"_blank\">CmAkvMuXPro7FyCohPswFugKBHssDGqpssJKVVxBJNLLJToH8YfxY41mG5y8cLTmcYHzqos27k84J5QPSoBzMjs</a>\n",
       "</pre>\n"
      ],
      "text/plain": [
       "Transaction Id: \u001b]8;id=447169;https://explorer.solana.com/tx/CmAkvMuXPro7FyCohPswFugKBHssDGqpssJKVVxBJNLLJToH8YfxY41mG5y8cLTmcYHzqos27k84J5QPSoBzMjs?cluster=devnet\u001b\\CmAkvMuXPro7FyCohPswFugKBHssDGqpssJKVVxBJNLLJToH8YfxY41mG5y8cLTmcYHzqos27k84J5QPSoBzMjs\u001b]8;;\u001b\\\n"
      ]
     },
     "metadata": {},
     "output_type": "display_data"
    }
   ],
   "source": [
    "from instruction import keypair_from_json\n",
    "from processor import register_validator_id\n",
    "from solana.publickey import PublicKey\n",
    "from solana.keypair import Keypair\n",
    "from solana.rpc.async_api import AsyncClient as Client\n",
    "from state import rpc_url\n",
    "from rich import print\n",
    "client = Client(rpc_url.target_network)\n",
    "client_state = await client.is_connected()\n",
    "print(\"Client is connected\" if client_state else \"Client is Disconnected\")\n",
    "payer_keypair = keypair_from_json(\"./keypair.json\")\n",
    "validator_keypair = Keypair()\n",
    "print(payer_keypair.public_key)\n",
    "vals = [\"EEBa8frib8zBLxj61NEMAUoEyrHFgV9MUzneHVHFax42\", \"BwVDYeT9sUadojNc1JeFz66FktsUHGiFQa7LeuNxSBdh\" ]\n",
    "vals = [PublicKey(i) if type(i) == str else i for i in vals]\n",
    "for val_pubkey in vals:\n",
    "    client = Client(rpc_url.target_network)\n",
    "    \n",
    "    res = await register_validator_id(payer_keypair, val_pubkey, client)\n",
    "    print(res)\n",
    "\n"
   ]
  }
 ],
 "metadata": {
  "kernelspec": {
   "display_name": "Python 3.10.5 64-bit",
   "language": "python",
   "name": "python3"
  },
  "language_info": {
   "codemirror_mode": {
    "name": "ipython",
    "version": 3
   },
   "file_extension": ".py",
   "mimetype": "text/x-python",
   "name": "python",
   "nbconvert_exporter": "python",
   "pygments_lexer": "ipython3",
   "version": "3.10.5"
  },
  "orig_nbformat": 4,
  "vscode": {
   "interpreter": {
    "hash": "369f2c481f4da34e4445cda3fffd2e751bd1c4d706f27375911949ba6bb62e1c"
   }
  }
 },
 "nbformat": 4,
 "nbformat_minor": 2
}
