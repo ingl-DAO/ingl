{
 "cells": [
  {
   "cell_type": "code",
   "execution_count": 3,
   "metadata": {},
   "outputs": [
    {
     "name": "stdout",
     "output_type": "stream",
     "text": [
      "Client is connected\n"
     ]
    },
    {
     "data": {
      "text/plain": [
       "'yCx5dgoJmQdjcQHf3xfdHpJj41mRR7BCSvSPhBS658h6eBYjLaHLiRnvH1Mhj8TDAyR1xgZfgbe1bZzRLa438Yj'"
      ]
     },
     "execution_count": 3,
     "metadata": {},
     "output_type": "execute_result"
    }
   ],
   "source": [
    "from solana.rpc.api import Client\n",
    "from instruction import keypair_from_json\n",
    "from processor import create_collection\n",
    "client = Client(\"https://api.devnet.solana.com\")\n",
    "print(\"Client is connected\" if client.is_connected() else \"Client is Disconnected\")\n",
    "payer_keypair = keypair_from_json(\"./keypair.json\")\n",
    "create_collection(payer_keypair, client)"
   ]
  }
 ],
 "metadata": {
  "kernelspec": {
   "display_name": "Python 3.9.13 64-bit (windows store)",
   "language": "python",
   "name": "python3"
  },
  "language_info": {
   "codemirror_mode": {
    "name": "ipython",
    "version": 3
   },
   "file_extension": ".py",
   "mimetype": "text/x-python",
   "name": "python",
   "nbconvert_exporter": "python",
   "pygments_lexer": "ipython3",
   "version": "3.9.13"
  },
  "orig_nbformat": 4,
  "vscode": {
   "interpreter": {
    "hash": "08b78e4066f9d28ced5f76d81dbed32db21884263686bb618ace706836f0dcaa"
   }
  }
 },
 "nbformat": 4,
 "nbformat_minor": 2
}
