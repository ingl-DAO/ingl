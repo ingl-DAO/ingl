{
 "cells": [
  {
   "cell_type": "code",
   "execution_count": 1,
   "metadata": {},
   "outputs": [
    {
     "name": "stdout",
     "output_type": "stream",
     "text": [
      "Client is connected\n"
     ]
    },
    {
     "ename": "RPCException",
     "evalue": "{'code': -32002, 'message': 'Transaction simulation failed: Error processing Instruction 0: custom program error: 0x0', 'data': {'accounts': None, 'err': {'InstructionError': [0, {'Custom': 0}]}, 'logs': ['Program 2CWWa4jTcAgxjq8gADjrTMgRRYCMYMv61rjD9RMq6nFQ invoke [1]', 'Program 11111111111111111111111111111111 invoke [2]', 'Create Account: account Address { address: 4iMQEyGMJTyPgAPaR4AC7JP8sxAnnWqhCFa6YRXUhiVk, base: None } already in use', 'Program 11111111111111111111111111111111 failed: custom program error: 0x0', 'Program 2CWWa4jTcAgxjq8gADjrTMgRRYCMYMv61rjD9RMq6nFQ consumed 20831 of 200000 compute units', 'Program 2CWWa4jTcAgxjq8gADjrTMgRRYCMYMv61rjD9RMq6nFQ failed: custom program error: 0x0'], 'unitsConsumed': 0}}",
     "output_type": "error",
     "traceback": [
      "\u001b[1;31m---------------------------------------------------------------------------\u001b[0m",
      "\u001b[1;31mRPCException\u001b[0m                              Traceback (most recent call last)",
      "\u001b[1;32mf:\\BLOCKCHAIN\\ingl\\ingl\\libs\\program\\python\\create_collection.ipynb Cell 1\u001b[0m in \u001b[0;36m<cell line: 7>\u001b[1;34m()\u001b[0m\n\u001b[0;32m      <a href='vscode-notebook-cell:/f%3A/BLOCKCHAIN/ingl/ingl/libs/program/python/create_collection.ipynb#ch0000000?line=4'>5</a>\u001b[0m \u001b[39mprint\u001b[39m(\u001b[39m\"\u001b[39m\u001b[39mClient is connected\u001b[39m\u001b[39m\"\u001b[39m \u001b[39mif\u001b[39;00m client\u001b[39m.\u001b[39mis_connected() \u001b[39melse\u001b[39;00m \u001b[39m\"\u001b[39m\u001b[39mClient is Disconnected\u001b[39m\u001b[39m\"\u001b[39m)\n\u001b[0;32m      <a href='vscode-notebook-cell:/f%3A/BLOCKCHAIN/ingl/ingl/libs/program/python/create_collection.ipynb#ch0000000?line=5'>6</a>\u001b[0m payer_keypair \u001b[39m=\u001b[39m keypair_from_json(\u001b[39m\"\u001b[39m\u001b[39m./keypair.json\u001b[39m\u001b[39m\"\u001b[39m)\n\u001b[1;32m----> <a href='vscode-notebook-cell:/f%3A/BLOCKCHAIN/ingl/ingl/libs/program/python/create_collection.ipynb#ch0000000?line=6'>7</a>\u001b[0m create_collection(payer_keypair, client)\n",
      "File \u001b[1;32mf:\\BLOCKCHAIN\\ingl\\ingl\\libs\\program\\python\\processor.py:65\u001b[0m, in \u001b[0;36mcreate_collection\u001b[1;34m(payer_keypair, client)\u001b[0m\n\u001b[0;32m     63\u001b[0m transaction \u001b[39m=\u001b[39m Transaction()\n\u001b[0;32m     64\u001b[0m transaction\u001b[39m.\u001b[39madd(TransactionInstruction(accounts, ingl_constants\u001b[39m.\u001b[39mINGL_PROGRAM_ID, data))\n\u001b[1;32m---> 65\u001b[0m \u001b[39mreturn\u001b[39;00m client\u001b[39m.\u001b[39;49msend_transaction(transaction, payer_keypair)[\u001b[39m'\u001b[39m\u001b[39mresult\u001b[39m\u001b[39m'\u001b[39m]\n",
      "File \u001b[1;32mc:\\Python310\\lib\\site-packages\\solana\\rpc\\api.py:1389\u001b[0m, in \u001b[0;36mClient.send_transaction\u001b[1;34m(self, txn, opts, recent_blockhash, *signers)\u001b[0m\n\u001b[0;32m   1382\u001b[0m txn\u001b[39m.\u001b[39msign(\u001b[39m*\u001b[39msigners)\n\u001b[0;32m   1383\u001b[0m opts_to_use \u001b[39m=\u001b[39m (\n\u001b[0;32m   1384\u001b[0m     types\u001b[39m.\u001b[39mTxOpts(preflight_commitment\u001b[39m=\u001b[39m\u001b[39mself\u001b[39m\u001b[39m.\u001b[39m_commitment, last_valid_block_height\u001b[39m=\u001b[39mlast_valid_block_height)\n\u001b[0;32m   1385\u001b[0m     \u001b[39mif\u001b[39;00m opts \u001b[39mis\u001b[39;00m \u001b[39mNone\u001b[39;00m\n\u001b[0;32m   1386\u001b[0m     \u001b[39melse\u001b[39;00m opts\n\u001b[0;32m   1387\u001b[0m )\n\u001b[1;32m-> 1389\u001b[0m txn_resp \u001b[39m=\u001b[39m \u001b[39mself\u001b[39;49m\u001b[39m.\u001b[39;49msend_raw_transaction(txn\u001b[39m.\u001b[39;49mserialize(), opts\u001b[39m=\u001b[39;49mopts_to_use)\n\u001b[0;32m   1390\u001b[0m \u001b[39mif\u001b[39;00m \u001b[39mself\u001b[39m\u001b[39m.\u001b[39mblockhash_cache:\n\u001b[0;32m   1391\u001b[0m     blockhash_resp \u001b[39m=\u001b[39m \u001b[39mself\u001b[39m\u001b[39m.\u001b[39mget_latest_blockhash(Finalized)\n",
      "File \u001b[1;32mc:\\Python310\\lib\\site-packages\\solana\\rpc\\api.py:1330\u001b[0m, in \u001b[0;36mClient.send_raw_transaction\u001b[1;34m(self, txn, opts)\u001b[0m\n\u001b[0;32m   1328\u001b[0m resp \u001b[39m=\u001b[39m \u001b[39mself\u001b[39m\u001b[39m.\u001b[39m_provider\u001b[39m.\u001b[39mmake_request(\u001b[39m*\u001b[39margs)\n\u001b[0;32m   1329\u001b[0m \u001b[39mif\u001b[39;00m opts_to_use\u001b[39m.\u001b[39mskip_confirmation:\n\u001b[1;32m-> 1330\u001b[0m     \u001b[39mreturn\u001b[39;00m \u001b[39mself\u001b[39;49m\u001b[39m.\u001b[39;49m_post_send(resp)\n\u001b[0;32m   1331\u001b[0m post_send_args \u001b[39m=\u001b[39m \u001b[39mself\u001b[39m\u001b[39m.\u001b[39m_send_raw_transaction_post_send_args(resp, opts_to_use)\n\u001b[0;32m   1332\u001b[0m \u001b[39mreturn\u001b[39;00m \u001b[39mself\u001b[39m\u001b[39m.\u001b[39m__post_send_with_confirm(\u001b[39m*\u001b[39mpost_send_args)\n",
      "File \u001b[1;32mc:\\Python310\\lib\\site-packages\\solana\\rpc\\core.py:451\u001b[0m, in \u001b[0;36m_ClientCore._post_send\u001b[1;34m(resp)\u001b[0m\n\u001b[0;32m    449\u001b[0m error \u001b[39m=\u001b[39m resp\u001b[39m.\u001b[39mget(\u001b[39m\"\u001b[39m\u001b[39merror\u001b[39m\u001b[39m\"\u001b[39m)\n\u001b[0;32m    450\u001b[0m \u001b[39mif\u001b[39;00m error:\n\u001b[1;32m--> 451\u001b[0m     \u001b[39mraise\u001b[39;00m RPCException(error)\n\u001b[0;32m    452\u001b[0m \u001b[39mif\u001b[39;00m \u001b[39mnot\u001b[39;00m resp\u001b[39m.\u001b[39mget(\u001b[39m\"\u001b[39m\u001b[39mresult\u001b[39m\u001b[39m\"\u001b[39m):\n\u001b[0;32m    453\u001b[0m     \u001b[39mraise\u001b[39;00m RPCNoResultException(\u001b[39m\"\u001b[39m\u001b[39mFailed to send transaction\u001b[39m\u001b[39m\"\u001b[39m)\n",
      "\u001b[1;31mRPCException\u001b[0m: {'code': -32002, 'message': 'Transaction simulation failed: Error processing Instruction 0: custom program error: 0x0', 'data': {'accounts': None, 'err': {'InstructionError': [0, {'Custom': 0}]}, 'logs': ['Program 2CWWa4jTcAgxjq8gADjrTMgRRYCMYMv61rjD9RMq6nFQ invoke [1]', 'Program 11111111111111111111111111111111 invoke [2]', 'Create Account: account Address { address: 4iMQEyGMJTyPgAPaR4AC7JP8sxAnnWqhCFa6YRXUhiVk, base: None } already in use', 'Program 11111111111111111111111111111111 failed: custom program error: 0x0', 'Program 2CWWa4jTcAgxjq8gADjrTMgRRYCMYMv61rjD9RMq6nFQ consumed 20831 of 200000 compute units', 'Program 2CWWa4jTcAgxjq8gADjrTMgRRYCMYMv61rjD9RMq6nFQ failed: custom program error: 0x0'], 'unitsConsumed': 0}}"
     ]
    }
   ],
   "source": [
    "from solana.rpc.api import Client\n",
    "from instruction import keypair_from_json\n",
    "from processor import create_collection\n",
    "client = Client(\"https://api.devnet.solana.com\")\n",
    "print(\"Client is connected\" if client.is_connected() else \"Client is Disconnected\")\n",
    "payer_keypair = keypair_from_json(\"./keypair.json\")\n",
    "create_collection(payer_keypair, client)"
   ]
  }
 ],
 "metadata": {
  "kernelspec": {
   "display_name": "Python 3.10.5 64-bit",
   "language": "python",
   "name": "python3"
  },
  "language_info": {
   "codemirror_mode": {
    "name": "ipython",
    "version": 3
   },
   "file_extension": ".py",
   "mimetype": "text/x-python",
   "name": "python",
   "nbconvert_exporter": "python",
   "pygments_lexer": "ipython3",
   "version": "3.10.5"
  },
  "orig_nbformat": 4,
  "vscode": {
   "interpreter": {
    "hash": "369f2c481f4da34e4445cda3fffd2e751bd1c4d706f27375911949ba6bb62e1c"
   }
  }
 },
 "nbformat": 4,
 "nbformat_minor": 2
}
