{
 "cells": [
  {
   "cell_type": "code",
   "execution_count": 1,
   "metadata": {},
   "outputs": [
    {
     "ename": "ModuleNotFoundError",
     "evalue": "No module named 'base58'",
     "output_type": "error",
     "traceback": [
      "\u001b[1;31m---------------------------------------------------------------------------\u001b[0m",
      "\u001b[1;31mModuleNotFoundError\u001b[0m                       Traceback (most recent call last)",
      "\u001b[1;32mf:\\BLOCKCHAIN\\ingl\\ingl\\libs\\program\\python\\create_collection.ipynb Cell 1\u001b[0m in \u001b[0;36m<cell line: 2>\u001b[1;34m()\u001b[0m\n\u001b[0;32m      <a href='vscode-notebook-cell:/f%3A/BLOCKCHAIN/ingl/ingl/libs/program/python/create_collection.ipynb#W0sZmlsZQ%3D%3D?line=0'>1</a>\u001b[0m \u001b[39mfrom\u001b[39;00m \u001b[39msolana\u001b[39;00m\u001b[39m.\u001b[39;00m\u001b[39mrpc\u001b[39;00m\u001b[39m.\u001b[39;00m\u001b[39mapi\u001b[39;00m \u001b[39mimport\u001b[39;00m Client\n\u001b[1;32m----> <a href='vscode-notebook-cell:/f%3A/BLOCKCHAIN/ingl/ingl/libs/program/python/create_collection.ipynb#W0sZmlsZQ%3D%3D?line=1'>2</a>\u001b[0m \u001b[39mfrom\u001b[39;00m \u001b[39minstruction\u001b[39;00m \u001b[39mimport\u001b[39;00m keypair_from_json\n\u001b[0;32m      <a href='vscode-notebook-cell:/f%3A/BLOCKCHAIN/ingl/ingl/libs/program/python/create_collection.ipynb#W0sZmlsZQ%3D%3D?line=2'>3</a>\u001b[0m \u001b[39mfrom\u001b[39;00m \u001b[39mprocessor\u001b[39;00m \u001b[39mimport\u001b[39;00m create_collection\n\u001b[0;32m      <a href='vscode-notebook-cell:/f%3A/BLOCKCHAIN/ingl/ingl/libs/program/python/create_collection.ipynb#W0sZmlsZQ%3D%3D?line=3'>4</a>\u001b[0m client \u001b[39m=\u001b[39m Client(\u001b[39m\"\u001b[39m\u001b[39mhttps://api.devnet.solana.com\u001b[39m\u001b[39m\"\u001b[39m)\n",
      "File \u001b[1;32mf:\\BLOCKCHAIN\\ingl\\ingl\\libs\\program\\python\\instruction.py:2\u001b[0m, in \u001b[0;36m<module>\u001b[1;34m\u001b[0m\n\u001b[0;32m      1\u001b[0m \u001b[39mfrom\u001b[39;00m \u001b[39mborsh_construct\u001b[39;00m \u001b[39mimport\u001b[39;00m \u001b[39m*\u001b[39m\n\u001b[1;32m----> 2\u001b[0m \u001b[39mfrom\u001b[39;00m \u001b[39mstate\u001b[39;00m \u001b[39mimport\u001b[39;00m \u001b[39m*\u001b[39m\n\u001b[0;32m      4\u001b[0m InstructionEnum \u001b[39m=\u001b[39m Enum(\n\u001b[0;32m      5\u001b[0m     \u001b[39m\"\u001b[39m\u001b[39mMintNft\u001b[39m\u001b[39m\"\u001b[39m,\n\u001b[0;32m      6\u001b[0m     \u001b[39m\"\u001b[39m\u001b[39mMintNewCollection\u001b[39m\u001b[39m\"\u001b[39m,\n\u001b[1;32m   (...)\u001b[0m\n\u001b[0;32m     27\u001b[0m     enum_name \u001b[39m=\u001b[39m \u001b[39m\"\u001b[39m\u001b[39mInstructionEnum\u001b[39m\u001b[39m\"\u001b[39m,\n\u001b[0;32m     28\u001b[0m )\n\u001b[0;32m     30\u001b[0m \u001b[39mdef\u001b[39;00m \u001b[39mbuild_instruction\u001b[39m(instruction, value \u001b[39m=\u001b[39m \u001b[39mNone\u001b[39;00m):\n",
      "File \u001b[1;32mf:\\BLOCKCHAIN\\ingl\\ingl\\libs\\program\\python\\state.py:5\u001b[0m, in \u001b[0;36m<module>\u001b[1;34m\u001b[0m\n\u001b[0;32m      3\u001b[0m \u001b[39mimport\u001b[39;00m \u001b[39mjson\u001b[39;00m\n\u001b[0;32m      4\u001b[0m \u001b[39mfrom\u001b[39;00m \u001b[39msolana\u001b[39;00m\u001b[39m.\u001b[39;00m\u001b[39mkeypair\u001b[39;00m \u001b[39mimport\u001b[39;00m Keypair\n\u001b[1;32m----> 5\u001b[0m \u001b[39mimport\u001b[39;00m \u001b[39mbase58\u001b[39;00m\n\u001b[0;32m      6\u001b[0m \u001b[39mclass\u001b[39;00m \u001b[39mConstants\u001b[39;00m:\n\u001b[0;32m      7\u001b[0m     INGL_NFT_COLLECTION_KEY \u001b[39m=\u001b[39m \u001b[39m\"\u001b[39m\u001b[39mingl_nft_collection_newer\u001b[39m\u001b[39m\"\u001b[39m\n",
      "\u001b[1;31mModuleNotFoundError\u001b[0m: No module named 'base58'"
     ]
    }
   ],
   "source": [
    "from solana.rpc.api import Client\n",
    "from instruction import keypair_from_json\n",
    "from processor import create_collection\n",
    "client = Client(\"https://api.devnet.solana.com\")\n",
    "print(\"Client is connected\" if client.is_connected() else \"Client is Disconnected\")\n",
    "payer_keypair = keypair_from_json(\"./keypair.json\")\n",
    "print(payer_keypair.public_key)\n",
    "create_collection(payer_keypair, client)"
   ]
  }
 ],
 "metadata": {
  "kernelspec": {
   "display_name": "Python 3.10.5 64-bit",
   "language": "python",
   "name": "python3"
  },
  "language_info": {
   "codemirror_mode": {
    "name": "ipython",
    "version": 3
   },
   "file_extension": ".py",
   "mimetype": "text/x-python",
   "name": "python",
   "nbconvert_exporter": "python",
   "pygments_lexer": "ipython3",
   "version": "3.10.5"
  },
  "orig_nbformat": 4,
  "vscode": {
   "interpreter": {
    "hash": "369f2c481f4da34e4445cda3fffd2e751bd1c4d706f27375911949ba6bb62e1c"
   }
  }
 },
 "nbformat": 4,
 "nbformat_minor": 2
}
