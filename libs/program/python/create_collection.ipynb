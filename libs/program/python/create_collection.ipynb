{
 "cells": [
  {
   "cell_type": "code",
   "execution_count": 1,
   "metadata": {},
   "outputs": [
    {
     "name": "stdout",
     "output_type": "stream",
     "text": [
      "Client is connected\n",
      "62uPowNXr22WPw7XghajJkWMBJ2fnv1oGthxqHYYPHie\n"
     ]
    },
    {
     "data": {
      "text/plain": [
<<<<<<< HEAD
       "'4qcRBJKdQqWTrTW5ss2Tw46Mmn8zwVRwUDmGhZJdHXCL4xPr4AbLojKQUH6uv66rVBwSXxvK1Lw7wJji2iDE87PE'"
=======
       "'sPGwDP7kduUBydupK9GK9cFqdw2kMrRW6VWV14GjYPhKtRtqpUt6JDpTLfrZcnSN19iaFnRur3ShqCqZk6Bxt8g'"
>>>>>>> 176b31f75d142e761465a8e7f292bbcd7f377b0f
      ]
     },
     "execution_count": 1,
     "metadata": {},
     "output_type": "execute_result"
    }
   ],
   "source": [
    "from solana.rpc.api import Client\n",
    "from instruction import keypair_from_json,\n",
    "from processor import create_collection\n",
    "client = Client(\"https://api.devnet.solana.com\")\n",
    "print(\"Client is connected\" if client.is_connected() else \"Client is Disconnected\")\n",
    "payer_keypair = keypair_from_json(\"./keypair.json\")\n",
    "print(payer_keypair.public_key)\n",
    "create_collection(payer_keypair, client)"
   ]
  }
 ],
 "metadata": {
  "kernelspec": {
<<<<<<< HEAD
   "display_name": "Python 3.8.10 64-bit",
=======
   "display_name": "Python 3.10.5 64-bit",
>>>>>>> 94267f71dc0cc28b60a9c0f6af64997feb7ed623
   "language": "python",
   "name": "python3"
  },
  "language_info": {
   "codemirror_mode": {
    "name": "ipython",
    "version": 3
   },
   "file_extension": ".py",
   "mimetype": "text/x-python",
   "name": "python",
   "nbconvert_exporter": "python",
   "pygments_lexer": "ipython3",
<<<<<<< HEAD
   "version": "3.8.10"
=======
   "version": "3.10.5"
>>>>>>> 94267f71dc0cc28b60a9c0f6af64997feb7ed623
  },
  "orig_nbformat": 4,
  "vscode": {
   "interpreter": {
<<<<<<< HEAD
    "hash": "916dbcbb3f70747c44a77c7bcd40155683ae19c65e1c03b4aa3499c5328201f1"
=======
    "hash": "369f2c481f4da34e4445cda3fffd2e751bd1c4d706f27375911949ba6bb62e1c"
>>>>>>> 94267f71dc0cc28b60a9c0f6af64997feb7ed623
   }
  }
 },
 "nbformat": 4,
 "nbformat_minor": 2
}
