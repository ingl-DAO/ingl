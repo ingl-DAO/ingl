{
 "cells": [
  {
   "cell_type": "code",
   "execution_count": 1,
   "metadata": {},
   "outputs": [
    {
     "data": {
      "text/html": [
       "<pre style=\"white-space:pre;overflow-x:auto;line-height:normal;font-family:Menlo,'DejaVu Sans Mono',consolas,'Courier New',monospace\">Client is connected\n",
       "</pre>\n"
      ],
      "text/plain": [
       "Client is connected\n"
      ]
     },
     "metadata": {},
     "output_type": "display_data"
    },
    {
     "data": {
      "text/html": [
       "<pre style=\"white-space:pre;overflow-x:auto;line-height:normal;font-family:Menlo,'DejaVu Sans Mono',consolas,'Courier New',monospace\">62uPowNXr22WPw7XghajJkWMBJ2fnv1oGthxqHYYPHie\n",
       "</pre>\n"
      ],
      "text/plain": [
       "62uPowNXr22WPw7XghajJkWMBJ2fnv1oGthxqHYYPHie\n"
      ]
     },
     "metadata": {},
     "output_type": "display_data"
    },
    {
     "name": "stdout",
     "output_type": "stream",
     "text": [
      "Collection Key:  8VCtAJZFk17Pb3ZyZAtqDZ996Stjme9yrG7KavUaDSTQ\n"
     ]
    },
    {
     "data": {
      "text/plain": [
       "\"Error: {'code': -32002, 'message': 'Transaction simulation failed: Error processing Instruction 0: custom program error: 0x0', 'data': {'accounts': None, 'err': {'InstructionError': [0, {'Custom': 0}]}, 'logs': ['Program 4LzASGSZoAJecciq81AJNN7gbU8F18BQ4g8ZPjJvJL1m invoke [1]', 'Program 11111111111111111111111111111111 invoke [2]', 'Create Account: account Address { address: dpRZ84DUNAiMDm95kJPHypvQbDYhqjGhs6xa2kzPfTK, base: None } already in use', 'Program 11111111111111111111111111111111 failed: custom program error: 0x0', 'Program 4LzASGSZoAJecciq81AJNN7gbU8F18BQ4g8ZPjJvJL1m consumed 19918 of 200000 compute units', 'Program 4LzASGSZoAJecciq81AJNN7gbU8F18BQ4g8ZPjJvJL1m failed: custom program error: 0x0'], 'unitsConsumed': 0}}\""
      ]
     },
     "execution_count": 1,
     "metadata": {},
     "output_type": "execute_result"
    }
   ],
   "source": [
    "from solana.rpc.async_api import AsyncClient as Client\n",
    "from instruction import keypair_from_json\n",
    "from processor import create_collection\n",
    "from rich import print\n",
    "client = Client(\"https://api.devnet.solana.com\")\n",
    "client_state = await client.is_connected()\n",
    "print(\"Client is connected\" if client_state else \"Client is Disconnected\")\n",
    "payer_keypair = keypair_from_json(\"./keypair.json\")\n",
    "print(payer_keypair.public_key)\n",
    "await create_collection(payer_keypair, client)"
   ]
  }
 ],
 "metadata": {
  "kernelspec": {
   "display_name": "Python 3.10.5 64-bit",
   "language": "python",
   "name": "python3"
  },
  "language_info": {
   "codemirror_mode": {
    "name": "ipython",
    "version": 3
   },
   "file_extension": ".py",
   "mimetype": "text/x-python",
   "name": "python",
   "nbconvert_exporter": "python",
   "pygments_lexer": "ipython3",
   "version": "3.10.5"
  },
  "orig_nbformat": 4,
  "vscode": {
   "interpreter": {
    "hash": "369f2c481f4da34e4445cda3fffd2e751bd1c4d706f27375911949ba6bb62e1c"
   }
  }
 },
 "nbformat": 4,
 "nbformat_minor": 2
}
