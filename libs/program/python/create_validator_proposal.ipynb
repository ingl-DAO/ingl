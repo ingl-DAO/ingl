{
 "cells": [
  {
   "cell_type": "code",
   "execution_count": 1,
   "metadata": {},
   "outputs": [
    {
     "name": "stdout",
     "output_type": "stream",
     "text": [
      "Client is connected\n"
     ]
    },
    {
     "ename": "RPCException",
     "evalue": "{'code': -32002, 'message': 'Transaction simulation failed: Error processing Instruction 0: custom program error: 0x3', 'data': {'accounts': None, 'err': {'InstructionError': [0, {'Custom': 3}]}, 'logs': ['Program E6PkWBF2vdztwVJ3gMnhavUqYUadZtD4sM3QYi9T1kiK invoke [1]', 'Program log: Error:  keyword=\"A Proposal Is Currently Ongoing\" Executing a process earlier than is allowed', 'Program E6PkWBF2vdztwVJ3gMnhavUqYUadZtD4sM3QYi9T1kiK consumed 16336 of 200000 compute units', 'Program E6PkWBF2vdztwVJ3gMnhavUqYUadZtD4sM3QYi9T1kiK failed: custom program error: 0x3'], 'unitsConsumed': 0}}",
     "output_type": "error",
     "traceback": [
      "\u001b[0;31m---------------------------------------------------------------------------\u001b[0m",
      "\u001b[0;31mRPCException\u001b[0m                              Traceback (most recent call last)",
      "\u001b[1;32m/home/artemesian/projects/ingl-team/ingl/libs/program/python/create_validator_proposal.ipynb Cell 1\u001b[0m in \u001b[0;36m<cell line: 19>\u001b[0;34m()\u001b[0m\n\u001b[1;32m     <a href='vscode-notebook-cell://wsl%2Bubuntu/home/artemesian/projects/ingl-team/ingl/libs/program/python/create_validator_proposal.ipynb#ch0000000vscode-remote?line=13'>14</a>\u001b[0m global_gem_pubkey, _global_gem_bump \u001b[39m=\u001b[39m PublicKey\u001b[39m.\u001b[39mfind_program_address([\u001b[39mbytes\u001b[39m(ingl_constants\u001b[39m.\u001b[39mGLOBAL_GEM_KEY, \u001b[39m'\u001b[39m\u001b[39mUTF-8\u001b[39m\u001b[39m'\u001b[39m)], ingl_constants\u001b[39m.\u001b[39mINGL_PROGRAM_ID)\n\u001b[1;32m     <a href='vscode-notebook-cell://wsl%2Bubuntu/home/artemesian/projects/ingl-team/ingl/libs/program/python/create_validator_proposal.ipynb#ch0000000vscode-remote?line=15'>16</a>\u001b[0m numeration \u001b[39m=\u001b[39m GlobalGems\u001b[39m.\u001b[39mparse(base64\u001b[39m.\u001b[39murlsafe_b64decode(client\u001b[39m.\u001b[39mget_account_info(global_gem_pubkey)[\u001b[39m'\u001b[39m\u001b[39mresult\u001b[39m\u001b[39m'\u001b[39m][\u001b[39m'\u001b[39m\u001b[39mvalue\u001b[39m\u001b[39m'\u001b[39m][\u001b[39m'\u001b[39m\u001b[39mdata\u001b[39m\u001b[39m'\u001b[39m][\u001b[39m0\u001b[39m]))\u001b[39m.\u001b[39mproposal_numeration\n\u001b[0;32m---> <a href='vscode-notebook-cell://wsl%2Bubuntu/home/artemesian/projects/ingl-team/ingl/libs/program/python/create_validator_proposal.ipynb#ch0000000vscode-remote?line=18'>19</a>\u001b[0m create_validator_proposal(payer_keypair, numeration, client)\n",
      "File \u001b[0;32m~/projects/ingl-team/ingl/libs/program/python/processor.py:265\u001b[0m, in \u001b[0;36mcreate_validator_proposal\u001b[0;34m(payer_keypair, proposal_numeration, client)\u001b[0m\n\u001b[1;32m    263\u001b[0m transaction \u001b[39m=\u001b[39m Transaction()\n\u001b[1;32m    264\u001b[0m transaction\u001b[39m.\u001b[39madd(TransactionInstruction(accounts, ingl_constants\u001b[39m.\u001b[39mINGL_PROGRAM_ID, instruction_data))\n\u001b[0;32m--> 265\u001b[0m \u001b[39mreturn\u001b[39;00m client\u001b[39m.\u001b[39;49msend_transaction(transaction, payer_keypair)\n",
      "File \u001b[0;32m~/.local/lib/python3.8/site-packages/solana/rpc/api.py:1389\u001b[0m, in \u001b[0;36mClient.send_transaction\u001b[0;34m(self, txn, opts, recent_blockhash, *signers)\u001b[0m\n\u001b[1;32m   1382\u001b[0m txn\u001b[39m.\u001b[39msign(\u001b[39m*\u001b[39msigners)\n\u001b[1;32m   1383\u001b[0m opts_to_use \u001b[39m=\u001b[39m (\n\u001b[1;32m   1384\u001b[0m     types\u001b[39m.\u001b[39mTxOpts(preflight_commitment\u001b[39m=\u001b[39m\u001b[39mself\u001b[39m\u001b[39m.\u001b[39m_commitment, last_valid_block_height\u001b[39m=\u001b[39mlast_valid_block_height)\n\u001b[1;32m   1385\u001b[0m     \u001b[39mif\u001b[39;00m opts \u001b[39mis\u001b[39;00m \u001b[39mNone\u001b[39;00m\n\u001b[1;32m   1386\u001b[0m     \u001b[39melse\u001b[39;00m opts\n\u001b[1;32m   1387\u001b[0m )\n\u001b[0;32m-> 1389\u001b[0m txn_resp \u001b[39m=\u001b[39m \u001b[39mself\u001b[39;49m\u001b[39m.\u001b[39;49msend_raw_transaction(txn\u001b[39m.\u001b[39;49mserialize(), opts\u001b[39m=\u001b[39;49mopts_to_use)\n\u001b[1;32m   1390\u001b[0m \u001b[39mif\u001b[39;00m \u001b[39mself\u001b[39m\u001b[39m.\u001b[39mblockhash_cache:\n\u001b[1;32m   1391\u001b[0m     blockhash_resp \u001b[39m=\u001b[39m \u001b[39mself\u001b[39m\u001b[39m.\u001b[39mget_latest_blockhash(Finalized)\n",
      "File \u001b[0;32m~/.local/lib/python3.8/site-packages/solana/rpc/api.py:1330\u001b[0m, in \u001b[0;36mClient.send_raw_transaction\u001b[0;34m(self, txn, opts)\u001b[0m\n\u001b[1;32m   1328\u001b[0m resp \u001b[39m=\u001b[39m \u001b[39mself\u001b[39m\u001b[39m.\u001b[39m_provider\u001b[39m.\u001b[39mmake_request(\u001b[39m*\u001b[39margs)\n\u001b[1;32m   1329\u001b[0m \u001b[39mif\u001b[39;00m opts_to_use\u001b[39m.\u001b[39mskip_confirmation:\n\u001b[0;32m-> 1330\u001b[0m     \u001b[39mreturn\u001b[39;00m \u001b[39mself\u001b[39;49m\u001b[39m.\u001b[39;49m_post_send(resp)\n\u001b[1;32m   1331\u001b[0m post_send_args \u001b[39m=\u001b[39m \u001b[39mself\u001b[39m\u001b[39m.\u001b[39m_send_raw_transaction_post_send_args(resp, opts_to_use)\n\u001b[1;32m   1332\u001b[0m \u001b[39mreturn\u001b[39;00m \u001b[39mself\u001b[39m\u001b[39m.\u001b[39m__post_send_with_confirm(\u001b[39m*\u001b[39mpost_send_args)\n",
      "File \u001b[0;32m~/.local/lib/python3.8/site-packages/solana/rpc/core.py:451\u001b[0m, in \u001b[0;36m_ClientCore._post_send\u001b[0;34m(resp)\u001b[0m\n\u001b[1;32m    449\u001b[0m error \u001b[39m=\u001b[39m resp\u001b[39m.\u001b[39mget(\u001b[39m\"\u001b[39m\u001b[39merror\u001b[39m\u001b[39m\"\u001b[39m)\n\u001b[1;32m    450\u001b[0m \u001b[39mif\u001b[39;00m error:\n\u001b[0;32m--> 451\u001b[0m     \u001b[39mraise\u001b[39;00m RPCException(error)\n\u001b[1;32m    452\u001b[0m \u001b[39mif\u001b[39;00m \u001b[39mnot\u001b[39;00m resp\u001b[39m.\u001b[39mget(\u001b[39m\"\u001b[39m\u001b[39mresult\u001b[39m\u001b[39m\"\u001b[39m):\n\u001b[1;32m    453\u001b[0m     \u001b[39mraise\u001b[39;00m RPCNoResultException(\u001b[39m\"\u001b[39m\u001b[39mFailed to send transaction\u001b[39m\u001b[39m\"\u001b[39m)\n",
      "\u001b[0;31mRPCException\u001b[0m: {'code': -32002, 'message': 'Transaction simulation failed: Error processing Instruction 0: custom program error: 0x3', 'data': {'accounts': None, 'err': {'InstructionError': [0, {'Custom': 3}]}, 'logs': ['Program E6PkWBF2vdztwVJ3gMnhavUqYUadZtD4sM3QYi9T1kiK invoke [1]', 'Program log: Error:  keyword=\"A Proposal Is Currently Ongoing\" Executing a process earlier than is allowed', 'Program E6PkWBF2vdztwVJ3gMnhavUqYUadZtD4sM3QYi9T1kiK consumed 16336 of 200000 compute units', 'Program E6PkWBF2vdztwVJ3gMnhavUqYUadZtD4sM3QYi9T1kiK failed: custom program error: 0x3'], 'unitsConsumed': 0}}"
     ]
    }
   ],
   "source": [
    "from instruction import keypair_from_json\n",
    "from processor import create_validator_proposal\n",
    "from solana.publickey import PublicKey\n",
    "from solana.keypair import Keypair\n",
    "from solana.rpc.api import Client\n",
    "from state import Constants as ingl_constants\n",
    "from state import GlobalGems\n",
    "from borsh_construct import *\n",
    "import base64\n",
    "client = Client(\"https://api.devnet.solana.com\")\n",
    "print(\"Client is connected\" if client.is_connected() else \"Client is Disconnected\")\n",
    "payer_keypair = keypair_from_json(\"./keypair.json\")\n",
    "\n",
    "global_gem_pubkey, _global_gem_bump = PublicKey.find_program_address([bytes(ingl_constants.GLOBAL_GEM_KEY, 'UTF-8')], ingl_constants.INGL_PROGRAM_ID)\n",
    "\n",
    "numeration = GlobalGems.parse(base64.urlsafe_b64decode(client.get_account_info(global_gem_pubkey)['result']['value']['data'][0])).proposal_numeration\n",
    "\n",
    "\n",
    "create_validator_proposal(payer_keypair, numeration, client)\n",
    "\n"
   ]
  }
 ],
 "metadata": {
  "kernelspec": {
   "display_name": "Python 3.8.10 64-bit",
   "language": "python",
   "name": "python3"
  },
  "language_info": {
   "codemirror_mode": {
    "name": "ipython",
    "version": 3
   },
   "file_extension": ".py",
   "mimetype": "text/x-python",
   "name": "python",
   "nbconvert_exporter": "python",
   "pygments_lexer": "ipython3",
   "version": "3.8.10"
  },
  "orig_nbformat": 4,
  "vscode": {
   "interpreter": {
    "hash": "916dbcbb3f70747c44a77c7bcd40155683ae19c65e1c03b4aa3499c5328201f1"
   }
  }
 },
 "nbformat": 4,
 "nbformat_minor": 2
}
