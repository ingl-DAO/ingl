{
 "cells": [
  {
   "cell_type": "code",
   "execution_count": 1,
   "metadata": {},
   "outputs": [
    {
     "data": {
      "text/html": [
       "<pre style=\"white-space:pre;overflow-x:auto;line-height:normal;font-family:Menlo,'DejaVu Sans Mono',consolas,'Courier New',monospace\">Client is connected\n",
       "</pre>\n"
      ],
      "text/plain": [
       "Client is connected\n"
      ]
     },
     "metadata": {},
     "output_type": "display_data"
    },
    {
     "data": {
      "text/html": [
       "<pre style=\"white-space:pre;overflow-x:auto;line-height:normal;font-family:Menlo,'DejaVu Sans Mono',consolas,'Courier New',monospace\">62uPowNXr22WPw7XghajJkWMBJ2fnv1oGthxqHYYPHie\n",
       "</pre>\n"
      ],
      "text/plain": [
       "62uPowNXr22WPw7XghajJkWMBJ2fnv1oGthxqHYYPHie\n"
      ]
     },
     "metadata": {},
     "output_type": "display_data"
    },
    {
     "data": {
      "text/html": [
       "<pre style=\"white-space:pre;overflow-x:auto;line-height:normal;font-family:Menlo,'DejaVu Sans Mono',consolas,'Courier New',monospace\"><span style=\"font-weight: bold\">[</span>\n",
       "    J3wqjuNuduVLKFrZscCwZtoy6F8HSJqbSFQJV3LSqHJ2,\n",
       "    EEBa8frib8zBLxj61NEMAUoEyrHFgV9MUzneHVHFax42,\n",
       "    BwVDYeT9sUadojNc1JeFz66FktsUHGiFQa7LeuNxSBdh,\n",
       "    62uPowNXr22WPw7XghajJkWMBJ2fnv1oGthxqHYYPHie\n",
       "<span style=\"font-weight: bold\">]</span>\n",
       "</pre>\n"
      ],
      "text/plain": [
       "\u001b[1m[\u001b[0m\n",
       "    J3wqjuNuduVLKFrZscCwZtoy6F8HSJqbSFQJV3LSqHJ2,\n",
       "    EEBa8frib8zBLxj61NEMAUoEyrHFgV9MUzneHVHFax42,\n",
       "    BwVDYeT9sUadojNc1JeFz66FktsUHGiFQa7LeuNxSBdh,\n",
       "    62uPowNXr22WPw7XghajJkWMBJ2fnv1oGthxqHYYPHie\n",
       "\u001b[1m]\u001b[0m\n"
      ]
     },
     "metadata": {},
     "output_type": "display_data"
    },
    {
     "name": "stdout",
     "output_type": "stream",
     "text": [
      "Proposal_id: BhwopDg8RiPA9g65erWB8ArQFSW7rs1JeifjVVhtoRHF\n"
     ]
    },
    {
     "data": {
      "text/html": [
       "<pre style=\"white-space:pre;overflow-x:auto;line-height:normal;font-family:Menlo,'DejaVu Sans Mono',consolas,'Courier New',monospace\">Transaction Id: <a href=\"https://explorer.solana.com/tx/fYpNVoNwRbGqZ22hTXXum3MpmgbTsLaGD2Ta1SuRSQDQw45aUV4coVw2yiXbADp9NoWHx3wyZ4f4x5d3vmsm969?cluster=devnet\" target=\"_blank\">fYpNVoNwRbGqZ22hTXXum3MpmgbTsLaGD2Ta1SuRSQDQw45aUV4coVw2yiXbADp9NoWHx3wyZ4f4x5d3vmsm969</a>\n",
       "</pre>\n"
      ],
      "text/plain": [
       "Transaction Id: \u001b]8;id=253420;https://explorer.solana.com/tx/fYpNVoNwRbGqZ22hTXXum3MpmgbTsLaGD2Ta1SuRSQDQw45aUV4coVw2yiXbADp9NoWHx3wyZ4f4x5d3vmsm969?cluster=devnet\u001b\\fYpNVoNwRbGqZ22hTXXum3MpmgbTsLaGD2Ta1SuRSQDQw45aUV4coVw2yiXbADp9NoWHx3wyZ4f4x5d3vmsm969\u001b]8;;\u001b\\\n"
      ]
     },
     "metadata": {},
     "output_type": "display_data"
    }
   ],
   "source": [
    "from instruction import keypair_from_json\n",
    "from processor import create_validator_proposal\n",
    "from solana.publickey import PublicKey\n",
    "from solana.keypair import Keypair\n",
    "from solana.rpc.async_api import AsyncClient as Client\n",
    "from state import Constants as ingl_constants\n",
    "from state import GlobalGems, rpc_url\n",
    "from rich import print\n",
    "from borsh_construct import *\n",
    "import base64\n",
    "client = Client(\"https://api.devnet.solana.com\")\n",
    "client_state = await client.is_connected()\n",
    "print(\"Client is connected\" if client_state else \"Client is Disconnected\")\n",
    "payer_keypair = keypair_from_json(\"./keypair.json\")\n",
    "print(payer_keypair.public_key)\n",
    "global_gem_pubkey, _global_gem_bump = PublicKey.find_program_address([bytes(ingl_constants.GLOBAL_GEM_KEY, 'UTF-8')], ingl_constants.INGL_PROGRAM_ID)\n",
    "data = await client.get_account_info(global_gem_pubkey)\n",
    "numeration = GlobalGems.parse(base64.urlsafe_b64decode(data['result']['value']['data'][0])).proposal_numeration\n",
    "data = await client.get_account_info(global_gem_pubkey)\n",
    "validator_list = [PublicKey(i) for i in GlobalGems.parse(base64.urlsafe_b64decode(data['result']['value']['data'][0])).validator_list]\n",
    "print(validator_list)\n",
    "\n",
    "print(await create_validator_proposal(payer_keypair, numeration, client))\n",
    "\n"
   ]
  }
 ],
 "metadata": {
  "kernelspec": {
   "display_name": "Python 3.10.5 64-bit",
   "language": "python",
   "name": "python3"
  },
  "language_info": {
   "codemirror_mode": {
    "name": "ipython",
    "version": 3
   },
   "file_extension": ".py",
   "mimetype": "text/x-python",
   "name": "python",
   "nbconvert_exporter": "python",
   "pygments_lexer": "ipython3",
   "version": "3.10.5"
  },
  "orig_nbformat": 4,
  "vscode": {
   "interpreter": {
    "hash": "369f2c481f4da34e4445cda3fffd2e751bd1c4d706f27375911949ba6bb62e1c"
   }
  }
 },
 "nbformat": 4,
 "nbformat_minor": 2
}
