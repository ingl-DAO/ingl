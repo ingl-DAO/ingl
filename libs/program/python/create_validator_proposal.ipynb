{
 "cells": [
  {
   "cell_type": "code",
   "execution_count": 1,
   "metadata": {},
   "outputs": [
    {
<<<<<<< HEAD
     "ename": "ModuleNotFoundError",
     "evalue": "No module named 'base58'",
     "output_type": "error",
     "traceback": [
      "\u001b[0;31m---------------------------------------------------------------------------\u001b[0m",
      "\u001b[0;31mModuleNotFoundError\u001b[0m                       Traceback (most recent call last)",
      "\u001b[1;32m/home/artemesian/projects/ingl-team/ingl/libs/program/python/create_validator_proposal.ipynb Cell 1\u001b[0m in \u001b[0;36m<cell line: 1>\u001b[0;34m()\u001b[0m\n\u001b[0;32m----> <a href='vscode-notebook-cell://wsl%2Bubuntu/home/artemesian/projects/ingl-team/ingl/libs/program/python/create_validator_proposal.ipynb#ch0000000vscode-remote?line=0'>1</a>\u001b[0m \u001b[39mfrom\u001b[39;00m \u001b[39minstruction\u001b[39;00m \u001b[39mimport\u001b[39;00m keypair_from_json\n\u001b[1;32m      <a href='vscode-notebook-cell://wsl%2Bubuntu/home/artemesian/projects/ingl-team/ingl/libs/program/python/create_validator_proposal.ipynb#ch0000000vscode-remote?line=1'>2</a>\u001b[0m \u001b[39mfrom\u001b[39;00m \u001b[39mprocessor\u001b[39;00m \u001b[39mimport\u001b[39;00m create_validator_proposal\n\u001b[1;32m      <a href='vscode-notebook-cell://wsl%2Bubuntu/home/artemesian/projects/ingl-team/ingl/libs/program/python/create_validator_proposal.ipynb#ch0000000vscode-remote?line=2'>3</a>\u001b[0m \u001b[39mfrom\u001b[39;00m \u001b[39msolana\u001b[39;00m\u001b[39m.\u001b[39;00m\u001b[39mpublickey\u001b[39;00m \u001b[39mimport\u001b[39;00m PublicKey\n",
      "File \u001b[0;32m~/projects/ingl-team/ingl/libs/program/python/instruction.py:2\u001b[0m, in \u001b[0;36m<module>\u001b[0;34m\u001b[0m\n\u001b[1;32m      1\u001b[0m \u001b[39mfrom\u001b[39;00m \u001b[39mborsh_construct\u001b[39;00m \u001b[39mimport\u001b[39;00m \u001b[39m*\u001b[39m\n\u001b[0;32m----> 2\u001b[0m \u001b[39mfrom\u001b[39;00m \u001b[39mstate\u001b[39;00m \u001b[39mimport\u001b[39;00m \u001b[39m*\u001b[39m\n\u001b[1;32m      4\u001b[0m InstructionEnum \u001b[39m=\u001b[39m Enum(\n\u001b[1;32m      5\u001b[0m     \u001b[39m\"\u001b[39m\u001b[39mMintNft\u001b[39m\u001b[39m\"\u001b[39m,\n\u001b[1;32m      6\u001b[0m     \u001b[39m\"\u001b[39m\u001b[39mMintNewCollection\u001b[39m\u001b[39m\"\u001b[39m,\n\u001b[0;32m   (...)\u001b[0m\n\u001b[1;32m     27\u001b[0m     enum_name \u001b[39m=\u001b[39m \u001b[39m\"\u001b[39m\u001b[39mInstructionEnum\u001b[39m\u001b[39m\"\u001b[39m,\n\u001b[1;32m     28\u001b[0m )\n\u001b[1;32m     30\u001b[0m \u001b[39mdef\u001b[39;00m \u001b[39mbuild_instruction\u001b[39m(instruction, value \u001b[39m=\u001b[39m \u001b[39mNone\u001b[39;00m):\n",
      "File \u001b[0;32m~/projects/ingl-team/ingl/libs/program/python/state.py:5\u001b[0m, in \u001b[0;36m<module>\u001b[0;34m\u001b[0m\n\u001b[1;32m      3\u001b[0m \u001b[39mimport\u001b[39;00m \u001b[39mjson\u001b[39;00m\n\u001b[1;32m      4\u001b[0m \u001b[39mfrom\u001b[39;00m \u001b[39msolana\u001b[39;00m\u001b[39m.\u001b[39;00m\u001b[39mkeypair\u001b[39;00m \u001b[39mimport\u001b[39;00m Keypair\n\u001b[0;32m----> 5\u001b[0m \u001b[39mimport\u001b[39;00m \u001b[39mbase58\u001b[39;00m\n\u001b[1;32m      6\u001b[0m \u001b[39mclass\u001b[39;00m \u001b[39mConstants\u001b[39;00m:\n\u001b[1;32m      7\u001b[0m     INGL_NFT_COLLECTION_KEY \u001b[39m=\u001b[39m \u001b[39m\"\u001b[39m\u001b[39mingl_nft_collection_newer\u001b[39m\u001b[39m\"\u001b[39m\n",
      "\u001b[0;31mModuleNotFoundError\u001b[0m: No module named 'base58'"
=======
     "name": "stdout",
     "output_type": "stream",
     "text": [
      "Client is connected\n",
      "ListContainer: \n",
      "    ListContainer: \n",
      "        52\n",
      "        81\n",
      "        41\n",
      "        189\n",
      "        145\n",
      "        100\n",
      "        87\n",
      "        2\n",
      "        158\n",
      "        198\n",
      "        113\n",
      "        5\n",
      "        125\n",
      "        201\n",
      "        73\n",
      "        172\n",
      "        187\n",
      "        62\n",
      "        21\n",
      "        137\n",
      "        93\n",
      "        207\n",
      "        107\n",
      "        13\n",
      "        226\n",
      "        241\n",
      "        145\n",
      "        236\n",
      "        36\n",
      "        13\n",
      "        217\n",
      "        113\n",
      "    ListContainer: \n",
      "        72\n",
      "        81\n",
      "        169\n",
      "        227\n",
      "        162\n",
      "        102\n",
      "        36\n",
      "        144\n",
      "        28\n",
      "        105\n",
      "        189\n",
      "        159\n",
      "        222\n",
      "        71\n",
      "        235\n",
      "        23\n",
      "        64\n",
      "        97\n",
      "        114\n",
      "        152\n",
      "        49\n",
      "        75\n",
      "        205\n",
      "        40\n",
      "        35\n",
      "        245\n",
      "        247\n",
      "        20\n",
      "        99\n",
      "        216\n",
      "        85\n",
      "        217\n",
      "    ListContainer: \n",
      "        132\n",
      "        57\n",
      "        122\n",
      "        243\n",
      "        1\n",
      "        194\n",
      "        204\n",
      "        140\n",
      "        196\n",
      "        15\n",
      "        21\n",
      "        55\n",
      "        87\n",
      "        88\n",
      "        245\n",
      "        227\n",
      "        201\n",
      "        216\n",
      "        171\n",
      "        227\n",
      "        189\n",
      "        132\n",
      "        5\n",
      "        92\n",
      "        230\n",
      "        38\n",
      "        131\n",
      "        27\n",
      "        221\n",
      "        255\n",
      "        9\n",
      "        207\n"
>>>>>>> 94267f71dc0cc28b60a9c0f6af64997feb7ed623
     ]
    }
   ],
   "source": [
    "from instruction import keypair_from_json\n",
    "from processor import create_validator_proposal\n",
    "from solana.publickey import PublicKey\n",
    "from solana.keypair import Keypair\n",
    "from solana.rpc.api import Client\n",
    "from state import Constants as ingl_constants\n",
    "from state import GlobalGems\n",
    "from borsh_construct import *\n",
    "import base64\n",
    "client = Client(\"https://api.devnet.solana.com\")\n",
    "print(\"Client is connected\" if client.is_connected() else \"Client is Disconnected\")\n",
    "payer_keypair = keypair_from_json(\"./keypair.json\")\n",
    "print(payer_keypair.public_key)\n",
    "global_gem_pubkey, _global_gem_bump = PublicKey.find_program_address([bytes(ingl_constants.GLOBAL_GEM_KEY, 'UTF-8')], ingl_constants.INGL_PROGRAM_ID)\n",
    "numeration = GlobalGems.parse(base64.urlsafe_b64decode(client.get_account_info(global_gem_pubkey)['result']['value']['data'][0])).proposal_numeration\n",
<<<<<<< HEAD
    "print(global_gem_pubkey, numeration, GlobalGems.parse(base64.urlsafe_b64decode(client.get_account_info(global_gem_pubkey)['result']['value']['data'][0])))\n",
    "\n",
=======
    "validator_list = GlobalGems.parse(base64.urlsafe_b64decode(client.get_account_info(global_gem_pubkey)['result']['value']['data'][0])).validator_list\n",
    "print(validator_list)\n",
>>>>>>> 94267f71dc0cc28b60a9c0f6af64997feb7ed623
    "\n",
    "create_validator_proposal(payer_keypair, numeration, client)\n",
    "\n"
   ]
  }
 ],
 "metadata": {
  "kernelspec": {
<<<<<<< HEAD
   "display_name": "Python 3.8.10 64-bit",
=======
   "display_name": "Python 3.10.5 64-bit",
>>>>>>> 94267f71dc0cc28b60a9c0f6af64997feb7ed623
   "language": "python",
   "name": "python3"
  },
  "language_info": {
   "codemirror_mode": {
    "name": "ipython",
    "version": 3
   },
   "file_extension": ".py",
   "mimetype": "text/x-python",
   "name": "python",
   "nbconvert_exporter": "python",
   "pygments_lexer": "ipython3",
<<<<<<< HEAD
   "version": "3.8.10"
=======
   "version": "3.10.5"
>>>>>>> 94267f71dc0cc28b60a9c0f6af64997feb7ed623
  },
  "orig_nbformat": 4,
  "vscode": {
   "interpreter": {
<<<<<<< HEAD
    "hash": "916dbcbb3f70747c44a77c7bcd40155683ae19c65e1c03b4aa3499c5328201f1"
=======
    "hash": "369f2c481f4da34e4445cda3fffd2e751bd1c4d706f27375911949ba6bb62e1c"
>>>>>>> 94267f71dc0cc28b60a9c0f6af64997feb7ed623
   }
  }
 },
 "nbformat": 4,
 "nbformat_minor": 2
}
