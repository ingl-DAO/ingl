{
 "cells": [
  {
   "cell_type": "code",
   "execution_count": 2,
   "metadata": {},
   "outputs": [
    {
     "ename": "ValueError",
     "evalue": "('invalid public key input:', 'SYSVAR_STAKE_HISTORY_PUBKEY')",
     "output_type": "error",
     "traceback": [
      "\u001b[1;31m---------------------------------------------------------------------------\u001b[0m",
      "\u001b[1;31mValueError\u001b[0m                                Traceback (most recent call last)",
      "File \u001b[1;32m~\\AppData\\Local\\Packages\\PythonSoftwareFoundation.Python.3.9_qbz5n2kfra8p0\\LocalCache\\local-packages\\Python39\\site-packages\\solana\\publickey.py:35\u001b[0m, in \u001b[0;36mPublicKey.__init__\u001b[1;34m(self, value)\u001b[0m\n\u001b[0;32m     34\u001b[0m \u001b[39mtry\u001b[39;00m:\n\u001b[1;32m---> 35\u001b[0m     \u001b[39mself\u001b[39m\u001b[39m.\u001b[39m_solders \u001b[39m=\u001b[39m Pubkey\u001b[39m.\u001b[39;49mfrom_string(value)\n\u001b[0;32m     36\u001b[0m \u001b[39mexcept\u001b[39;00m \u001b[39mValueError\u001b[39;00m \u001b[39mas\u001b[39;00m err:\n",
      "\u001b[1;31mValueError\u001b[0m: Invalid Base58 string",
      "\nThe above exception was the direct cause of the following exception:\n",
      "\u001b[1;31mValueError\u001b[0m                                Traceback (most recent call last)",
      "\u001b[1;32mc:\\Users\\ckamd\\OneDrive\\Desktop\\ingl_dao\\ingl\\libs\\program\\python\\mint_nft.ipynb Cell 1\u001b[0m in \u001b[0;36m<cell line: 1>\u001b[1;34m()\u001b[0m\n\u001b[1;32m----> <a href='vscode-notebook-cell:/c%3A/Users/ckamd/OneDrive/Desktop/ingl_dao/ingl/libs/program/python/mint_nft.ipynb#ch0000000?line=0'>1</a>\u001b[0m \u001b[39mfrom\u001b[39;00m \u001b[39minstruction\u001b[39;00m \u001b[39mimport\u001b[39;00m keypair_from_json\n\u001b[0;32m      <a href='vscode-notebook-cell:/c%3A/Users/ckamd/OneDrive/Desktop/ingl_dao/ingl/libs/program/python/mint_nft.ipynb#ch0000000?line=1'>2</a>\u001b[0m \u001b[39mfrom\u001b[39;00m \u001b[39mprocessor\u001b[39;00m \u001b[39mimport\u001b[39;00m mint_nft\n\u001b[0;32m      <a href='vscode-notebook-cell:/c%3A/Users/ckamd/OneDrive/Desktop/ingl_dao/ingl/libs/program/python/mint_nft.ipynb#ch0000000?line=2'>3</a>\u001b[0m \u001b[39mfrom\u001b[39;00m \u001b[39msolana\u001b[39;00m\u001b[39m.\u001b[39;00m\u001b[39mkeypair\u001b[39;00m \u001b[39mimport\u001b[39;00m Keypair\n",
      "File \u001b[1;32mc:\\Users\\ckamd\\OneDrive\\Desktop\\ingl_dao\\ingl\\libs\\program\\python\\instruction.py:2\u001b[0m, in \u001b[0;36m<module>\u001b[1;34m\u001b[0m\n\u001b[0;32m      1\u001b[0m \u001b[39mfrom\u001b[39;00m \u001b[39mborsh_construct\u001b[39;00m \u001b[39mimport\u001b[39;00m \u001b[39m*\u001b[39m\n\u001b[1;32m----> 2\u001b[0m \u001b[39mfrom\u001b[39;00m \u001b[39mstate\u001b[39;00m \u001b[39mimport\u001b[39;00m \u001b[39m*\u001b[39m\n\u001b[0;32m      4\u001b[0m InstructionEnum \u001b[39m=\u001b[39m Enum(\n\u001b[0;32m      5\u001b[0m     \u001b[39m\"\u001b[39m\u001b[39mMintNft\u001b[39m\u001b[39m\"\u001b[39m,\n\u001b[0;32m      6\u001b[0m     \u001b[39m\"\u001b[39m\u001b[39mMintNewCollection\u001b[39m\u001b[39m\"\u001b[39m,\n\u001b[1;32m   (...)\u001b[0m\n\u001b[0;32m     25\u001b[0m     enum_name \u001b[39m=\u001b[39m \u001b[39m\"\u001b[39m\u001b[39mInstructionEnum\u001b[39m\u001b[39m\"\u001b[39m,\n\u001b[0;32m     26\u001b[0m )\n\u001b[0;32m     28\u001b[0m \u001b[39mdef\u001b[39;00m \u001b[39mbuild_instruction\u001b[39m(instruction, value \u001b[39m=\u001b[39m \u001b[39mNone\u001b[39;00m):\n",
      "File \u001b[1;32mc:\\Users\\ckamd\\OneDrive\\Desktop\\ingl_dao\\ingl\\libs\\program\\python\\state.py:5\u001b[0m, in \u001b[0;36m<module>\u001b[1;34m\u001b[0m\n\u001b[0;32m      3\u001b[0m \u001b[39mimport\u001b[39;00m \u001b[39mjson\u001b[39;00m\n\u001b[0;32m      4\u001b[0m \u001b[39mfrom\u001b[39;00m \u001b[39msolana\u001b[39;00m\u001b[39m.\u001b[39;00m\u001b[39mkeypair\u001b[39;00m \u001b[39mimport\u001b[39;00m Keypair\n\u001b[1;32m----> 5\u001b[0m \u001b[39mclass\u001b[39;00m \u001b[39mConstants\u001b[39;00m:\n\u001b[0;32m      6\u001b[0m     INGL_NFT_COLLECTION_KEY \u001b[39m=\u001b[39m \u001b[39m\"\u001b[39m\u001b[39mingl_nft_collection_newer\u001b[39m\u001b[39m\"\u001b[39m\n\u001b[0;32m      7\u001b[0m     INGL_MINT_AUTHORITY_KEY \u001b[39m=\u001b[39m \u001b[39m\"\u001b[39m\u001b[39mmint_authority\u001b[39m\u001b[39m\"\u001b[39m\n",
      "File \u001b[1;32mc:\\Users\\ckamd\\OneDrive\\Desktop\\ingl_dao\\ingl\\libs\\program\\python\\state.py:23\u001b[0m, in \u001b[0;36mConstants\u001b[1;34m()\u001b[0m\n\u001b[0;32m     21\u001b[0m STAKE_ACCOUNT_KEY \u001b[39m=\u001b[39m \u001b[39m\"\u001b[39m\u001b[39mstaking_account_key\u001b[39m\u001b[39m\"\u001b[39m\n\u001b[0;32m     22\u001b[0m TREASURY_ACCOUNT_KEY \u001b[39m=\u001b[39m \u001b[39m\"\u001b[39m\u001b[39mTreasury_account_key\u001b[39m\u001b[39m\"\u001b[39m\n\u001b[1;32m---> 23\u001b[0m STAKE_CONFIG_PROGRAM_ID \u001b[39m=\u001b[39m PublicKey(\u001b[39m\"\u001b[39;49m\u001b[39mSYSVAR_STAKE_HISTORY_PUBKEY\u001b[39;49m\u001b[39m\"\u001b[39;49m)\n\u001b[0;32m     25\u001b[0m VALIDATOR_ID_SHARE \u001b[39m=\u001b[39m \u001b[39m15\u001b[39m\n\u001b[0;32m     26\u001b[0m TREASURY_SHARE \u001b[39m=\u001b[39m \u001b[39m13\u001b[39m\n",
      "File \u001b[1;32m~\\AppData\\Local\\Packages\\PythonSoftwareFoundation.Python.3.9_qbz5n2kfra8p0\\LocalCache\\local-packages\\Python39\\site-packages\\solana\\publickey.py:37\u001b[0m, in \u001b[0;36mPublicKey.__init__\u001b[1;34m(self, value)\u001b[0m\n\u001b[0;32m     35\u001b[0m         \u001b[39mself\u001b[39m\u001b[39m.\u001b[39m_solders \u001b[39m=\u001b[39m Pubkey\u001b[39m.\u001b[39mfrom_string(value)\n\u001b[0;32m     36\u001b[0m     \u001b[39mexcept\u001b[39;00m \u001b[39mValueError\u001b[39;00m \u001b[39mas\u001b[39;00m err:\n\u001b[1;32m---> 37\u001b[0m         \u001b[39mraise\u001b[39;00m \u001b[39mValueError\u001b[39;00m(\u001b[39m\"\u001b[39m\u001b[39minvalid public key input:\u001b[39m\u001b[39m\"\u001b[39m, value) \u001b[39mfrom\u001b[39;00m \u001b[39merr\u001b[39;00m\n\u001b[0;32m     38\u001b[0m \u001b[39melif\u001b[39;00m \u001b[39misinstance\u001b[39m(value, \u001b[39mint\u001b[39m):\n\u001b[0;32m     39\u001b[0m     \u001b[39mself\u001b[39m\u001b[39m.\u001b[39m_solders \u001b[39m=\u001b[39m Pubkey(_rjust_pubkey(\u001b[39mbytes\u001b[39m([value])))\n",
      "\u001b[1;31mValueError\u001b[0m: ('invalid public key input:', 'SYSVAR_STAKE_HISTORY_PUBKEY')"
     ]
    }
   ],
   "source": [
    "from instruction import keypair_from_json\n",
    "from processor import mint_nft\n",
    "from solana.keypair import Keypair\n",
    "from solana.rpc.api import Client\n",
    "from state import ClassEnum\n",
    "client = Client(\"https://api.devnet.solana.com\")\n",
    "print(\"Client is connected\" if client.is_connected() else \"Client is Disconnected\")\n",
    "payer_keypair = keypair_from_json(\"./keypair.json\")\n",
    "mint_keypair = Keypair()\n",
    "mint_nft(payer_keypair, mint_keypair, ClassEnum.enum.Benitoite(), client)"
   ]
  }
 ],
 "metadata": {
  "kernelspec": {
   "display_name": "Python 3.9.13 64-bit (windows store)",
   "language": "python",
   "name": "python3"
  },
  "language_info": {
   "codemirror_mode": {
    "name": "ipython",
    "version": 3
   },
   "file_extension": ".py",
   "mimetype": "text/x-python",
   "name": "python",
   "nbconvert_exporter": "python",
   "pygments_lexer": "ipython3",
   "version": "3.9.13"
  },
  "orig_nbformat": 4,
  "vscode": {
   "interpreter": {
    "hash": "08b78e4066f9d28ced5f76d81dbed32db21884263686bb618ace706836f0dcaa"
   }
  }
 },
 "nbformat": 4,
 "nbformat_minor": 2
}
