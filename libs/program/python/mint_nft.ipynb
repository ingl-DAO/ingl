{
 "cells": [
  {
   "cell_type": "code",
   "execution_count": 1,
   "metadata": {},
   "outputs": [
    {
     "name": "stdout",
     "output_type": "stream",
     "text": [
      "Client is connected\n",
      "[F38YqVB3Jaj4JFnHiuLiWmoLga3nWRMZmDxC87UcVcCw, CGTJt6gmoxwJLb1TNdRw5DNV9nxMfnE99snJJWsRXVzS]\n",
      "{'jsonrpc': '2.0', 'result': '5Hwyi7bQDD2aQUedejsdpiYiccEXFT9QZ8fys8LWV6u8SvJ6qMFaSPs8AGFybKep2X1rk9oX5xfC5piDUkMc6Xk', 'id': 2}\n",
      "{'jsonrpc': '2.0', 'result': '3dfXpgZ6bNKtQR6Ezf3wMCP1dNEtFJvsW3RqsdbUqBrjX3kJgz7SnYG8RWB4oNb9kjvc4SbHxqETuciY8QN8vVm', 'id': 4}\n"
     ]
    }
   ],
   "source": [
    "from instruction import keypair_from_json\n",
    "from processor import mint_nft\n",
    "from solana.keypair import Keypair\n",
    "from solana.rpc.api import Client\n",
    "from state import ClassEnum\n",
    "client = Client(\"https://api.devnet.solana.com\")\n",
    "print(\"Client is connected\" if client.is_connected() else \"Client is Disconnected\")\n",
    "payer_keypair = keypair_from_json(\"./keypair.json\")\n",
    "mints = [Keypair() for _ in range(2)]\n",
    "print([i.public_key for i in mints])\n",
    "for mint_keypair in mints:\n",
    "    print(mint_nft(payer_keypair, mint_keypair, ClassEnum.enum.Serendibite(), client))"
   ]
  }
 ],
 "metadata": {
  "kernelspec": {
   "display_name": "Python 3.10.5 64-bit",
   "language": "python",
   "name": "python3"
  },
  "language_info": {
   "codemirror_mode": {
    "name": "ipython",
    "version": 3
   },
   "file_extension": ".py",
   "mimetype": "text/x-python",
   "name": "python",
   "nbconvert_exporter": "python",
   "pygments_lexer": "ipython3",
   "version": "3.10.5"
  },
  "orig_nbformat": 4,
  "vscode": {
   "interpreter": {
    "hash": "369f2c481f4da34e4445cda3fffd2e751bd1c4d706f27375911949ba6bb62e1c"
   }
  }
 },
 "nbformat": 4,
 "nbformat_minor": 2
}
