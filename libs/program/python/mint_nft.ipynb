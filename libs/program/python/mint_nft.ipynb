{
 "cells": [
  {
   "cell_type": "code",
   "execution_count": 1,
   "metadata": {},
   "outputs": [
    {
     "name": "stdout",
     "output_type": "stream",
     "text": [
      "Client is connected\n"
     ]
    },
    {
     "ename": "FileNotFoundError",
     "evalue": "[Errno 2] No such file or directory: './keypair.json'",
     "output_type": "error",
     "traceback": [
      "\u001b[1;31m---------------------------------------------------------------------------\u001b[0m",
      "\u001b[1;31mFileNotFoundError\u001b[0m                         Traceback (most recent call last)",
      "\u001b[1;32mf:\\BLOCKCHAIN\\ingl\\ingl\\libs\\program\\python\\mint_nft.ipynb Cell 1\u001b[0m in \u001b[0;36m<cell line: 8>\u001b[1;34m()\u001b[0m\n\u001b[0;32m      <a href='vscode-notebook-cell:/f%3A/BLOCKCHAIN/ingl/ingl/libs/program/python/mint_nft.ipynb#ch0000000?line=5'>6</a>\u001b[0m client \u001b[39m=\u001b[39m Client(\u001b[39m\"\u001b[39m\u001b[39mhttps://api.devnet.solana.com\u001b[39m\u001b[39m\"\u001b[39m)\n\u001b[0;32m      <a href='vscode-notebook-cell:/f%3A/BLOCKCHAIN/ingl/ingl/libs/program/python/mint_nft.ipynb#ch0000000?line=6'>7</a>\u001b[0m \u001b[39mprint\u001b[39m(\u001b[39m\"\u001b[39m\u001b[39mClient is connected\u001b[39m\u001b[39m\"\u001b[39m \u001b[39mif\u001b[39;00m client\u001b[39m.\u001b[39mis_connected() \u001b[39melse\u001b[39;00m \u001b[39m\"\u001b[39m\u001b[39mClient is Disconnected\u001b[39m\u001b[39m\"\u001b[39m)\n\u001b[1;32m----> <a href='vscode-notebook-cell:/f%3A/BLOCKCHAIN/ingl/ingl/libs/program/python/mint_nft.ipynb#ch0000000?line=7'>8</a>\u001b[0m payer_keypair \u001b[39m=\u001b[39m keypair_from_json(\u001b[39m\"\u001b[39;49m\u001b[39m./keypair.json\u001b[39;49m\u001b[39m\"\u001b[39;49m)\n\u001b[0;32m      <a href='vscode-notebook-cell:/f%3A/BLOCKCHAIN/ingl/ingl/libs/program/python/mint_nft.ipynb#ch0000000?line=8'>9</a>\u001b[0m mint_keypair \u001b[39m=\u001b[39m Keypair()\n\u001b[0;32m     <a href='vscode-notebook-cell:/f%3A/BLOCKCHAIN/ingl/ingl/libs/program/python/mint_nft.ipynb#ch0000000?line=9'>10</a>\u001b[0m mint_nft(payer_keypair, mint_keypair, ClassEnum\u001b[39m.\u001b[39menum\u001b[39m.\u001b[39mBenitoite(), client)\n",
      "File \u001b[1;32mf:\\BLOCKCHAIN\\ingl\\ingl\\libs\\program\\python\\state.py:32\u001b[0m, in \u001b[0;36mkeypair_from_json\u001b[1;34m(filepath)\u001b[0m\n\u001b[0;32m     31\u001b[0m \u001b[39mdef\u001b[39;00m \u001b[39mkeypair_from_json\u001b[39m(filepath):\n\u001b[1;32m---> 32\u001b[0m     keypair \u001b[39m=\u001b[39m Keypair\u001b[39m.\u001b[39mfrom_secret_key(json\u001b[39m.\u001b[39mload(\u001b[39mopen\u001b[39;49m(filepath)))\n\u001b[0;32m     33\u001b[0m     \u001b[39mreturn\u001b[39;00m keypair\n",
      "\u001b[1;31mFileNotFoundError\u001b[0m: [Errno 2] No such file or directory: './keypair.json'"
     ]
    }
   ],
   "source": [
    "from instruction import keypair_from_json\n",
    "from processor import mint_nft\n",
    "from solana.keypair import Keypair\n",
    "from solana.rpc.api import Client\n",
    "from state import ClassEnum\n",
    "client = Client(\"https://api.devnet.solana.com\")\n",
    "print(\"Client is connected\" if client.is_connected() else \"Client is Disconnected\")\n",
    "payer_keypair = keypair_from_json(\"./keypair.json\")\n",
    "mint_keypair = Keypair()\n",
    "mint_nft(payer_keypair, mint_keypair, ClassEnum.enum.Benitoite(), client)"
   ]
  }
 ],
 "metadata": {
  "kernelspec": {
   "display_name": "Python 3.10.5 64-bit",
   "language": "python",
   "name": "python3"
  },
  "language_info": {
   "codemirror_mode": {
    "name": "ipython",
    "version": 3
   },
   "file_extension": ".py",
   "mimetype": "text/x-python",
   "name": "python",
   "nbconvert_exporter": "python",
   "pygments_lexer": "ipython3",
   "version": "3.10.5"
  },
  "orig_nbformat": 4,
  "vscode": {
   "interpreter": {
    "hash": "369f2c481f4da34e4445cda3fffd2e751bd1c4d706f27375911949ba6bb62e1c"
   }
  }
 },
 "nbformat": 4,
 "nbformat_minor": 2
}
