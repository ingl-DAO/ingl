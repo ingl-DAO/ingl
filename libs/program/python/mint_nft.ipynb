{
 "cells": [
  {
   "cell_type": "code",
   "execution_count": 2,
   "metadata": {},
   "outputs": [
    {
     "data": {
      "text/html": [
       "<pre style=\"white-space:pre;overflow-x:auto;line-height:normal;font-family:Menlo,'DejaVu Sans Mono',consolas,'Courier New',monospace\">Client is connected\n",
       "</pre>\n"
      ],
      "text/plain": [
       "Client is connected\n"
      ]
     },
     "metadata": {},
     "output_type": "display_data"
    },
    {
     "data": {
      "text/html": [
       "<pre style=\"white-space:pre;overflow-x:auto;line-height:normal;font-family:Menlo,'DejaVu Sans Mono',consolas,'Courier New',monospace\"><span style=\"font-weight: bold\">[</span>Fd2TzXr8ojQejwYUaHKtmjfUteMhVF2cdduTmXgzH9g3<span style=\"font-weight: bold\">]</span>\n",
       "</pre>\n"
      ],
      "text/plain": [
       "\u001b[1m[\u001b[0mFd2TzXr8ojQejwYUaHKtmjfUteMhVF2cdduTmXgzH9g3\u001b[1m]\u001b[0m\n"
      ]
     },
     "metadata": {},
     "output_type": "display_data"
    },
    {
     "data": {
      "text/html": [
       "<pre style=\"white-space:pre;overflow-x:auto;line-height:normal;font-family:Menlo,'DejaVu Sans Mono',consolas,'Courier New',monospace\">Transaction Id: <a href=\"https://explorer.solana.com/tx/2eFfaUbBfBATbp53x386EL9xW8p3DYmJGq3Y3AxWjmcaWD56GgmxT5PD8o1cXakGhXsF2sULcmSfS6rezJqLgsqK?cluster=devnet\" target=\"_blank\">2eFfaUbBfBATbp53x386EL9xW8p3DYmJGq3Y3AxWjmcaWD56GgmxT5PD8o1cXakGhXsF2sULcmSfS6rezJqLgsqK</a>\n",
       "</pre>\n"
      ],
      "text/plain": [
       "Transaction Id: \u001b]8;id=752195;https://explorer.solana.com/tx/2eFfaUbBfBATbp53x386EL9xW8p3DYmJGq3Y3AxWjmcaWD56GgmxT5PD8o1cXakGhXsF2sULcmSfS6rezJqLgsqK?cluster=devnet\u001b\\2eFfaUbBfBATbp53x386EL9xW8p3DYmJGq3Y3AxWjmcaWD56GgmxT5PD8o1cXakGhXsF2sULcmSfS6rezJqLgsqK\u001b]8;;\u001b\\\n"
      ]
     },
     "metadata": {},
     "output_type": "display_data"
    }
   ],
   "source": [
    "from instruction import keypair_from_json\n",
    "from processor import mint_nft\n",
    "from solana.keypair import Keypair\n",
    "from solana.rpc.async_api import AsyncClient as Client\n",
    "from state import ClassEnum, rpc_url\n",
    "from rich import print\n",
    "client = Client(rpc_url.target_network)\n",
    "client_state = await client.is_connected()\n",
    "print(\"Client is connected\" if client_state else \"Client is Disconnected\")\n",
    "payer_keypair = keypair_from_json(\"./keypair.json\")\n",
    "mints = [Keypair() for _ in range(1)]\n",
    "print([i.public_key for i in mints])\n",
    "for mint_keypair in mints:\n",
    "    client = Client(rpc_url.target_network)\n",
    "    res = await mint_nft(payer_keypair, mint_keypair, ClassEnum.enum.Serendibite(), client)\n",
    "    print(res)"
   ]
  }
 ],
 "metadata": {
  "kernelspec": {
   "display_name": "Python 3.10.5 64-bit",
   "language": "python",
   "name": "python3"
  },
  "language_info": {
   "codemirror_mode": {
    "name": "ipython",
    "version": 3
   },
   "file_extension": ".py",
   "mimetype": "text/x-python",
   "name": "python",
   "nbconvert_exporter": "python",
   "pygments_lexer": "ipython3",
   "version": "3.10.5"
  },
  "orig_nbformat": 4,
  "vscode": {
   "interpreter": {
    "hash": "369f2c481f4da34e4445cda3fffd2e751bd1c4d706f27375911949ba6bb62e1c"
   }
  }
 },
 "nbformat": 4,
 "nbformat_minor": 2
}
