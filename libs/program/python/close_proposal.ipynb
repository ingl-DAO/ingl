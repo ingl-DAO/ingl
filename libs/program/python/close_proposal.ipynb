{
 "cells": [
  {
   "cell_type": "code",
   "execution_count": null,
   "metadata": {},
   "outputs": [],
   "source": [
    "from instruction import keypair_from_json\n",
    "from processor import close_proposal\n",
    "from solana.publickey import PublicKey\n",
    "from solana.keypair import Keypair\n",
    "from solana.rpc.async_api import AsyncClient as Client\n",
    "from state import Constants as ingl_constants\n",
    "from state import GlobalGems, rpc_url\n",
    "from borsh_construct import *\n",
    "from rich import print\n",
    "import base64\n",
    "client = Client(rpc_url.target_network)\n",
    "client_state = await client.is_connected()\n",
    "print(\"Client is connected\" if client_state else \"Client is Disconnected\")\n",
    "payer_keypair = keypair_from_json(\"./keypair.json\")\n",
    "\n",
    "\n",
    "global_gem_pubkey, _global_gem_bump = PublicKey.find_program_address([bytes(ingl_constants.GLOBAL_GEM_KEY, 'UTF-8')], ingl_constants.INGL_PROGRAM_ID)\n",
    "account_data = await client.get_account_info(global_gem_pubkey)\n",
    "numeration = GlobalGems.parse(base64.urlsafe_b64decode(account_data['result']['value']['data'][0])).proposal_numeration\n",
    "\n",
    "res = await close_proposal(payer_keypair, numeration-1, client)\n",
    "print(res)"
   ]
  }
 ],
 "metadata": {
  "kernelspec": {
   "display_name": "Python 3.10.5 64-bit",
   "language": "python",
   "name": "python3"
  },
  "language_info": {
   "codemirror_mode": {
    "name": "ipython",
    "version": 3
   },
   "file_extension": ".py",
   "mimetype": "text/x-python",
   "name": "python",
   "nbconvert_exporter": "python",
   "pygments_lexer": "ipython3",
   "version": "3.10.5"
  },
  "orig_nbformat": 4,
  "vscode": {
   "interpreter": {
    "hash": "369f2c481f4da34e4445cda3fffd2e751bd1c4d706f27375911949ba6bb62e1c"
   }
  }
 },
 "nbformat": 4,
 "nbformat_minor": 2
}
