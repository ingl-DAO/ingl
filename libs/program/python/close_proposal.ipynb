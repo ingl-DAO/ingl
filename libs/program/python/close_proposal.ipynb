{
 "cells": [
  {
   "cell_type": "code",
   "execution_count": 1,
   "metadata": {},
   "outputs": [
    {
     "data": {
      "text/html": [
       "<pre style=\"white-space:pre;overflow-x:auto;line-height:normal;font-family:Menlo,'DejaVu Sans Mono',consolas,'Courier New',monospace\">Client is connected\n",
       "</pre>\n"
      ],
      "text/plain": [
       "Client is connected\n"
      ]
     },
     "metadata": {},
     "output_type": "display_data"
    },
    {
     "data": {
      "text/html": [
       "<pre style=\"white-space:pre;overflow-x:auto;line-height:normal;font-family:Menlo,'DejaVu Sans Mono',consolas,'Courier New',monospace\">Error: <span style=\"font-weight: bold\">{</span><span style=\"color: #008000; text-decoration-color: #008000\">'code'</span>: <span style=\"color: #008080; text-decoration-color: #008080; font-weight: bold\">-32002</span>, <span style=\"color: #008000; text-decoration-color: #008000\">'message'</span>: <span style=\"color: #008000; text-decoration-color: #008000\">'Transaction simulation failed: Error processing Instruction 0: Provided owner </span>\n",
       "<span style=\"color: #008000; text-decoration-color: #008000\">is not allowed'</span>, <span style=\"color: #008000; text-decoration-color: #008000\">'data'</span>: <span style=\"font-weight: bold\">{</span><span style=\"color: #008000; text-decoration-color: #008000\">'accounts'</span>: <span style=\"color: #800080; text-decoration-color: #800080; font-style: italic\">None</span>, <span style=\"color: #008000; text-decoration-color: #008000\">'err'</span>: <span style=\"font-weight: bold\">{</span><span style=\"color: #008000; text-decoration-color: #008000\">'InstructionError'</span>: <span style=\"font-weight: bold\">[</span><span style=\"color: #008080; text-decoration-color: #008080; font-weight: bold\">0</span>, <span style=\"color: #008000; text-decoration-color: #008000\">'IllegalOwner'</span><span style=\"font-weight: bold\">]}</span>, <span style=\"color: #008000; text-decoration-color: #008000\">'logs'</span>: <span style=\"font-weight: bold\">[</span><span style=\"color: #008000; text-decoration-color: #008000\">'Program </span>\n",
       "<span style=\"color: #008000; text-decoration-color: #008000\">4LzASGSZoAJecciq81AJNN7gbU8F18BQ4g8ZPjJvJL1m invoke [1]'</span>, <span style=\"color: #008000; text-decoration-color: #008000\">'Program 4LzASGSZoAJecciq81AJNN7gbU8F18BQ4g8ZPjJvJL1m </span>\n",
       "<span style=\"color: #008000; text-decoration-color: #008000\">consumed 840 of 200000 compute units'</span>, <span style=\"color: #008000; text-decoration-color: #008000\">'Program 4LzASGSZoAJecciq81AJNN7gbU8F18BQ4g8ZPjJvJL1m failed: Provided owner</span>\n",
       "<span style=\"color: #008000; text-decoration-color: #008000\">is not allowed'</span><span style=\"font-weight: bold\">]</span>, <span style=\"color: #008000; text-decoration-color: #008000\">'unitsConsumed'</span>: <span style=\"color: #008080; text-decoration-color: #008080; font-weight: bold\">0</span><span style=\"font-weight: bold\">}}</span>\n",
       "</pre>\n"
      ],
      "text/plain": [
       "Error: \u001b[1m{\u001b[0m\u001b[32m'code'\u001b[0m: \u001b[1;36m-32002\u001b[0m, \u001b[32m'message'\u001b[0m: \u001b[32m'Transaction simulation failed: Error processing Instruction 0: Provided owner \u001b[0m\n",
       "\u001b[32mis not allowed'\u001b[0m, \u001b[32m'data'\u001b[0m: \u001b[1m{\u001b[0m\u001b[32m'accounts'\u001b[0m: \u001b[3;35mNone\u001b[0m, \u001b[32m'err'\u001b[0m: \u001b[1m{\u001b[0m\u001b[32m'InstructionError'\u001b[0m: \u001b[1m[\u001b[0m\u001b[1;36m0\u001b[0m, \u001b[32m'IllegalOwner'\u001b[0m\u001b[1m]\u001b[0m\u001b[1m}\u001b[0m, \u001b[32m'logs'\u001b[0m: \u001b[1m[\u001b[0m\u001b[32m'Program \u001b[0m\n",
       "\u001b[32m4LzASGSZoAJecciq81AJNN7gbU8F18BQ4g8ZPjJvJL1m invoke \u001b[0m\u001b[32m[\u001b[0m\u001b[32m1\u001b[0m\u001b[32m]\u001b[0m\u001b[32m'\u001b[0m, \u001b[32m'Program 4LzASGSZoAJecciq81AJNN7gbU8F18BQ4g8ZPjJvJL1m \u001b[0m\n",
       "\u001b[32mconsumed 840 of 200000 compute units'\u001b[0m, \u001b[32m'Program 4LzASGSZoAJecciq81AJNN7gbU8F18BQ4g8ZPjJvJL1m failed: Provided owner\u001b[0m\n",
       "\u001b[32mis not allowed'\u001b[0m\u001b[1m]\u001b[0m, \u001b[32m'unitsConsumed'\u001b[0m: \u001b[1;36m0\u001b[0m\u001b[1m}\u001b[0m\u001b[1m}\u001b[0m\n"
      ]
     },
     "metadata": {},
     "output_type": "display_data"
    }
   ],
   "source": [
    "from instruction import keypair_from_json\n",
    "from processor import close_proposal\n",
    "from solana.publickey import PublicKey\n",
    "from solana.keypair import Keypair\n",
    "from solana.rpc.async_api import AsyncClient as Client\n",
    "from state import Constants as ingl_constants\n",
    "from state import GlobalGems, rpc_url\n",
    "from borsh_construct import *\n",
    "from rich import print\n",
    "import base64\n",
    "client = Client(rpc_url.target_network)\n",
    "client_state = await client.is_connected()\n",
    "print(\"Client is connected\" if client_state else \"Client is Disconnected\")\n",
    "payer_keypair = keypair_from_json(\"./keypair.json\")\n",
    "\n",
    "\n",
    "global_gem_pubkey, _global_gem_bump = PublicKey.find_program_address([bytes(ingl_constants.GLOBAL_GEM_KEY, 'UTF-8')], ingl_constants.INGL_PROGRAM_ID)\n",
    "account_data = await client.get_account_info(global_gem_pubkey)\n",
    "numeration = GlobalGems.parse(base64.urlsafe_b64decode(account_data['result']['value']['data'][0])).proposal_numeration\n",
    "\n",
    "res = await close_proposal(payer_keypair, numeration-1, client)\n",
    "print(res)"
   ]
  }
 ],
 "metadata": {
  "kernelspec": {
   "display_name": "Python 3.10.5 64-bit",
   "language": "python",
   "name": "python3"
  },
  "language_info": {
   "codemirror_mode": {
    "name": "ipython",
    "version": 3
   },
   "file_extension": ".py",
   "mimetype": "text/x-python",
   "name": "python",
   "nbconvert_exporter": "python",
   "pygments_lexer": "ipython3",
   "version": "3.10.5"
  },
  "orig_nbformat": 4,
  "vscode": {
   "interpreter": {
    "hash": "369f2c481f4da34e4445cda3fffd2e751bd1c4d706f27375911949ba6bb62e1c"
   }
  }
 },
 "nbformat": 4,
 "nbformat_minor": 2
}
