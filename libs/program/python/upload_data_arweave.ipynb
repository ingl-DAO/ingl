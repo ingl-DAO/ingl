{
 "cells": [
  {
   "cell_type": "code",
   "execution_count": 1,
   "metadata": {},
   "outputs": [
    {
     "data": {
      "text/plain": [
       "('sGkCs5By-CKEYV83z04qNc66Q_X90YEuL6J9fhfICi0', 0.544663347664)"
      ]
     },
     "execution_count": 1,
     "metadata": {},
     "output_type": "execute_result"
    }
   ],
   "source": [
    "\n",
    "from arweave.arweave_lib import Wallet, Transaction, API_URL\n",
    "from arweave.transaction_uploader import get_uploader\n",
    "import json\n",
    "import os\n",
    "from tqdm import tqdm\n",
    "import cv2\n",
    "\n",
    "# Load your arweave wallet\n",
    "your_ar_wallet = Wallet('arweave-key.json')\n",
    "your_ar_wallet.address, your_ar_wallet.balance"
   ]
  },
  {
   "cell_type": "code",
   "execution_count": 3,
   "metadata": {},
   "outputs": [
    {
     "name": "stderr",
     "output_type": "stream",
     "text": [
      "100%|██████████| 1/1 [01:13<00:00, 73.47s/it]\n"
     ]
    },
    {
     "data": {
      "text/plain": [
       "{'Emerald': {'Mythic': 'https://arweave.net/YrEYF6RBkZCSMvBXJkw63g4WienAGGOlHqOl3QdTr1E'}}"
      ]
     },
     "execution_count": 3,
     "metadata": {},
     "output_type": "execute_result"
    }
   ],
   "source": [
    "Classes = [\"Ruby\", \"Diamond\", \"Sapphire\", \"Emerald\", \"Serendibite\", \"Benitoite\"]\n",
    "\n",
    "Report = {}\n",
    "for ingl_class in tqdm(Classes):\n",
    "\n",
    "    arr = os.listdir(f'./Gems/{ingl_class}')\n",
    "    t_dict = {}\n",
    "\n",
    "    for vid in arr:\n",
    "\n",
    "        with open(f'./Gems/{ingl_class}/{vid}', 'rb') as file_handler:\n",
    "            tx = Transaction(your_ar_wallet, file_handler=file_handler, file_path=f'./Gems/{ingl_class}/{vid}')\n",
    "            tx.add_tag('Content-Type', 'video/mp4')\n",
    "            tx.sign()\n",
    "\n",
    "            uploader = get_uploader(tx, file_handler)\n",
    "\n",
    "            while not uploader.is_complete:\n",
    "                uploader.upload_chunk()\n",
    "\n",
    "                # logger.info(\"{}% complete, {}/{}\".format(\n",
    "                #     uploader.pct_complete, uploader.uploaded_chunks, uploader.total_chunks\n",
    "                # ))\n",
    "\n",
    "        vid_url = API_URL+\"/\"+tx.id\n",
    "\n",
    "        imgs = cv2.VideoCapture(f'./Gems/{ingl_class}/{vid}')\n",
    "        imgs.set(1,155)\n",
    "        ret, frame = imgs.read()\n",
    "        cv2.imwrite(f'./Gem_images/{ingl_class}_{vid.split(\".\")[0]}.jpg', frame)\n",
    "\n",
    "        with open(f'./Gem_images/{ingl_class}_{vid.split(\".\")[0]}.jpg', 'rb') as f:\n",
    "            img_in_bytes = f.read()\n",
    "\n",
    "        transaction = Transaction(your_ar_wallet, data=img_in_bytes)\n",
    "        transaction.add_tag('Content-Type', 'image/png')\n",
    "        transaction.sign()\n",
    "        transaction.send()\n",
    "\n",
    "        image_url = API_URL+\"/\"+transaction.id\n",
    "\n",
    "        metadata = {\n",
    "        \"name\": \"Ingl-Gem\",\n",
    "        \"symbol\": \"I-Gem\",\n",
    "        \"description\": \"Democratizing The Process of Creating Solana Validators\",\n",
    "        \"seller_fee_basis_points\": 300,\n",
    "        \"external_url\": \"https://www.ingl.io\",\n",
    "        \"attributes\": [\n",
    "            {\n",
    "                \"trait_type\": \"Generation\",\n",
    "                \"value\": \"1\",\n",
    "            },\n",
    "            {\n",
    "                \"trait_type\": \"Class\",\n",
    "                \"value\": ingl_class,\n",
    "            },\n",
    "            {\n",
    "                \"trait_type\": \"Rarity\",\n",
    "                \"value\": vid.split(\".\")[0],\n",
    "            },\n",
    "        ],\n",
    "        \"collection\": {\n",
    "            \"name\": \"Ingl-Gem\",\n",
    "            \"family\": \"Ingl Collections\",\n",
    "        },\n",
    "        \"properties\": {\n",
    "            \"files\": [\n",
    "                {\n",
    "                    \"uri\": vid_url,\n",
    "                    \"type\": \"video/mp4\",\n",
    "                },\n",
    "            ],\n",
    "            \"category\": \"video\",\n",
    "            \"maxSupply\": None,\n",
    "            \"creators\":[],\n",
    "        },\n",
    "        \"image\": image_url,\n",
    "        }\n",
    "\n",
    "\n",
    "            # Upload metadata to Arweave\n",
    "        meta_transaction = Transaction(your_ar_wallet, data=json.dumps(metadata))\n",
    "        meta_transaction.add_tag('Content-Type', 'text/html')\n",
    "        meta_transaction.sign()\n",
    "        meta_transaction.send()\n",
    "\n",
    "        metadata_url = API_URL+\"/\"+meta_transaction.id\n",
    "        t_dict[vid.split(\".\")[0]] = metadata_url\n",
    "    Report[ingl_class] = t_dict\n",
    "with open(\"uploaded_images.json\", \"w\") as outfile:\n",
    "    json.dump(Report, outfile)\n",
    "Report"
   ]
  }
 ],
 "metadata": {
  "kernelspec": {
   "display_name": "Python 3.9.13 64-bit (windows store)",
   "language": "python",
   "name": "python3"
  },
  "language_info": {
   "codemirror_mode": {
    "name": "ipython",
    "version": 3
   },
   "file_extension": ".py",
   "mimetype": "text/x-python",
   "name": "python",
   "nbconvert_exporter": "python",
   "pygments_lexer": "ipython3",
   "version": "3.9.13"
  },
  "orig_nbformat": 4,
  "vscode": {
   "interpreter": {
    "hash": "08b78e4066f9d28ced5f76d81dbed32db21884263686bb618ace706836f0dcaa"
   }
  }
 },
 "nbformat": 4,
 "nbformat_minor": 2
}
