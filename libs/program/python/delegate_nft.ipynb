{
 "cells": [
  {
   "cell_type": "code",
   "execution_count": null,
   "metadata": {},
   "outputs": [],
   "source": [
    "from instruction import keypair_from_json\n",
    "from processor import delegate_nft\n",
    "from solana.publickey import PublicKey\n",
    "from solana.rpc.async_api import AsyncClient as Client\n",
    "from state import ClassEnum, rpc_url\n",
    "from rich import print\n",
    "client = Client(rpc_url.target_network)\n",
    "client_state = await client.is_connected()\n",
    "print(\"Client is connected\" if client_state else \"Client is Disconnected\")\n",
    "payer_keypair = keypair_from_json(\"./keypair.json\")\n",
    "\n",
    "vote_account_id = PublicKey(\"DYkzezLkKvQpVZYH9i7uQKiu3YsfPJaoiHMeveRnAxdN\")\n",
    "\n",
    "mints = [PublicKey(i) for i in [\"F87pJsqUYuTm8YwMJYKXwgxN1UjfcnomKPjRfAazUETa\",]]\n",
    "\n",
    "for  mint_pubkey in mints:\n",
    "    client = Client(rpc_url.target_network)\n",
    "    res = await delegate_nft(payer_keypair, mint_pubkey, vote_account_id, client)\n",
    "    print(res)"
   ]
  }
 ],
 "metadata": {
  "kernelspec": {
   "display_name": "Python 3.10.5 64-bit",
   "language": "python",
   "name": "python3"
  },
  "language_info": {
   "codemirror_mode": {
    "name": "ipython",
    "version": 3
   },
   "file_extension": ".py",
   "mimetype": "text/x-python",
   "name": "python",
   "nbconvert_exporter": "python",
   "pygments_lexer": "ipython3",
   "version": "3.10.5"
  },
  "orig_nbformat": 4,
  "vscode": {
   "interpreter": {
    "hash": "369f2c481f4da34e4445cda3fffd2e751bd1c4d706f27375911949ba6bb62e1c"
   }
  }
 },
 "nbformat": 4,
 "nbformat_minor": 2
}
