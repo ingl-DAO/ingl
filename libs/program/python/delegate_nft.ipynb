{
 "cells": [
  {
   "cell_type": "code",
   "execution_count": 2,
   "metadata": {},
   "outputs": [
    {
     "name": "stdout",
     "output_type": "stream",
     "text": [
      "Client is connected\n",
      "SysvarStakeHistory1111111111111111111111111\n",
      "{'jsonrpc': '2.0', 'result': 'YuZ8L4yv2DvfXicED9bVVzxnrPNGG8qY4cEGjjA3bT9ddBHnXwoKHYjdarETs2xCXF2zwCDaJEukHwFPCASneXG', 'id': 2}\n",
      "SysvarStakeHistory1111111111111111111111111\n",
      "{'jsonrpc': '2.0', 'result': 'kppCPPni1xbzt83BHouMES6jQFpmx8QmrDb7MkfUmnnuJ8BL18abVqir4odPUE69UwZvUZSjYFhEg9vxu41pdZ2', 'id': 4}\n",
      "SysvarStakeHistory1111111111111111111111111\n",
      "{'jsonrpc': '2.0', 'result': '3fczVm44bAdLQMwUt8PQPGwhc624gB6YcHY8fSocebMrx5ZRS1Em3GS4URhkcG8mS4LP99JwgJxTGD6aMp7jawKQ', 'id': 6}\n",
      "SysvarStakeHistory1111111111111111111111111\n",
      "{'jsonrpc': '2.0', 'result': '5f1azVgojg8TQgdzCzNqT2EVPG3vDW2kCBVZKzaZBjgbghH8SWcDT1jpxq6metQffg52k5VAofsJZcww5op9hmdQ', 'id': 8}\n",
      "SysvarStakeHistory1111111111111111111111111\n",
      "{'jsonrpc': '2.0', 'result': 'x24NFWDpmconyNnVW196MWL1VTEvE2zNuxrdhTswafUrtEKX3BY3GB7Kc95K18Rc8p6acnRD8jmDLAuJovFXKNH', 'id': 10}\n",
      "SysvarStakeHistory1111111111111111111111111\n",
      "{'jsonrpc': '2.0', 'result': '2GJbUYtBYpHY1gKafTd7d6kPFBbx5orA9SZHV2VcqCe5Hq7Bmu3WSS7Uf1XkV1yjsYnLU329QBNkCEkdypX7NXjk', 'id': 12}\n"
     ]
    }
   ],
   "source": [
    "from instruction import keypair_from_json\n",
    "from processor import delegate_nft\n",
    "from solana.publickey import PublicKey\n",
    "from solana.rpc.api import Client\n",
    "from state import ClassEnum\n",
    "client = Client(\"https://api.devnet.solana.com\")\n",
    "print(\"Client is connected\" if client.is_connected() else \"Client is Disconnected\")\n",
    "payer_keypair = keypair_from_json(\"./keypair.json\")\n",
    "\n",
    "vote_account_id = PublicKey(\"HX3Ue63ubqsVE3JEX2D8yRJW1mKZMhuFfQgKben7HXrp\")\n",
    "\n",
    "mints = [PublicKey(i) for i in [\"GyEtd6p68XHXLeZSy3yyGq5oUsZhPJTb85qESxY37Y16\", \"FEdUp6Sy8P1BawFqDhWGKfnhoykRDf9sbpTQUYkpNFsf\", \"G4w2W6pD1wQxqfJABKkAgAtv7AiJTtVCDRG2W9aLmXPC\", \"E2aH4Z5ZiuF867uhZK2aLT3JY66uFsDei5C6S6XW5uaK\", \"7edoXXSE6VxzQLV8hsHLJs3v26M5c8PC7DcSSQMyQTyL\", \"GphwUfnQRDw6mQby7FNgmYqxdeCUU7Lvgm9FGhWXswtp\"]]\n",
    "\n",
    "for  mint_pubkey in mints:\n",
    "    print(delegate_nft(payer_keypair, mint_pubkey, vote_account_id, client))"
   ]
  }
 ],
 "metadata": {
  "kernelspec": {
   "display_name": "Python 3.9.13 64-bit (windows store)",
   "language": "python",
   "name": "python3"
  },
  "language_info": {
   "codemirror_mode": {
    "name": "ipython",
    "version": 3
   },
   "file_extension": ".py",
   "mimetype": "text/x-python",
   "name": "python",
   "nbconvert_exporter": "python",
   "pygments_lexer": "ipython3",
   "version": "3.9.13"
  },
  "orig_nbformat": 4,
  "vscode": {
   "interpreter": {
    "hash": "08b78e4066f9d28ced5f76d81dbed32db21884263686bb618ace706836f0dcaa"
   }
  }
 },
 "nbformat": 4,
 "nbformat_minor": 2
}
