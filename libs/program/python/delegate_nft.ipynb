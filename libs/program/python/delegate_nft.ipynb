{
 "cells": [
  {
   "cell_type": "code",
   "execution_count": 2,
   "metadata": {},
   "outputs": [
    {
     "name": "stdout",
     "output_type": "stream",
     "text": [
      "Client is connected\n",
      "{'jsonrpc': '2.0', 'result': 'DNaDSwMyH8eEwhTYCrdiRZrTUsTRgY2bP1a16bMFS1tuUaSgu4sfr3t24EnYwZqoPeoUGKcwdKF21pvSafgkV7J', 'id': 2}\n"
     ]
    },
    {
     "ename": "RPCException",
     "evalue": "{'code': -32002, 'message': 'Transaction simulation failed: Error processing Instruction 0: custom program error: 0x2', 'data': {'accounts': None, 'err': {'InstructionError': [0, {'Custom': 2}]}, 'logs': ['Program 41z2kpMac1RpH5XnBoKnY6vjmJwdbwc1aHRQszCgbyDv invoke [1]', 'Program log: Error:  keyword=\"gem\\'s funds location.\" Funds Not located in the appropriate pool for this instruction', 'Program 41z2kpMac1RpH5XnBoKnY6vjmJwdbwc1aHRQszCgbyDv consumed 25127 of 200000 compute units', 'Program 41z2kpMac1RpH5XnBoKnY6vjmJwdbwc1aHRQszCgbyDv failed: custom program error: 0x2'], 'unitsConsumed': 0}}",
     "output_type": "error",
     "traceback": [
      "\u001b[1;31m---------------------------------------------------------------------------\u001b[0m",
      "\u001b[1;31mRPCException\u001b[0m                              Traceback (most recent call last)",
      "\u001b[1;32mc:\\Users\\ckamd\\OneDrive\\Desktop\\ingl_dao\\ingl\\libs\\program\\python\\delegate_nft.ipynb Cell 1\u001b[0m in \u001b[0;36m<cell line: 14>\u001b[1;34m()\u001b[0m\n\u001b[0;32m     <a href='vscode-notebook-cell:/c%3A/Users/ckamd/OneDrive/Desktop/ingl_dao/ingl/libs/program/python/delegate_nft.ipynb#ch0000000?line=11'>12</a>\u001b[0m mints \u001b[39m=\u001b[39m [PublicKey(i) \u001b[39mfor\u001b[39;00m i \u001b[39min\u001b[39;00m [\u001b[39m\"\u001b[39m\u001b[39mCGTJt6gmoxwJLb1TNdRw5DNV9nxMfnE99snJJWsRXVzS\u001b[39m\u001b[39m\"\u001b[39m, \u001b[39m\"\u001b[39m\u001b[39mF38YqVB3Jaj4JFnHiuLiWmoLga3nWRMZmDxC87UcVcCw\u001b[39m\u001b[39m\"\u001b[39m]]\n\u001b[0;32m     <a href='vscode-notebook-cell:/c%3A/Users/ckamd/OneDrive/Desktop/ingl_dao/ingl/libs/program/python/delegate_nft.ipynb#ch0000000?line=13'>14</a>\u001b[0m \u001b[39mfor\u001b[39;00m  mint_pubkey \u001b[39min\u001b[39;00m mints:\n\u001b[1;32m---> <a href='vscode-notebook-cell:/c%3A/Users/ckamd/OneDrive/Desktop/ingl_dao/ingl/libs/program/python/delegate_nft.ipynb#ch0000000?line=14'>15</a>\u001b[0m     \u001b[39mprint\u001b[39m(delegate_nft(payer_keypair, mint_pubkey, vote_account_id, client))\n",
      "File \u001b[1;32mc:\\Users\\ckamd\\OneDrive\\Desktop\\ingl_dao\\ingl\\libs\\program\\python\\processor.py:349\u001b[0m, in \u001b[0;36mdelegate_nft\u001b[1;34m(payer_keypair, mint_pubkey, expected_vote_pubkey, client)\u001b[0m\n\u001b[0;32m    347\u001b[0m transaction \u001b[39m=\u001b[39m Transaction()\n\u001b[0;32m    348\u001b[0m transaction\u001b[39m.\u001b[39madd(TransactionInstruction(accounts, ingl_constants\u001b[39m.\u001b[39mINGL_PROGRAM_ID, instruction_data))\n\u001b[1;32m--> 349\u001b[0m \u001b[39mreturn\u001b[39;00m client\u001b[39m.\u001b[39;49msend_transaction(transaction, payer_keypair)\n",
      "File \u001b[1;32m~\\AppData\\Local\\Packages\\PythonSoftwareFoundation.Python.3.9_qbz5n2kfra8p0\\LocalCache\\local-packages\\Python39\\site-packages\\solana\\rpc\\api.py:1387\u001b[0m, in \u001b[0;36mClient.send_transaction\u001b[1;34m(self, txn, opts, recent_blockhash, *signers)\u001b[0m\n\u001b[0;32m   1380\u001b[0m txn\u001b[39m.\u001b[39msign(\u001b[39m*\u001b[39msigners)\n\u001b[0;32m   1381\u001b[0m opts_to_use \u001b[39m=\u001b[39m (\n\u001b[0;32m   1382\u001b[0m     types\u001b[39m.\u001b[39mTxOpts(preflight_commitment\u001b[39m=\u001b[39m\u001b[39mself\u001b[39m\u001b[39m.\u001b[39m_commitment, last_valid_block_height\u001b[39m=\u001b[39mlast_valid_block_height)\n\u001b[0;32m   1383\u001b[0m     \u001b[39mif\u001b[39;00m opts \u001b[39mis\u001b[39;00m \u001b[39mNone\u001b[39;00m\n\u001b[0;32m   1384\u001b[0m     \u001b[39melse\u001b[39;00m opts\n\u001b[0;32m   1385\u001b[0m )\n\u001b[1;32m-> 1387\u001b[0m txn_resp \u001b[39m=\u001b[39m \u001b[39mself\u001b[39;49m\u001b[39m.\u001b[39;49msend_raw_transaction(txn\u001b[39m.\u001b[39;49mserialize(), opts\u001b[39m=\u001b[39;49mopts_to_use)\n\u001b[0;32m   1388\u001b[0m \u001b[39mif\u001b[39;00m \u001b[39mself\u001b[39m\u001b[39m.\u001b[39mblockhash_cache:\n\u001b[0;32m   1389\u001b[0m     blockhash_resp \u001b[39m=\u001b[39m \u001b[39mself\u001b[39m\u001b[39m.\u001b[39mget_latest_blockhash(Finalized)\n",
      "File \u001b[1;32m~\\AppData\\Local\\Packages\\PythonSoftwareFoundation.Python.3.9_qbz5n2kfra8p0\\LocalCache\\local-packages\\Python39\\site-packages\\solana\\rpc\\api.py:1328\u001b[0m, in \u001b[0;36mClient.send_raw_transaction\u001b[1;34m(self, txn, opts)\u001b[0m\n\u001b[0;32m   1326\u001b[0m resp \u001b[39m=\u001b[39m \u001b[39mself\u001b[39m\u001b[39m.\u001b[39m_provider\u001b[39m.\u001b[39mmake_request(\u001b[39m*\u001b[39margs)\n\u001b[0;32m   1327\u001b[0m \u001b[39mif\u001b[39;00m opts_to_use\u001b[39m.\u001b[39mskip_confirmation:\n\u001b[1;32m-> 1328\u001b[0m     \u001b[39mreturn\u001b[39;00m \u001b[39mself\u001b[39;49m\u001b[39m.\u001b[39;49m_post_send(resp)\n\u001b[0;32m   1329\u001b[0m post_send_args \u001b[39m=\u001b[39m \u001b[39mself\u001b[39m\u001b[39m.\u001b[39m_send_raw_transaction_post_send_args(resp, opts_to_use)\n\u001b[0;32m   1330\u001b[0m \u001b[39mreturn\u001b[39;00m \u001b[39mself\u001b[39m\u001b[39m.\u001b[39m__post_send_with_confirm(\u001b[39m*\u001b[39mpost_send_args)\n",
      "File \u001b[1;32m~\\AppData\\Local\\Packages\\PythonSoftwareFoundation.Python.3.9_qbz5n2kfra8p0\\LocalCache\\local-packages\\Python39\\site-packages\\solana\\rpc\\core.py:451\u001b[0m, in \u001b[0;36m_ClientCore._post_send\u001b[1;34m(resp)\u001b[0m\n\u001b[0;32m    449\u001b[0m error \u001b[39m=\u001b[39m resp\u001b[39m.\u001b[39mget(\u001b[39m\"\u001b[39m\u001b[39merror\u001b[39m\u001b[39m\"\u001b[39m)\n\u001b[0;32m    450\u001b[0m \u001b[39mif\u001b[39;00m error:\n\u001b[1;32m--> 451\u001b[0m     \u001b[39mraise\u001b[39;00m RPCException(error)\n\u001b[0;32m    452\u001b[0m \u001b[39mif\u001b[39;00m \u001b[39mnot\u001b[39;00m resp\u001b[39m.\u001b[39mget(\u001b[39m\"\u001b[39m\u001b[39mresult\u001b[39m\u001b[39m\"\u001b[39m):\n\u001b[0;32m    453\u001b[0m     \u001b[39mraise\u001b[39;00m RPCNoResultException(\u001b[39m\"\u001b[39m\u001b[39mFailed to send transaction\u001b[39m\u001b[39m\"\u001b[39m)\n",
      "\u001b[1;31mRPCException\u001b[0m: {'code': -32002, 'message': 'Transaction simulation failed: Error processing Instruction 0: custom program error: 0x2', 'data': {'accounts': None, 'err': {'InstructionError': [0, {'Custom': 2}]}, 'logs': ['Program 41z2kpMac1RpH5XnBoKnY6vjmJwdbwc1aHRQszCgbyDv invoke [1]', 'Program log: Error:  keyword=\"gem\\'s funds location.\" Funds Not located in the appropriate pool for this instruction', 'Program 41z2kpMac1RpH5XnBoKnY6vjmJwdbwc1aHRQszCgbyDv consumed 25127 of 200000 compute units', 'Program 41z2kpMac1RpH5XnBoKnY6vjmJwdbwc1aHRQszCgbyDv failed: custom program error: 0x2'], 'unitsConsumed': 0}}"
     ]
    }
   ],
   "source": [
    "from instruction import keypair_from_json\n",
    "from processor import delegate_nft\n",
    "from solana.publickey import PublicKey\n",
    "from solana.rpc.api import Client\n",
    "from state import ClassEnum\n",
    "client = Client(\"https://api.devnet.solana.com\")\n",
    "print(\"Client is connected\" if client.is_connected() else \"Client is Disconnected\")\n",
    "payer_keypair = keypair_from_json(\"./keypair.json\")\n",
    "\n",
    "vote_account_id = PublicKey(\"EmmwuRoGL97vYoa6nkd76ciyPNjY6WNE8wn8sXnsqmGQ\")\n",
    "\n",
    "mints = [PublicKey(i) for i in [\"CGTJt6gmoxwJLb1TNdRw5DNV9nxMfnE99snJJWsRXVzS\", \"F38YqVB3Jaj4JFnHiuLiWmoLga3nWRMZmDxC87UcVcCw\"]]\n",
    "\n",
    "for  mint_pubkey in mints:\n",
    "    print(delegate_nft(payer_keypair, mint_pubkey, vote_account_id, client))"
   ]
  }
 ],
 "metadata": {
  "kernelspec": {
   "display_name": "Python 3.9.13 64-bit (windows store)",
   "language": "python",
   "name": "python3"
  },
  "language_info": {
   "codemirror_mode": {
    "name": "ipython",
    "version": 3
   },
   "file_extension": ".py",
   "mimetype": "text/x-python",
   "name": "python",
   "nbconvert_exporter": "python",
   "pygments_lexer": "ipython3",
   "version": "3.9.13"
  },
  "orig_nbformat": 4,
  "vscode": {
   "interpreter": {
    "hash": "08b78e4066f9d28ced5f76d81dbed32db21884263686bb618ace706836f0dcaa"
   }
  }
 },
 "nbformat": 4,
 "nbformat_minor": 2
}
