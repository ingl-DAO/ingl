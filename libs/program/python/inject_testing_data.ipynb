{
 "cells": [
  {
   "cell_type": "code",
   "execution_count": 1,
   "metadata": {},
   "outputs": [
    {
     "data": {
      "text/html": [
       "<pre style=\"white-space:pre;overflow-x:auto;line-height:normal;font-family:Menlo,'DejaVu Sans Mono',consolas,'Courier New',monospace\">Client is connected\n",
       "</pre>\n"
      ],
      "text/plain": [
       "Client is connected\n"
      ]
     },
     "metadata": {},
     "output_type": "display_data"
    },
    {
     "data": {
      "text/html": [
       "<pre style=\"white-space:pre;overflow-x:auto;line-height:normal;font-family:Menlo,'DejaVu Sans Mono',consolas,'Courier New',monospace\">Transaction Id: <a href=\"https://explorer.solana.com/tx/4zNw6rrGWJsuBLpYkfkmVicG6trZ3L8kBXY63m4815XYVt17L4SFE34pSswhQgSKsjQRgaoGFjEdBHin8sN4bPrt?cluster=devnet\" target=\"_blank\">4zNw6rrGWJsuBLpYkfkmVicG6trZ3L8kBXY63m4815XYVt17L4SFE34pSswhQgSKsjQRgaoGFjEdBHin8sN4bPrt</a>\n",
       "</pre>\n"
      ],
      "text/plain": [
       "Transaction Id: \u001b]8;id=446046;https://explorer.solana.com/tx/4zNw6rrGWJsuBLpYkfkmVicG6trZ3L8kBXY63m4815XYVt17L4SFE34pSswhQgSKsjQRgaoGFjEdBHin8sN4bPrt?cluster=devnet\u001b\\4zNw6rrGWJsuBLpYkfkmVicG6trZ3L8kBXY63m4815XYVt17L4SFE34pSswhQgSKsjQRgaoGFjEdBHin8sN4bPrt\u001b]8;;\u001b\\\n"
      ]
     },
     "metadata": {},
     "output_type": "display_data"
    }
   ],
   "source": [
    "from instruction import keypair_from_json\n",
    "from processor import inject_testing_data\n",
    "from solana.publickey import PublicKey\n",
    "from solana.rpc.async_api import AsyncClient as Client\n",
    "from state import ClassEnum, rpc_url\n",
    "from rich import print\n",
    "client = Client(\"https://api.devnet.solana.com\")\n",
    "client_state = await client.is_connected()\n",
    "print(\"Client is connected\" if client_state else \"Client is Disconnected\")\n",
    "payer_keypair = keypair_from_json(\"./keypair.json\")\n",
    "\n",
    "vote_account_id = PublicKey(\"5YKjDsYJfNgcJPbzDKqPshpSTwpczHfLHvb6n4X1Qz5H\")\n",
    "mints = [PublicKey(i) for i in [\"Fd2TzXr8ojQejwYUaHKtmjfUteMhVF2cdduTmXgzH9g3\"]]\n",
    "\n",
    "print(await inject_testing_data(payer_keypair, mints, vote_account_id, client))"
   ]
  }
 ],
 "metadata": {
  "kernelspec": {
   "display_name": "Python 3.10.5 64-bit",
   "language": "python",
   "name": "python3"
  },
  "language_info": {
   "codemirror_mode": {
    "name": "ipython",
    "version": 3
   },
   "file_extension": ".py",
   "mimetype": "text/x-python",
   "name": "python",
   "nbconvert_exporter": "python",
   "pygments_lexer": "ipython3",
   "version": "3.10.5"
  },
  "orig_nbformat": 4,
  "vscode": {
   "interpreter": {
    "hash": "369f2c481f4da34e4445cda3fffd2e751bd1c4d706f27375911949ba6bb62e1c"
   }
  }
 },
 "nbformat": 4,
 "nbformat_minor": 2
}
