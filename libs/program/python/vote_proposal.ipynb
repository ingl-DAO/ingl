{
 "cells": [
  {
   "cell_type": "code",
   "execution_count": null,
   "metadata": {},
   "outputs": [],
   "source": [
    "from instruction import keypair_from_json\n",
    "from processor import vote_validator_proposal\n",
    "from solana.publickey import PublicKey\n",
    "from solana.keypair import Keypair\n",
    "from solana.rpc.api import Client\n",
    "from state import Constants as ingl_constants\n",
    "from state import GlobalGems\n",
    "from borsh_construct import *\n",
    "import base64\n",
    "client = Client(\"https://api.devnet.solana.com\")\n",
    "print(\"Client is connected\" if client.is_connected() else \"Client is Disconnected\")\n",
    "payer_keypair = keypair_from_json(\"./keypair.json\")\n",
    "\n",
    "global_gem_pubkey, _global_gem_bump = PublicKey.find_program_address([bytes(ingl_constants.GLOBAL_GEM_KEY, 'UTF-8')], ingl_constants.INGL_PROGRAM_ID)\n",
    "\n",
    "global_gems = GlobalGems.parse(base64.urlsafe_b64decode(client.get_account_info(global_gem_pubkey)['result']['value']['data'][0]))\n",
    "print([PublicKey(i) for i in global_gems.validator_list])\n",
    "numeration = global_gems.proposal_numeration\n",
    "\n",
    "mints = [PublicKey(i) for i in [\"GyEtd6p68XHXLeZSy3yyGq5oUsZhPJTb85qESxY37Y16\", \"FEdUp6Sy8P1BawFqDhWGKfnhoykRDf9sbpTQUYkpNFsf\", \"G4w2W6pD1wQxqfJABKkAgAtv7AiJTtVCDRG2W9aLmXPC\", \"E2aH4Z5ZiuF867uhZK2aLT3JY66uFsDei5C6S6XW5uaK\", \"7edoXXSE6VxzQLV8hsHLJs3v26M5c8PC7DcSSQMyQTyL\", \"GphwUfnQRDw6mQby7FNgmYqxdeCUU7Lvgm9FGhWXswtp\"]]\n",
    "vote_validator_proposal(payer_keypair, numeration-1, mints, 3, client)\n"
   ]
  }
 ],
 "metadata": {
  "kernelspec": {
   "display_name": "Python 3.9.13 64-bit (windows store)",
   "language": "python",
   "name": "python3"
  },
  "language_info": {
   "codemirror_mode": {
    "name": "ipython",
    "version": 3
   },
   "file_extension": ".py",
   "mimetype": "text/x-python",
   "name": "python",
   "nbconvert_exporter": "python",
   "pygments_lexer": "ipython3",
   "version": "3.9.13"
  },
  "orig_nbformat": 4,
  "vscode": {
   "interpreter": {
    "hash": "08b78e4066f9d28ced5f76d81dbed32db21884263686bb618ace706836f0dcaa"
   }
  }
 },
 "nbformat": 4,
 "nbformat_minor": 2
}
