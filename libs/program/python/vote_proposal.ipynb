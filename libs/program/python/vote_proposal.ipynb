{
 "cells": [
  {
   "cell_type": "code",
   "execution_count": 1,
   "metadata": {},
   "outputs": [
    {
     "name": "stdout",
     "output_type": "stream",
     "text": [
      "Client is connected\n",
      "[6q4crDPH7SFp2kxAFNmRg16phDRpjtsW7QDk83EFwrLg, 6aVS1dvAUnd73wqZaUT3Ky6dS5ogmdxFgTNUmycNQeCq, 62uPowNXr22WPw7XghajJkWMBJ2fnv1oGthxqHYYPHie, 86uo4MtfpLrW9EKd7pxcyKPWBSPQ8jEWYLj5MpVBigFk, GU3NxbUE2GrZRiqzAYuvEr9h8rgCPj4GtqznSqr9yQiA]\n"
     ]
    },
    {
     "data": {
      "text/plain": [
       "{'jsonrpc': '2.0',\n",
       " 'result': '3zWgmbLSMtvmiJjhe26nHdKpau5xxnXjid9NBiL1SHbLm6cyYvdeMkfcwVS7TpqTKLFDtsm5RRxHH3KWmCdPcYxY',\n",
       " 'id': 3}"
      ]
     },
     "execution_count": 1,
     "metadata": {},
     "output_type": "execute_result"
    }
   ],
   "source": [
    "from instruction import keypair_from_json\n",
    "from processor import vote_validator_proposal\n",
    "from solana.publickey import PublicKey\n",
    "from solana.keypair import Keypair\n",
    "from solana.rpc.api import Client\n",
    "from state import Constants as ingl_constants\n",
    "from state import GlobalGems\n",
    "from borsh_construct import *\n",
    "import base64\n",
    "client = Client(\"https://api.devnet.solana.com\")\n",
    "print(\"Client is connected\" if client.is_connected() else \"Client is Disconnected\")\n",
    "payer_keypair = keypair_from_json(\"./keypair.json\")\n",
    "\n",
    "global_gem_pubkey, _global_gem_bump = PublicKey.find_program_address([bytes(ingl_constants.GLOBAL_GEM_KEY, 'UTF-8')], ingl_constants.INGL_PROGRAM_ID)\n",
    "\n",
    "global_gems = GlobalGems.parse(base64.urlsafe_b64decode(client.get_account_info(global_gem_pubkey)['result']['value']['data'][0]))\n",
    "print([PublicKey(i) for i in global_gems.validator_list])\n",
    "numeration = global_gems.proposal_numeration\n",
    "\n",
    "\n",
    "mints = [PublicKey(i) for i in [\"F38YqVB3Jaj4JFnHiuLiWmoLga3nWRMZmDxC87UcVcCw\", \"CGTJt6gmoxwJLb1TNdRw5DNV9nxMfnE99snJJWsRXVzS\"]]\n",
    "\n",
    "\n",
    "vote_validator_proposal(payer_keypair, numeration-1, mints, 2, client)\n"
   ]
  }
 ],
 "metadata": {
  "kernelspec": {
   "display_name": "Python 3.9.13 64-bit (windows store)",
   "language": "python",
   "name": "python3"
  },
  "language_info": {
   "codemirror_mode": {
    "name": "ipython",
    "version": 3
   },
   "file_extension": ".py",
   "mimetype": "text/x-python",
   "name": "python",
   "nbconvert_exporter": "python",
   "pygments_lexer": "ipython3",
   "version": "3.9.13"
  },
  "orig_nbformat": 4,
  "vscode": {
   "interpreter": {
    "hash": "08b78e4066f9d28ced5f76d81dbed32db21884263686bb618ace706836f0dcaa"
   }
  }
 },
 "nbformat": 4,
 "nbformat_minor": 2
}
