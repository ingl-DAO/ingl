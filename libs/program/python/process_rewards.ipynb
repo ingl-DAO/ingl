{
 "cells": [
  {
   "cell_type": "code",
   "execution_count": 1,
   "metadata": {},
   "outputs": [
    {
     "data": {
      "text/html": [
       "<pre style=\"white-space:pre;overflow-x:auto;line-height:normal;font-family:Menlo,'DejaVu Sans Mono',consolas,'Courier New',monospace\">Client is connected\n",
       "</pre>\n"
      ],
      "text/plain": [
       "Client is connected\n"
      ]
     },
     "metadata": {},
     "output_type": "display_data"
    },
    {
     "name": "stdout",
     "output_type": "stream",
     "text": [
      "Validator_Id: 62uPowNXr22WPw7XghajJkWMBJ2fnv1oGthxqHYYPHie\n"
     ]
    },
    {
     "data": {
      "text/html": [
       "<pre style=\"white-space:pre;overflow-x:auto;line-height:normal;font-family:Menlo,'DejaVu Sans Mono',consolas,'Courier New',monospace\">Transaction Id: <a href=\"https://explorer.solana.com/tx/3G7x4nzYnwkoopK2za1bPZG6W81fc3kCtyyDZnhT9EhNmXy8rRqKCgGWBBkgBW6JCzC5n5m4QX55wKHcztv9r2BH?cluster=devnet\" target=\"_blank\">3G7x4nzYnwkoopK2za1bPZG6W81fc3kCtyyDZnhT9EhNmXy8rRqKCgGWBBkgBW6JCzC5n5m4QX55wKHcztv9r2BH</a>\n",
       "</pre>\n"
      ],
      "text/plain": [
       "Transaction Id: \u001b]8;id=634091;https://explorer.solana.com/tx/3G7x4nzYnwkoopK2za1bPZG6W81fc3kCtyyDZnhT9EhNmXy8rRqKCgGWBBkgBW6JCzC5n5m4QX55wKHcztv9r2BH?cluster=devnet\u001b\\3G7x4nzYnwkoopK2za1bPZG6W81fc3kCtyyDZnhT9EhNmXy8rRqKCgGWBBkgBW6JCzC5n5m4QX55wKHcztv9r2BH\u001b]8;;\u001b\\\n"
      ]
     },
     "metadata": {},
     "output_type": "display_data"
    }
   ],
   "source": [
    "from instruction import keypair_from_json\n",
    "from processor import process_rewards\n",
    "from solana.publickey import PublicKey\n",
    "from solana.keypair import Keypair\n",
    "from solana.rpc.async_api import AsyncClient as Client\n",
    "from state import Constants as ingl_constants\n",
    "from state import GlobalGems, rpc_url\n",
    "from rich import print\n",
    "from borsh_construct import *\n",
    "import base64\n",
    "client = Client(rpc_url.target_network)\n",
    "client_state = await client.is_connected()\n",
    "print(\"Client is connected\" if client_state else \"Client is Disconnected\")\n",
    "payer_keypair = keypair_from_json(\"./keypair.json\") \n",
    "vote_account_id = PublicKey(\"5YKjDsYJfNgcJPbzDKqPshpSTwpczHfLHvb6n4X1Qz5H\")\n",
    "\n",
    "print(await process_rewards(payer_keypair, vote_account_id, client))"
   ]
  }
 ],
 "metadata": {
  "kernelspec": {
   "display_name": "Python 3.10.5 64-bit",
   "language": "python",
   "name": "python3"
  },
  "language_info": {
   "codemirror_mode": {
    "name": "ipython",
    "version": 3
   },
   "file_extension": ".py",
   "mimetype": "text/x-python",
   "name": "python",
   "nbconvert_exporter": "python",
   "pygments_lexer": "ipython3",
   "version": "3.10.5"
  },
  "orig_nbformat": 4,
  "vscode": {
   "interpreter": {
    "hash": "369f2c481f4da34e4445cda3fffd2e751bd1c4d706f27375911949ba6bb62e1c"
   }
  }
 },
 "nbformat": 4,
 "nbformat_minor": 2
}
