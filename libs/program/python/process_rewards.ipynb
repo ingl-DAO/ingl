{
 "cells": [
  {
   "cell_type": "code",
   "execution_count": 1,
   "metadata": {},
   "outputs": [
    {
     "name": "stdout",
     "output_type": "stream",
     "text": [
      "Client is connected\n",
      "Validator_Id: 62uPowNXr22WPw7XghajJkWMBJ2fnv1oGthxqHYYPHie\n",
      "[AccountMeta(pubkey=62uPowNXr22WPw7XghajJkWMBJ2fnv1oGthxqHYYPHie, is_signer=True, is_writable=True), AccountMeta(pubkey=62uPowNXr22WPw7XghajJkWMBJ2fnv1oGthxqHYYPHie, is_signer=False, is_writable=True), AccountMeta(pubkey=EmmwuRoGL97vYoa6nkd76ciyPNjY6WNE8wn8sXnsqmGQ, is_signer=False, is_writable=True), AccountMeta(pubkey=3iwrMHeDNtqdTeECTZCG82tXEbg2ut7m5RoBXTBH9ExK, is_signer=False, is_writable=True), AccountMeta(pubkey=A2vGDuokoTaHXzst8JHMgStHLms22Zrxys2bF4NPssPM, is_signer=False, is_writable=True), AccountMeta(pubkey=4wuF5BDoDLGknXJPjb2qHN9zuCMaDDDnYtcvf34c8PS1, is_signer=False, is_writable=True), AccountMeta(pubkey=FRHq52xCSmBfUuCaDnZC1Np4Ly7wekZX38mGqsVRbUvN, is_signer=False, is_writable=True), AccountMeta(pubkey=Vote111111111111111111111111111111111111111, is_signer=False, is_writable=False), AccountMeta(pubkey=11111111111111111111111111111111, is_signer=False, is_writable=False), AccountMeta(pubkey=11111111111111111111111111111111, is_signer=False, is_writable=False), AccountMeta(pubkey=11111111111111111111111111111111, is_signer=False, is_writable=False)]\n"
     ]
    },
    {
     "data": {
      "text/plain": [
       "{'jsonrpc': '2.0',\n",
       " 'result': '5rK3FRiVk6wNyC3cWjThuaqtyoMomdFopymWrCFwMsq8vEfzNKTC9F223cy4AQGSgqJuGi7GrsveNsvDtcnqa8a8',\n",
       " 'id': 3}"
      ]
     },
     "execution_count": 1,
     "metadata": {},
     "output_type": "execute_result"
    }
   ],
   "source": [
    "from instruction import keypair_from_json\n",
    "from processor import process_rewards\n",
    "from solana.publickey import PublicKey\n",
    "from solana.keypair import Keypair\n",
    "from solana.rpc.api import Client\n",
    "from state import Constants as ingl_constants\n",
    "from state import GlobalGems\n",
    "from borsh_construct import *\n",
    "import base64\n",
    "client = Client(\"https://api.devnet.solana.com\")\n",
    "print(\"Client is connected\" if client.is_connected() else \"Client is Disconnected\")\n",
    "payer_keypair = keypair_from_json(\"./keypair.json\") \n",
    "vote_account_id = PublicKey(\"EmmwuRoGL97vYoa6nkd76ciyPNjY6WNE8wn8sXnsqmGQ\")\n",
    "\n",
    "process_rewards(payer_keypair, vote_account_id, client)"
   ]
  }
 ],
 "metadata": {
  "kernelspec": {
   "display_name": "Python 3.9.13 64-bit (windows store)",
   "language": "python",
   "name": "python3"
  },
  "language_info": {
   "codemirror_mode": {
    "name": "ipython",
    "version": 3
   },
   "file_extension": ".py",
   "mimetype": "text/x-python",
   "name": "python",
   "nbconvert_exporter": "python",
   "pygments_lexer": "ipython3",
   "version": "3.9.13"
  },
  "orig_nbformat": 4,
  "vscode": {
   "interpreter": {
    "hash": "08b78e4066f9d28ced5f76d81dbed32db21884263686bb618ace706836f0dcaa"
   }
  }
 },
 "nbformat": 4,
 "nbformat_minor": 2
}
