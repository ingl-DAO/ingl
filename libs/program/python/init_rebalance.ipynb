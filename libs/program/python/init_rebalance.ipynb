{
 "cells": [
  {
   "cell_type": "code",
   "execution_count": 1,
   "metadata": {},
   "outputs": [
    {
     "name": "stdout",
     "output_type": "stream",
     "text": [
      "Client is connected\n",
      "Validator_Id: 62uPowNXr22WPw7XghajJkWMBJ2fnv1oGthxqHYYPHie\n",
      "[AccountMeta(pubkey=62uPowNXr22WPw7XghajJkWMBJ2fnv1oGthxqHYYPHie, is_signer=True, is_writable=True), AccountMeta(pubkey=EmmwuRoGL97vYoa6nkd76ciyPNjY6WNE8wn8sXnsqmGQ, is_signer=False, is_writable=True), AccountMeta(pubkey=62uPowNXr22WPw7XghajJkWMBJ2fnv1oGthxqHYYPHie, is_signer=True, is_writable=True), AccountMeta(pubkey=xqm58gGX7pabeDj7TWUKwGY18J2wqz7ymtQ2SUr9H2G, is_signer=False, is_writable=True), AccountMeta(pubkey=BEWz1koFyiEiy8vUhPPe4e5Qb6b5KKiscpd81ZzduCVH, is_signer=False, is_writable=True), AccountMeta(pubkey=DrKB6ZGSCXU9zpgpHCEAnKEwrAqfVVK5DCb9wP43Ygj7, is_signer=False, is_writable=True), AccountMeta(pubkey=3iwrMHeDNtqdTeECTZCG82tXEbg2ut7m5RoBXTBH9ExK, is_signer=False, is_writable=True), AccountMeta(pubkey=SysvarC1ock11111111111111111111111111111111, is_signer=False, is_writable=False), AccountMeta(pubkey=SysvarRent111111111111111111111111111111111, is_signer=False, is_writable=False), AccountMeta(pubkey=4cM9r4xLrCLWymWW8qcDfjCnVp9Qcs1YLUEzAtiEUeF1, is_signer=False, is_writable=True), AccountMeta(pubkey=DFUV3rvLTgBQPF7ub3jwjhZo4yo69yCiLMJPgb8EzB3x, is_signer=False, is_writable=True), AccountMeta(pubkey=11111111111111111111111111111111, is_signer=False, is_writable=False), AccountMeta(pubkey=Stake11111111111111111111111111111111111111, is_signer=False, is_writable=False), AccountMeta(pubkey=11111111111111111111111111111111, is_signer=False, is_writable=False), AccountMeta(pubkey=11111111111111111111111111111111, is_signer=False, is_writable=False), AccountMeta(pubkey=Stake11111111111111111111111111111111111111, is_signer=False, is_writable=False), AccountMeta(pubkey=Stake11111111111111111111111111111111111111, is_signer=False, is_writable=False)]\n"
     ]
    },
    {
     "data": {
      "text/plain": [
       "{'jsonrpc': '2.0',\n",
       " 'result': '65VocbwSE74wgrrx3o3eZ62Yecx4x94bqjaQChe39hcruHFx8C6pQT1FrZgzAvWwv9Aih8XFnqDyV5M6bhM7McYH',\n",
       " 'id': 3}"
      ]
     },
     "execution_count": 1,
     "metadata": {},
     "output_type": "execute_result"
    }
   ],
   "source": [
    "from instruction import keypair_from_json\n",
    "from processor import init_rebalance\n",
    "from solana.publickey import PublicKey\n",
    "from solana.rpc.api import Client\n",
    "from state import ClassEnum\n",
    "client = Client(\"https://api.devnet.solana.com\")\n",
    "print(\"Client is connected\" if client.is_connected() else \"Client is Disconnected\")\n",
    "payer_keypair = keypair_from_json(\"./keypair.json\")\n",
    "\n",
    "vote_account_id = PublicKey(\"EmmwuRoGL97vYoa6nkd76ciyPNjY6WNE8wn8sXnsqmGQ\")\n",
    "\n",
    "init_rebalance(payer_keypair, vote_account_id, client)"
   ]
  }
 ],
 "metadata": {
  "kernelspec": {
   "display_name": "Python 3.9.13 64-bit (windows store)",
   "language": "python",
   "name": "python3"
  },
  "language_info": {
   "codemirror_mode": {
    "name": "ipython",
    "version": 3
   },
   "file_extension": ".py",
   "mimetype": "text/x-python",
   "name": "python",
   "nbconvert_exporter": "python",
   "pygments_lexer": "ipython3",
   "version": "3.9.13"
  },
  "orig_nbformat": 4,
  "vscode": {
   "interpreter": {
    "hash": "08b78e4066f9d28ced5f76d81dbed32db21884263686bb618ace706836f0dcaa"
   }
  }
 },
 "nbformat": 4,
 "nbformat_minor": 2
}
