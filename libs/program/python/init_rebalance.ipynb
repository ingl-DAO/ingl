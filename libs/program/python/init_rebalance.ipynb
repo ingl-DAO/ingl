{
 "cells": [
  {
   "cell_type": "code",
   "execution_count": 2,
   "metadata": {},
   "outputs": [
    {
     "name": "stdout",
     "output_type": "stream",
     "text": [
      "Client is connected\n",
      "Validator_Id: 62uPowNXr22WPw7XghajJkWMBJ2fnv1oGthxqHYYPHie\n",
      "[AccountMeta(pubkey=62uPowNXr22WPw7XghajJkWMBJ2fnv1oGthxqHYYPHie, is_signer=True, is_writable=True), AccountMeta(pubkey=EmmwuRoGL97vYoa6nkd76ciyPNjY6WNE8wn8sXnsqmGQ, is_signer=False, is_writable=True), AccountMeta(pubkey=62uPowNXr22WPw7XghajJkWMBJ2fnv1oGthxqHYYPHie, is_signer=True, is_writable=True), AccountMeta(pubkey=xqm58gGX7pabeDj7TWUKwGY18J2wqz7ymtQ2SUr9H2G, is_signer=False, is_writable=True), AccountMeta(pubkey=BEWz1koFyiEiy8vUhPPe4e5Qb6b5KKiscpd81ZzduCVH, is_signer=False, is_writable=True), AccountMeta(pubkey=DrKB6ZGSCXU9zpgpHCEAnKEwrAqfVVK5DCb9wP43Ygj7, is_signer=False, is_writable=True), AccountMeta(pubkey=3iwrMHeDNtqdTeECTZCG82tXEbg2ut7m5RoBXTBH9ExK, is_signer=False, is_writable=True), AccountMeta(pubkey=SysvarC1ock11111111111111111111111111111111, is_signer=False, is_writable=False), AccountMeta(pubkey=SysvarRent111111111111111111111111111111111, is_signer=False, is_writable=False), AccountMeta(pubkey=4cM9r4xLrCLWymWW8qcDfjCnVp9Qcs1YLUEzAtiEUeF1, is_signer=False, is_writable=True), AccountMeta(pubkey=DFUV3rvLTgBQPF7ub3jwjhZo4yo69yCiLMJPgb8EzB3x, is_signer=False, is_writable=True), AccountMeta(pubkey=11111111111111111111111111111111, is_signer=False, is_writable=False), AccountMeta(pubkey=Stake11111111111111111111111111111111111111, is_signer=False, is_writable=False), AccountMeta(pubkey=11111111111111111111111111111111, is_signer=False, is_writable=False), AccountMeta(pubkey=11111111111111111111111111111111, is_signer=False, is_writable=False), AccountMeta(pubkey=Stake11111111111111111111111111111111111111, is_signer=False, is_writable=False), AccountMeta(pubkey=Stake11111111111111111111111111111111111111, is_signer=False, is_writable=False)]\n"
     ]
    },
    {
     "ename": "RPCException",
     "evalue": "{'code': -32002, 'message': 'Transaction simulation failed: Error processing Instruction 0: invalid account data for instruction', 'data': {'accounts': None, 'err': {'InstructionError': [0, 'InvalidAccountData']}, 'logs': ['Program 41z2kpMac1RpH5XnBoKnY6vjmJwdbwc1aHRQszCgbyDv invoke [1]', 'Program Stake11111111111111111111111111111111111111 invoke [2]', 'Program Stake11111111111111111111111111111111111111 failed: invalid account data for instruction', 'Program 41z2kpMac1RpH5XnBoKnY6vjmJwdbwc1aHRQszCgbyDv consumed 20770 of 200000 compute units', 'Program 41z2kpMac1RpH5XnBoKnY6vjmJwdbwc1aHRQszCgbyDv failed: invalid account data for instruction'], 'unitsConsumed': 0}}",
     "output_type": "error",
     "traceback": [
      "\u001b[1;31m---------------------------------------------------------------------------\u001b[0m",
      "\u001b[1;31mRPCException\u001b[0m                              Traceback (most recent call last)",
      "\u001b[1;32mc:\\Users\\ckamd\\OneDrive\\Desktop\\ingl_dao\\ingl\\libs\\program\\python\\init_rebalance.ipynb Cell 1\u001b[0m in \u001b[0;36m<cell line: 12>\u001b[1;34m()\u001b[0m\n\u001b[0;32m      <a href='vscode-notebook-cell:/c%3A/Users/ckamd/OneDrive/Desktop/ingl_dao/ingl/libs/program/python/init_rebalance.ipynb#ch0000000?line=7'>8</a>\u001b[0m payer_keypair \u001b[39m=\u001b[39m keypair_from_json(\u001b[39m\"\u001b[39m\u001b[39m./keypair.json\u001b[39m\u001b[39m\"\u001b[39m)\n\u001b[0;32m     <a href='vscode-notebook-cell:/c%3A/Users/ckamd/OneDrive/Desktop/ingl_dao/ingl/libs/program/python/init_rebalance.ipynb#ch0000000?line=9'>10</a>\u001b[0m vote_account_id \u001b[39m=\u001b[39m PublicKey(\u001b[39m\"\u001b[39m\u001b[39mEmmwuRoGL97vYoa6nkd76ciyPNjY6WNE8wn8sXnsqmGQ\u001b[39m\u001b[39m\"\u001b[39m)\n\u001b[1;32m---> <a href='vscode-notebook-cell:/c%3A/Users/ckamd/OneDrive/Desktop/ingl_dao/ingl/libs/program/python/init_rebalance.ipynb#ch0000000?line=11'>12</a>\u001b[0m init_rebalance(payer_keypair, vote_account_id, client)\n",
      "File \u001b[1;32mc:\\Users\\ckamd\\OneDrive\\Desktop\\ingl_dao\\ingl\\libs\\program\\python\\processor.py:530\u001b[0m, in \u001b[0;36minit_rebalance\u001b[1;34m(payer_keypair, vote_account_pubkey, client)\u001b[0m\n\u001b[0;32m    528\u001b[0m transaction \u001b[39m=\u001b[39m Transaction()\n\u001b[0;32m    529\u001b[0m transaction\u001b[39m.\u001b[39madd(TransactionInstruction(accounts, ingl_constants\u001b[39m.\u001b[39mINGL_PROGRAM_ID, data))\n\u001b[1;32m--> 530\u001b[0m \u001b[39mreturn\u001b[39;00m client\u001b[39m.\u001b[39;49msend_transaction(transaction, payer_keypair)\n",
      "File \u001b[1;32m~\\AppData\\Local\\Packages\\PythonSoftwareFoundation.Python.3.9_qbz5n2kfra8p0\\LocalCache\\local-packages\\Python39\\site-packages\\solana\\rpc\\api.py:1387\u001b[0m, in \u001b[0;36mClient.send_transaction\u001b[1;34m(self, txn, opts, recent_blockhash, *signers)\u001b[0m\n\u001b[0;32m   1380\u001b[0m txn\u001b[39m.\u001b[39msign(\u001b[39m*\u001b[39msigners)\n\u001b[0;32m   1381\u001b[0m opts_to_use \u001b[39m=\u001b[39m (\n\u001b[0;32m   1382\u001b[0m     types\u001b[39m.\u001b[39mTxOpts(preflight_commitment\u001b[39m=\u001b[39m\u001b[39mself\u001b[39m\u001b[39m.\u001b[39m_commitment, last_valid_block_height\u001b[39m=\u001b[39mlast_valid_block_height)\n\u001b[0;32m   1383\u001b[0m     \u001b[39mif\u001b[39;00m opts \u001b[39mis\u001b[39;00m \u001b[39mNone\u001b[39;00m\n\u001b[0;32m   1384\u001b[0m     \u001b[39melse\u001b[39;00m opts\n\u001b[0;32m   1385\u001b[0m )\n\u001b[1;32m-> 1387\u001b[0m txn_resp \u001b[39m=\u001b[39m \u001b[39mself\u001b[39;49m\u001b[39m.\u001b[39;49msend_raw_transaction(txn\u001b[39m.\u001b[39;49mserialize(), opts\u001b[39m=\u001b[39;49mopts_to_use)\n\u001b[0;32m   1388\u001b[0m \u001b[39mif\u001b[39;00m \u001b[39mself\u001b[39m\u001b[39m.\u001b[39mblockhash_cache:\n\u001b[0;32m   1389\u001b[0m     blockhash_resp \u001b[39m=\u001b[39m \u001b[39mself\u001b[39m\u001b[39m.\u001b[39mget_latest_blockhash(Finalized)\n",
      "File \u001b[1;32m~\\AppData\\Local\\Packages\\PythonSoftwareFoundation.Python.3.9_qbz5n2kfra8p0\\LocalCache\\local-packages\\Python39\\site-packages\\solana\\rpc\\api.py:1328\u001b[0m, in \u001b[0;36mClient.send_raw_transaction\u001b[1;34m(self, txn, opts)\u001b[0m\n\u001b[0;32m   1326\u001b[0m resp \u001b[39m=\u001b[39m \u001b[39mself\u001b[39m\u001b[39m.\u001b[39m_provider\u001b[39m.\u001b[39mmake_request(\u001b[39m*\u001b[39margs)\n\u001b[0;32m   1327\u001b[0m \u001b[39mif\u001b[39;00m opts_to_use\u001b[39m.\u001b[39mskip_confirmation:\n\u001b[1;32m-> 1328\u001b[0m     \u001b[39mreturn\u001b[39;00m \u001b[39mself\u001b[39;49m\u001b[39m.\u001b[39;49m_post_send(resp)\n\u001b[0;32m   1329\u001b[0m post_send_args \u001b[39m=\u001b[39m \u001b[39mself\u001b[39m\u001b[39m.\u001b[39m_send_raw_transaction_post_send_args(resp, opts_to_use)\n\u001b[0;32m   1330\u001b[0m \u001b[39mreturn\u001b[39;00m \u001b[39mself\u001b[39m\u001b[39m.\u001b[39m__post_send_with_confirm(\u001b[39m*\u001b[39mpost_send_args)\n",
      "File \u001b[1;32m~\\AppData\\Local\\Packages\\PythonSoftwareFoundation.Python.3.9_qbz5n2kfra8p0\\LocalCache\\local-packages\\Python39\\site-packages\\solana\\rpc\\core.py:451\u001b[0m, in \u001b[0;36m_ClientCore._post_send\u001b[1;34m(resp)\u001b[0m\n\u001b[0;32m    449\u001b[0m error \u001b[39m=\u001b[39m resp\u001b[39m.\u001b[39mget(\u001b[39m\"\u001b[39m\u001b[39merror\u001b[39m\u001b[39m\"\u001b[39m)\n\u001b[0;32m    450\u001b[0m \u001b[39mif\u001b[39;00m error:\n\u001b[1;32m--> 451\u001b[0m     \u001b[39mraise\u001b[39;00m RPCException(error)\n\u001b[0;32m    452\u001b[0m \u001b[39mif\u001b[39;00m \u001b[39mnot\u001b[39;00m resp\u001b[39m.\u001b[39mget(\u001b[39m\"\u001b[39m\u001b[39mresult\u001b[39m\u001b[39m\"\u001b[39m):\n\u001b[0;32m    453\u001b[0m     \u001b[39mraise\u001b[39;00m RPCNoResultException(\u001b[39m\"\u001b[39m\u001b[39mFailed to send transaction\u001b[39m\u001b[39m\"\u001b[39m)\n",
      "\u001b[1;31mRPCException\u001b[0m: {'code': -32002, 'message': 'Transaction simulation failed: Error processing Instruction 0: invalid account data for instruction', 'data': {'accounts': None, 'err': {'InstructionError': [0, 'InvalidAccountData']}, 'logs': ['Program 41z2kpMac1RpH5XnBoKnY6vjmJwdbwc1aHRQszCgbyDv invoke [1]', 'Program Stake11111111111111111111111111111111111111 invoke [2]', 'Program Stake11111111111111111111111111111111111111 failed: invalid account data for instruction', 'Program 41z2kpMac1RpH5XnBoKnY6vjmJwdbwc1aHRQszCgbyDv consumed 20770 of 200000 compute units', 'Program 41z2kpMac1RpH5XnBoKnY6vjmJwdbwc1aHRQszCgbyDv failed: invalid account data for instruction'], 'unitsConsumed': 0}}"
     ]
    }
   ],
   "source": [
    "from instruction import keypair_from_json\n",
    "from processor import init_rebalance\n",
    "from solana.publickey import PublicKey\n",
    "from solana.rpc.api import Client\n",
    "from state import ClassEnum\n",
    "client = Client(\"https://api.devnet.solana.com\")\n",
    "print(\"Client is connected\" if client.is_connected() else \"Client is Disconnected\")\n",
    "payer_keypair = keypair_from_json(\"./keypair.json\")\n",
    "\n",
    "vote_account_id = PublicKey(\"EmmwuRoGL97vYoa6nkd76ciyPNjY6WNE8wn8sXnsqmGQ\")\n",
    "\n",
    "init_rebalance(payer_keypair, vote_account_id, client)"
   ]
  }
 ],
 "metadata": {
  "kernelspec": {
   "display_name": "Python 3.9.13 64-bit (windows store)",
   "language": "python",
   "name": "python3"
  },
  "language_info": {
   "codemirror_mode": {
    "name": "ipython",
    "version": 3
   },
   "file_extension": ".py",
   "mimetype": "text/x-python",
   "name": "python",
   "nbconvert_exporter": "python",
   "pygments_lexer": "ipython3",
   "version": "3.9.13"
  },
  "orig_nbformat": 4,
  "vscode": {
   "interpreter": {
    "hash": "08b78e4066f9d28ced5f76d81dbed32db21884263686bb618ace706836f0dcaa"
   }
  }
 },
 "nbformat": 4,
 "nbformat_minor": 2
}
