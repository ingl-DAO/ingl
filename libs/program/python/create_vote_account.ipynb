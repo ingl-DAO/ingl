{
 "cells": [
  {
   "cell_type": "code",
   "execution_count": 1,
   "metadata": {},
   "outputs": [
    {
     "name": "stdout",
     "output_type": "stream",
     "text": [
      "Client is connected\n",
      "Vote_Account: 7MyHvLGWE1nkEvF9vgyRdA5PBLbsPaio2QuE2abwGF2k\n"
     ]
    },
    {
     "ename": "RPCException",
     "evalue": "{'code': -32002, 'message': 'Transaction simulation failed: Error processing Instruction 0: Program failed to complete', 'data': {'accounts': None, 'err': {'InstructionError': [0, 'ProgramFailedToComplete']}, 'logs': ['Program 41z2kpMac1RpH5XnBoKnY6vjmJwdbwc1aHRQszCgbyDv invoke [1]', 'Program log: Error:  Provided address do not match expected value', \"Program log: panicked at 'validator id, not that expected: Custom(0)', libs/program/src/processor.rs:390:10\", 'Program 41z2kpMac1RpH5XnBoKnY6vjmJwdbwc1aHRQszCgbyDv consumed 18508 of 200000 compute units', 'Program failed to complete: BPF program panicked', 'Program 41z2kpMac1RpH5XnBoKnY6vjmJwdbwc1aHRQszCgbyDv failed: Program failed to complete'], 'unitsConsumed': 0}}",
     "output_type": "error",
     "traceback": [
      "\u001b[1;31m---------------------------------------------------------------------------\u001b[0m",
      "\u001b[1;31mRPCException\u001b[0m                              Traceback (most recent call last)",
      "\u001b[1;32mf:\\BLOCKCHAIN\\ingl\\ingl\\libs\\program\\python\\create_vote_account.ipynb Cell 1\u001b[0m in \u001b[0;36m<cell line: 19>\u001b[1;34m()\u001b[0m\n\u001b[0;32m     <a href='vscode-notebook-cell:/f%3A/BLOCKCHAIN/ingl/ingl/libs/program/python/create_vote_account.ipynb#W0sZmlsZQ%3D%3D?line=14'>15</a>\u001b[0m global_gem_pubkey, _global_gem_bump \u001b[39m=\u001b[39m PublicKey\u001b[39m.\u001b[39mfind_program_address([\u001b[39mbytes\u001b[39m(ingl_constants\u001b[39m.\u001b[39mGLOBAL_GEM_KEY, \u001b[39m'\u001b[39m\u001b[39mUTF-8\u001b[39m\u001b[39m'\u001b[39m)], ingl_constants\u001b[39m.\u001b[39mINGL_PROGRAM_ID)\n\u001b[0;32m     <a href='vscode-notebook-cell:/f%3A/BLOCKCHAIN/ingl/ingl/libs/program/python/create_vote_account.ipynb#W0sZmlsZQ%3D%3D?line=16'>17</a>\u001b[0m numeration \u001b[39m=\u001b[39m GlobalGems\u001b[39m.\u001b[39mparse(base64\u001b[39m.\u001b[39murlsafe_b64decode(client\u001b[39m.\u001b[39mget_account_info(global_gem_pubkey)[\u001b[39m'\u001b[39m\u001b[39mresult\u001b[39m\u001b[39m'\u001b[39m][\u001b[39m'\u001b[39m\u001b[39mvalue\u001b[39m\u001b[39m'\u001b[39m][\u001b[39m'\u001b[39m\u001b[39mdata\u001b[39m\u001b[39m'\u001b[39m][\u001b[39m0\u001b[39m]))\u001b[39m.\u001b[39mproposal_numeration\n\u001b[1;32m---> <a href='vscode-notebook-cell:/f%3A/BLOCKCHAIN/ingl/ingl/libs/program/python/create_vote_account.ipynb#W0sZmlsZQ%3D%3D?line=18'>19</a>\u001b[0m create_vote_account(payer_keypair, numeration\u001b[39m-\u001b[39;49m\u001b[39m1\u001b[39;49m, client)\n",
      "File \u001b[1;32mf:\\BLOCKCHAIN\\ingl\\ingl\\libs\\program\\python\\processor.py:457\u001b[0m, in \u001b[0;36mcreate_vote_account\u001b[1;34m(validator_keypair, proposal_numeration, client)\u001b[0m\n\u001b[0;32m    455\u001b[0m transaction \u001b[39m=\u001b[39m Transaction()\n\u001b[0;32m    456\u001b[0m transaction\u001b[39m.\u001b[39madd(TransactionInstruction(accounts, ingl_constants\u001b[39m.\u001b[39mINGL_PROGRAM_ID, data))\n\u001b[1;32m--> 457\u001b[0m \u001b[39mreturn\u001b[39;00m client\u001b[39m.\u001b[39;49msend_transaction(transaction, validator_keypair)\n",
      "File \u001b[1;32mc:\\Python310\\lib\\site-packages\\solana\\rpc\\api.py:1389\u001b[0m, in \u001b[0;36mClient.send_transaction\u001b[1;34m(self, txn, opts, recent_blockhash, *signers)\u001b[0m\n\u001b[0;32m   1382\u001b[0m txn\u001b[39m.\u001b[39msign(\u001b[39m*\u001b[39msigners)\n\u001b[0;32m   1383\u001b[0m opts_to_use \u001b[39m=\u001b[39m (\n\u001b[0;32m   1384\u001b[0m     types\u001b[39m.\u001b[39mTxOpts(preflight_commitment\u001b[39m=\u001b[39m\u001b[39mself\u001b[39m\u001b[39m.\u001b[39m_commitment, last_valid_block_height\u001b[39m=\u001b[39mlast_valid_block_height)\n\u001b[0;32m   1385\u001b[0m     \u001b[39mif\u001b[39;00m opts \u001b[39mis\u001b[39;00m \u001b[39mNone\u001b[39;00m\n\u001b[0;32m   1386\u001b[0m     \u001b[39melse\u001b[39;00m opts\n\u001b[0;32m   1387\u001b[0m )\n\u001b[1;32m-> 1389\u001b[0m txn_resp \u001b[39m=\u001b[39m \u001b[39mself\u001b[39;49m\u001b[39m.\u001b[39;49msend_raw_transaction(txn\u001b[39m.\u001b[39;49mserialize(), opts\u001b[39m=\u001b[39;49mopts_to_use)\n\u001b[0;32m   1390\u001b[0m \u001b[39mif\u001b[39;00m \u001b[39mself\u001b[39m\u001b[39m.\u001b[39mblockhash_cache:\n\u001b[0;32m   1391\u001b[0m     blockhash_resp \u001b[39m=\u001b[39m \u001b[39mself\u001b[39m\u001b[39m.\u001b[39mget_latest_blockhash(Finalized)\n",
      "File \u001b[1;32mc:\\Python310\\lib\\site-packages\\solana\\rpc\\api.py:1330\u001b[0m, in \u001b[0;36mClient.send_raw_transaction\u001b[1;34m(self, txn, opts)\u001b[0m\n\u001b[0;32m   1328\u001b[0m resp \u001b[39m=\u001b[39m \u001b[39mself\u001b[39m\u001b[39m.\u001b[39m_provider\u001b[39m.\u001b[39mmake_request(\u001b[39m*\u001b[39margs)\n\u001b[0;32m   1329\u001b[0m \u001b[39mif\u001b[39;00m opts_to_use\u001b[39m.\u001b[39mskip_confirmation:\n\u001b[1;32m-> 1330\u001b[0m     \u001b[39mreturn\u001b[39;00m \u001b[39mself\u001b[39;49m\u001b[39m.\u001b[39;49m_post_send(resp)\n\u001b[0;32m   1331\u001b[0m post_send_args \u001b[39m=\u001b[39m \u001b[39mself\u001b[39m\u001b[39m.\u001b[39m_send_raw_transaction_post_send_args(resp, opts_to_use)\n\u001b[0;32m   1332\u001b[0m \u001b[39mreturn\u001b[39;00m \u001b[39mself\u001b[39m\u001b[39m.\u001b[39m__post_send_with_confirm(\u001b[39m*\u001b[39mpost_send_args)\n",
      "File \u001b[1;32mc:\\Python310\\lib\\site-packages\\solana\\rpc\\core.py:451\u001b[0m, in \u001b[0;36m_ClientCore._post_send\u001b[1;34m(resp)\u001b[0m\n\u001b[0;32m    449\u001b[0m error \u001b[39m=\u001b[39m resp\u001b[39m.\u001b[39mget(\u001b[39m\"\u001b[39m\u001b[39merror\u001b[39m\u001b[39m\"\u001b[39m)\n\u001b[0;32m    450\u001b[0m \u001b[39mif\u001b[39;00m error:\n\u001b[1;32m--> 451\u001b[0m     \u001b[39mraise\u001b[39;00m RPCException(error)\n\u001b[0;32m    452\u001b[0m \u001b[39mif\u001b[39;00m \u001b[39mnot\u001b[39;00m resp\u001b[39m.\u001b[39mget(\u001b[39m\"\u001b[39m\u001b[39mresult\u001b[39m\u001b[39m\"\u001b[39m):\n\u001b[0;32m    453\u001b[0m     \u001b[39mraise\u001b[39;00m RPCNoResultException(\u001b[39m\"\u001b[39m\u001b[39mFailed to send transaction\u001b[39m\u001b[39m\"\u001b[39m)\n",
      "\u001b[1;31mRPCException\u001b[0m: {'code': -32002, 'message': 'Transaction simulation failed: Error processing Instruction 0: Program failed to complete', 'data': {'accounts': None, 'err': {'InstructionError': [0, 'ProgramFailedToComplete']}, 'logs': ['Program 41z2kpMac1RpH5XnBoKnY6vjmJwdbwc1aHRQszCgbyDv invoke [1]', 'Program log: Error:  Provided address do not match expected value', \"Program log: panicked at 'validator id, not that expected: Custom(0)', libs/program/src/processor.rs:390:10\", 'Program 41z2kpMac1RpH5XnBoKnY6vjmJwdbwc1aHRQszCgbyDv consumed 18508 of 200000 compute units', 'Program failed to complete: BPF program panicked', 'Program 41z2kpMac1RpH5XnBoKnY6vjmJwdbwc1aHRQszCgbyDv failed: Program failed to complete'], 'unitsConsumed': 0}}"
     ]
    }
   ],
   "source": [
    "from instruction import keypair_from_json\n",
    "from processor import create_vote_account\n",
    "from solana.publickey import PublicKey\n",
    "from solana.keypair import Keypair\n",
    "from solana.rpc.api import Client\n",
    "from state import Constants as ingl_constants\n",
    "from state import GlobalGems\n",
    "from borsh_construct import *\n",
    "import base64\n",
    "client = Client(\"https://api.devnet.solana.com\")\n",
    "print(\"Client is connected\" if client.is_connected() else \"Client is Disconnected\")\n",
    "payer_keypair = keypair_from_json(\"./keypair.json\")\n",
    "\n",
    "\n",
    "global_gem_pubkey, _global_gem_bump = PublicKey.find_program_address([bytes(ingl_constants.GLOBAL_GEM_KEY, 'UTF-8')], ingl_constants.INGL_PROGRAM_ID)\n",
    "\n",
    "numeration = GlobalGems.parse(base64.urlsafe_b64decode(client.get_account_info(global_gem_pubkey)['result']['value']['data'][0])).proposal_numeration\n",
    "\n",
    "create_vote_account(payer_keypair, numeration-1, client)"
   ]
  }
 ],
 "metadata": {
  "kernelspec": {
   "display_name": "Python 3.10.5 64-bit",
   "language": "python",
   "name": "python3"
  },
  "language_info": {
   "codemirror_mode": {
    "name": "ipython",
    "version": 3
   },
   "file_extension": ".py",
   "mimetype": "text/x-python",
   "name": "python",
   "nbconvert_exporter": "python",
   "pygments_lexer": "ipython3",
   "version": "3.10.5"
  },
  "orig_nbformat": 4,
  "vscode": {
   "interpreter": {
    "hash": "369f2c481f4da34e4445cda3fffd2e751bd1c4d706f27375911949ba6bb62e1c"
   }
  }
 },
 "nbformat": 4,
 "nbformat_minor": 2
}
