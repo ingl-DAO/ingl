{
 "cells": [
  {
   "cell_type": "code",
   "execution_count": 1,
   "metadata": {},
   "outputs": [
    {
     "name": "stdout",
     "output_type": "stream",
     "text": [
      "Client is connected\n",
      "{'jsonrpc': '2.0', 'result': 'THBKChkmC9bKtvCpDexo5S7xPSUxrjHwtJ3cHto5om1vJ83iCAqrRZxuAFSMjpsqNeCxt1dAftQEeAMrvsYckjG', 'id': 2}\n"
     ]
    }
   ],
   "source": [
    "from instruction import keypair_from_json\n",
    "from processor import undelegate_nft\n",
    "from solana.publickey import PublicKey\n",
    "from solana.rpc.api import Client\n",
    "from state import ClassEnum\n",
    "client = Client(\"https://api.devnet.solana.com\")\n",
    "print(\"Client is connected\" if client.is_connected() else \"Client is Disconnected\")\n",
    "payer_keypair = keypair_from_json(\"./keypair.json\")\n",
    "\n",
    "vote_account_id = PublicKey(\"EmmwuRoGL97vYoa6nkd76ciyPNjY6WNE8wn8sXnsqmGQ\")\n",
    "\n",
    "\n",
    "\n",
    "mints = [PublicKey(i) for i in [\"CGTJt6gmoxwJLb1TNdRw5DNV9nxMfnE99snJJWsRXVzS\"]]\n",
    "\n",
    "for  mint_pubkey in mints:\n",
    "    print(undelegate_nft(payer_keypair, mint_pubkey, vote_account_id, client))"
   ]
  }
 ],
 "metadata": {
  "kernelspec": {
   "display_name": "Python 3.10.5 64-bit",
   "language": "python",
   "name": "python3"
  },
  "language_info": {
   "codemirror_mode": {
    "name": "ipython",
    "version": 3
   },
   "file_extension": ".py",
   "mimetype": "text/x-python",
   "name": "python",
   "nbconvert_exporter": "python",
   "pygments_lexer": "ipython3",
   "version": "3.10.5"
  },
  "orig_nbformat": 4,
  "vscode": {
   "interpreter": {
    "hash": "369f2c481f4da34e4445cda3fffd2e751bd1c4d706f27375911949ba6bb62e1c"
   }
  }
 },
 "nbformat": 4,
 "nbformat_minor": 2
}
