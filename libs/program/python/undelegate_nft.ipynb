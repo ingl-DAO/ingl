{
 "cells": [
  {
   "cell_type": "code",
   "execution_count": 1,
   "metadata": {},
   "outputs": [
    {
     "name": "stdout",
     "output_type": "stream",
     "text": [
      "Client is connected\n",
      "{'jsonrpc': '2.0', 'result': '4tTkuj3jErHeL9WtwxKgtMQTb2zZJHDqUT8hFfEXpE6HhYLgaGCmfzjyxu5vGeyuQK5RcQa7756LsGSSkF2LF8cV', 'id': 2}\n",
      "{'jsonrpc': '2.0', 'result': '5BZCFwYShZEU5s2Z7FQ17T8Z1PWb9kKdhz4ykTx7c714xBZ3MrK9d7HW2uvnzhR7NbD2viAmQjcfJCfYErmTsy7N', 'id': 4}\n",
      "{'jsonrpc': '2.0', 'result': '3VerTNn488Pm6evyCHU52gvhBFZYEmewUjTshfs6xs9kzNXoa7WW5rwTp2FqxTiAt5h4UZJaxNF1hh8QMkbMXtkn', 'id': 6}\n",
      "{'jsonrpc': '2.0', 'result': '5rdfhdZqH5A9hZ49Nu3HfAd1qTRw43ixyNSBVvRc67UuJpoQvgUkrs8iP8oSbRwMevsC5K7c3HJqQukTNbDSUexF', 'id': 8}\n",
      "{'jsonrpc': '2.0', 'result': '21FpaMga7AnFnHgwVBtsuymdct6Ai8JKcRVFo5jpZwiYMpYdtjTpUFXJbUqJ3fPnD4irY88VGATkE4M22r8Rbgoq', 'id': 10}\n"
     ]
    },
    {
     "ename": "RPCException",
     "evalue": "{'code': -32002, 'message': 'Transaction simulation failed: Error processing Instruction 0: custom program error: 0x2', 'data': {'accounts': None, 'err': {'InstructionError': [0, {'Custom': 2}]}, 'logs': ['Program 8Tzkyx2vprriFPFF2RYmSykKZ51L3H5ayGmvequZQh2F invoke [1]', 'Program log: Error:  keyword=\"gem\\'s funds location.\" Funds Not located in the appropriate pool for this instruction', 'Program 8Tzkyx2vprriFPFF2RYmSykKZ51L3H5ayGmvequZQh2F consumed 27533 of 200000 compute units', 'Program 8Tzkyx2vprriFPFF2RYmSykKZ51L3H5ayGmvequZQh2F failed: custom program error: 0x2'], 'unitsConsumed': 0}}",
     "output_type": "error",
     "traceback": [
      "\u001b[1;31m---------------------------------------------------------------------------\u001b[0m",
      "\u001b[1;31mRPCException\u001b[0m                              Traceback (most recent call last)",
      "\u001b[1;32mc:\\Users\\ckamd\\OneDrive\\Desktop\\ingl_dao\\ingl\\libs\\program\\python\\undelegate_nft.ipynb Cell 1\u001b[0m in \u001b[0;36m<cell line: 16>\u001b[1;34m()\u001b[0m\n\u001b[0;32m     <a href='vscode-notebook-cell:/c%3A/Users/ckamd/OneDrive/Desktop/ingl_dao/ingl/libs/program/python/undelegate_nft.ipynb#ch0000000?line=13'>14</a>\u001b[0m mints \u001b[39m=\u001b[39m [PublicKey(i) \u001b[39mfor\u001b[39;00m i \u001b[39min\u001b[39;00m [\u001b[39m\"\u001b[39m\u001b[39mGyEtd6p68XHXLeZSy3yyGq5oUsZhPJTb85qESxY37Y16\u001b[39m\u001b[39m\"\u001b[39m, \u001b[39m\"\u001b[39m\u001b[39mFEdUp6Sy8P1BawFqDhWGKfnhoykRDf9sbpTQUYkpNFsf\u001b[39m\u001b[39m\"\u001b[39m, \u001b[39m\"\u001b[39m\u001b[39mG4w2W6pD1wQxqfJABKkAgAtv7AiJTtVCDRG2W9aLmXPC\u001b[39m\u001b[39m\"\u001b[39m, \u001b[39m\"\u001b[39m\u001b[39mE2aH4Z5ZiuF867uhZK2aLT3JY66uFsDei5C6S6XW5uaK\u001b[39m\u001b[39m\"\u001b[39m, \u001b[39m\"\u001b[39m\u001b[39m7edoXXSE6VxzQLV8hsHLJs3v26M5c8PC7DcSSQMyQTyL\u001b[39m\u001b[39m\"\u001b[39m, \u001b[39m\"\u001b[39m\u001b[39mGphwUfnQRDw6mQby7FNgmYqxdeCUU7Lvgm9FGhWXswtp\u001b[39m\u001b[39m\"\u001b[39m]]\n\u001b[0;32m     <a href='vscode-notebook-cell:/c%3A/Users/ckamd/OneDrive/Desktop/ingl_dao/ingl/libs/program/python/undelegate_nft.ipynb#ch0000000?line=15'>16</a>\u001b[0m \u001b[39mfor\u001b[39;00m  mint_pubkey \u001b[39min\u001b[39;00m mints:\n\u001b[1;32m---> <a href='vscode-notebook-cell:/c%3A/Users/ckamd/OneDrive/Desktop/ingl_dao/ingl/libs/program/python/undelegate_nft.ipynb#ch0000000?line=16'>17</a>\u001b[0m     \u001b[39mprint\u001b[39m(undelegate_nft(payer_keypair, mint_pubkey, vote_account_id, client))\n",
      "File \u001b[1;32mc:\\Users\\ckamd\\OneDrive\\Desktop\\ingl_dao\\ingl\\libs\\program\\python\\processor.py:407\u001b[0m, in \u001b[0;36mundelegate_nft\u001b[1;34m(payer_keypair, mint_pubkey, expected_vote_pubkey, client)\u001b[0m\n\u001b[0;32m    405\u001b[0m transaction \u001b[39m=\u001b[39m Transaction()\n\u001b[0;32m    406\u001b[0m transaction\u001b[39m.\u001b[39madd(TransactionInstruction(accounts, ingl_constants\u001b[39m.\u001b[39mINGL_PROGRAM_ID, instruction_data))\n\u001b[1;32m--> 407\u001b[0m \u001b[39mreturn\u001b[39;00m client\u001b[39m.\u001b[39;49msend_transaction(transaction, payer_keypair)\n",
      "File \u001b[1;32m~\\AppData\\Local\\Packages\\PythonSoftwareFoundation.Python.3.9_qbz5n2kfra8p0\\LocalCache\\local-packages\\Python39\\site-packages\\solana\\rpc\\api.py:1387\u001b[0m, in \u001b[0;36mClient.send_transaction\u001b[1;34m(self, txn, opts, recent_blockhash, *signers)\u001b[0m\n\u001b[0;32m   1380\u001b[0m txn\u001b[39m.\u001b[39msign(\u001b[39m*\u001b[39msigners)\n\u001b[0;32m   1381\u001b[0m opts_to_use \u001b[39m=\u001b[39m (\n\u001b[0;32m   1382\u001b[0m     types\u001b[39m.\u001b[39mTxOpts(preflight_commitment\u001b[39m=\u001b[39m\u001b[39mself\u001b[39m\u001b[39m.\u001b[39m_commitment, last_valid_block_height\u001b[39m=\u001b[39mlast_valid_block_height)\n\u001b[0;32m   1383\u001b[0m     \u001b[39mif\u001b[39;00m opts \u001b[39mis\u001b[39;00m \u001b[39mNone\u001b[39;00m\n\u001b[0;32m   1384\u001b[0m     \u001b[39melse\u001b[39;00m opts\n\u001b[0;32m   1385\u001b[0m )\n\u001b[1;32m-> 1387\u001b[0m txn_resp \u001b[39m=\u001b[39m \u001b[39mself\u001b[39;49m\u001b[39m.\u001b[39;49msend_raw_transaction(txn\u001b[39m.\u001b[39;49mserialize(), opts\u001b[39m=\u001b[39;49mopts_to_use)\n\u001b[0;32m   1388\u001b[0m \u001b[39mif\u001b[39;00m \u001b[39mself\u001b[39m\u001b[39m.\u001b[39mblockhash_cache:\n\u001b[0;32m   1389\u001b[0m     blockhash_resp \u001b[39m=\u001b[39m \u001b[39mself\u001b[39m\u001b[39m.\u001b[39mget_latest_blockhash(Finalized)\n",
      "File \u001b[1;32m~\\AppData\\Local\\Packages\\PythonSoftwareFoundation.Python.3.9_qbz5n2kfra8p0\\LocalCache\\local-packages\\Python39\\site-packages\\solana\\rpc\\api.py:1328\u001b[0m, in \u001b[0;36mClient.send_raw_transaction\u001b[1;34m(self, txn, opts)\u001b[0m\n\u001b[0;32m   1326\u001b[0m resp \u001b[39m=\u001b[39m \u001b[39mself\u001b[39m\u001b[39m.\u001b[39m_provider\u001b[39m.\u001b[39mmake_request(\u001b[39m*\u001b[39margs)\n\u001b[0;32m   1327\u001b[0m \u001b[39mif\u001b[39;00m opts_to_use\u001b[39m.\u001b[39mskip_confirmation:\n\u001b[1;32m-> 1328\u001b[0m     \u001b[39mreturn\u001b[39;00m \u001b[39mself\u001b[39;49m\u001b[39m.\u001b[39;49m_post_send(resp)\n\u001b[0;32m   1329\u001b[0m post_send_args \u001b[39m=\u001b[39m \u001b[39mself\u001b[39m\u001b[39m.\u001b[39m_send_raw_transaction_post_send_args(resp, opts_to_use)\n\u001b[0;32m   1330\u001b[0m \u001b[39mreturn\u001b[39;00m \u001b[39mself\u001b[39m\u001b[39m.\u001b[39m__post_send_with_confirm(\u001b[39m*\u001b[39mpost_send_args)\n",
      "File \u001b[1;32m~\\AppData\\Local\\Packages\\PythonSoftwareFoundation.Python.3.9_qbz5n2kfra8p0\\LocalCache\\local-packages\\Python39\\site-packages\\solana\\rpc\\core.py:451\u001b[0m, in \u001b[0;36m_ClientCore._post_send\u001b[1;34m(resp)\u001b[0m\n\u001b[0;32m    449\u001b[0m error \u001b[39m=\u001b[39m resp\u001b[39m.\u001b[39mget(\u001b[39m\"\u001b[39m\u001b[39merror\u001b[39m\u001b[39m\"\u001b[39m)\n\u001b[0;32m    450\u001b[0m \u001b[39mif\u001b[39;00m error:\n\u001b[1;32m--> 451\u001b[0m     \u001b[39mraise\u001b[39;00m RPCException(error)\n\u001b[0;32m    452\u001b[0m \u001b[39mif\u001b[39;00m \u001b[39mnot\u001b[39;00m resp\u001b[39m.\u001b[39mget(\u001b[39m\"\u001b[39m\u001b[39mresult\u001b[39m\u001b[39m\"\u001b[39m):\n\u001b[0;32m    453\u001b[0m     \u001b[39mraise\u001b[39;00m RPCNoResultException(\u001b[39m\"\u001b[39m\u001b[39mFailed to send transaction\u001b[39m\u001b[39m\"\u001b[39m)\n",
      "\u001b[1;31mRPCException\u001b[0m: {'code': -32002, 'message': 'Transaction simulation failed: Error processing Instruction 0: custom program error: 0x2', 'data': {'accounts': None, 'err': {'InstructionError': [0, {'Custom': 2}]}, 'logs': ['Program 8Tzkyx2vprriFPFF2RYmSykKZ51L3H5ayGmvequZQh2F invoke [1]', 'Program log: Error:  keyword=\"gem\\'s funds location.\" Funds Not located in the appropriate pool for this instruction', 'Program 8Tzkyx2vprriFPFF2RYmSykKZ51L3H5ayGmvequZQh2F consumed 27533 of 200000 compute units', 'Program 8Tzkyx2vprriFPFF2RYmSykKZ51L3H5ayGmvequZQh2F failed: custom program error: 0x2'], 'unitsConsumed': 0}}"
     ]
    }
   ],
   "source": [
    "from instruction import keypair_from_json\n",
    "from processor import undelegate_nft\n",
    "from solana.publickey import PublicKey\n",
    "from solana.rpc.api import Client\n",
    "from state import ClassEnum\n",
    "client = Client(\"https://api.devnet.solana.com\")\n",
    "print(\"Client is connected\" if client.is_connected() else \"Client is Disconnected\")\n",
    "payer_keypair = keypair_from_json(\"./keypair.json\")\n",
    "\n",
    "vote_account_id = PublicKey(\"HX3Ue63ubqsVE3JEX2D8yRJW1mKZMhuFfQgKben7HXrp\")\n",
    "\n",
    "\n",
    "\n",
    "mints = [PublicKey(i) for i in [\"GyEtd6p68XHXLeZSy3yyGq5oUsZhPJTb85qESxY37Y16\", \"FEdUp6Sy8P1BawFqDhWGKfnhoykRDf9sbpTQUYkpNFsf\", \"G4w2W6pD1wQxqfJABKkAgAtv7AiJTtVCDRG2W9aLmXPC\", \"E2aH4Z5ZiuF867uhZK2aLT3JY66uFsDei5C6S6XW5uaK\", \"7edoXXSE6VxzQLV8hsHLJs3v26M5c8PC7DcSSQMyQTyL\", \"GphwUfnQRDw6mQby7FNgmYqxdeCUU7Lvgm9FGhWXswtp\"]]\n",
    "\n",
    "for  mint_pubkey in mints:\n",
    "    print(undelegate_nft(payer_keypair, mint_pubkey, vote_account_id, client))"
   ]
  }
 ],
 "metadata": {
  "kernelspec": {
   "display_name": "Python 3.9.13 64-bit (windows store)",
   "language": "python",
   "name": "python3"
  },
  "language_info": {
   "codemirror_mode": {
    "name": "ipython",
    "version": 3
   },
   "file_extension": ".py",
   "mimetype": "text/x-python",
   "name": "python",
   "nbconvert_exporter": "python",
   "pygments_lexer": "ipython3",
   "version": "3.9.13"
  },
  "orig_nbformat": 4,
  "vscode": {
   "interpreter": {
    "hash": "08b78e4066f9d28ced5f76d81dbed32db21884263686bb618ace706836f0dcaa"
   }
  }
 },
 "nbformat": 4,
 "nbformat_minor": 2
}
