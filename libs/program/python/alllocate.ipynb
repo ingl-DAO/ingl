{
 "cells": [
  {
   "cell_type": "code",
   "execution_count": 1,
   "metadata": {},
   "outputs": [
    {
     "name": "stdout",
     "output_type": "stream",
     "text": [
      "Client is connected\n",
      "{'jsonrpc': '2.0', 'result': '48qRz42GqtmnSusNoymZgXRLPAoj5yeqy3BRzPvnHVzoUFRS8pefdK8k6GFaNkZDTffWmZ6yo32TRW9sGkeoQwRa', 'id': 2}\n",
      "{'jsonrpc': '2.0', 'result': '2Lc4xskaagrgvGoCGKv5TUggHq3vmxuyjreFz4a3iqrgbm6an2ix2bUwTyyiBbHdDc1RjMu62q5335Np2VNPaWyc', 'id': 4}\n"
     ]
    }
   ],
   "source": [
    "from instruction import keypair_from_json\n",
    "from processor import allocate_sol\n",
    "from solana.publickey import PublicKey\n",
    "from solana.rpc.api import Client\n",
    "from state import ClassEnum\n",
    "client = Client(\"https://api.devnet.solana.com\")\n",
    "print(\"Client is connected\" if client.is_connected() else \"Client is Disconnected\")\n",
    "payer_keypair = keypair_from_json(\"./keypair.json\")\n",
    "mint_pubkey = PublicKey(\"GphwUfnQRDw6mQby7FNgmYqxdeCUU7Lvgm9FGhWXswtp\")\n",
    "\n",
    "\n",
    "mints = [PublicKey(i) for i in [\"F38YqVB3Jaj4JFnHiuLiWmoLga3nWRMZmDxC87UcVcCw\", \"CGTJt6gmoxwJLb1TNdRw5DNV9nxMfnE99snJJWsRXVzS\"]]\n",
    " \n",
    "for mint_pubkey in mints:\n",
    "    print(allocate_sol(payer_keypair, mint_pubkey, client))"
   ]
  }
 ],
 "metadata": {
  "kernelspec": {
   "display_name": "Python 3.10.5 64-bit",
   "language": "python",
   "name": "python3"
  },
  "language_info": {
   "codemirror_mode": {
    "name": "ipython",
    "version": 3
   },
   "file_extension": ".py",
   "mimetype": "text/x-python",
   "name": "python",
   "nbconvert_exporter": "python",
   "pygments_lexer": "ipython3",
   "version": "3.10.5"
  },
  "orig_nbformat": 4,
  "vscode": {
   "interpreter": {
    "hash": "369f2c481f4da34e4445cda3fffd2e751bd1c4d706f27375911949ba6bb62e1c"
   }
  }
 },
 "nbformat": 4,
 "nbformat_minor": 2
}
