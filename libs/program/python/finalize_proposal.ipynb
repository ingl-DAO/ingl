{
 "cells": [
  {
   "cell_type": "code",
   "execution_count": 1,
   "metadata": {},
   "outputs": [
    {
     "name": "stdout",
     "output_type": "stream",
     "text": [
      "Client is connected\n"
     ]
    },
    {
     "data": {
      "text/plain": [
       "Container(counter=0, total_raised=0, pd_pool_total=0, delegated_total=0, dealloced_total=0, is_proposal_ongoing=True, proposal_numeration=1, pending_delegation_total=0, validator_list=ListContainer([ListContainer([86, 154, 103, 137, 112, 117, 192, 180, 252, 189, 60, 58, 132, 77, 71, 211, 36, 230, 237, 158, 225, 212, 46, 193, 74, 120, 134, 141, 134, 29, 177, 201]), ListContainer([250, 199, 7, 56, 12, 114, 130, 51, 184, 49, 95, 195, 237, 248, 75, 95, 94, 66, 229, 11, 11, 56, 11, 214, 102, 238, 59, 37, 225, 143, 167, 95]), ListContainer([231, 86, 66, 65, 49, 175, 81, 208, 243, 99, 237, 176, 170, 40, 131, 25, 164, 101, 10, 159, 76, 252, 102, 132, 201, 141, 0, 138, 116, 233, 98, 43]), ListContainer([164, 219, 194, 245, 67, 13, 60, 33, 152, 32, 202, 239, 184, 247, 120, 79, 75, 27, 128, 31, 59, 141, 8, 8, 123, 134, 178, 47, 38, 145, 138, 95]), ListContainer([200, 7, 249, 90, 45, 203, 123, 232, 35, 128, 230, 143, 230, 221, 56, 108, 96, 115, 245, 100, 200, 64, 129, 154, 128, 29, 103, 195, 158, 100, 209, 92]), ListContainer([13, 133, 218, 93, 7, 165, 80, 81, 106, 234, 126, 60, 195, 90, 89, 152, 148, 132, 80, 123, 255, 247, 210, 117, 100, 76, 58, 168, 60, 140, 238, 131])]))"
      ]
     },
     "execution_count": 1,
     "metadata": {},
     "output_type": "execute_result"
    }
   ],
   "source": [
    "from instruction import keypair_from_json\n",
    "from processor import finalize_proposal\n",
    "from solana.publickey import PublicKey\n",
    "from solana.keypair import Keypair\n",
    "from solana.rpc.api import Client\n",
    "from state import Constants as ingl_constants\n",
    "from state import GlobalGems\n",
    "from borsh_construct import *\n",
    "import base64\n",
    "client = Client(\"https://api.devnet.solana.com\")\n",
    "print(\"Client is connected\" if client.is_connected() else \"Client is Disconnected\")\n",
    "payer_keypair = keypair_from_json(\"./keypair.json\")\n",
    "\n",
    "global_gem_pubkey, _global_gem_bump = PublicKey.find_program_address([bytes(ingl_constants.GLOBAL_GEM_KEY, 'UTF-8')], ingl_constants.INGL_PROGRAM_ID)\n",
    "\n",
    "global_gems = GlobalGems.parse(base64.urlsafe_b64decode(client.get_account_info(global_gem_pubkey)['result']['value']['data'][0]))\n",
    "numeration = global_gems.proposal_numeration\n",
    "global_gems\n",
    "# finalize_proposal(payer_keypair, numeration-1, client)"
   ]
  },
  {
   "cell_type": "code",
   "execution_count": 3,
   "metadata": {},
   "outputs": [],
   "source": [
    "for i in global_gems.validator_list:\n",
    "    print(PublicKey(i))"
   ]
  }
 ],
 "metadata": {
  "kernelspec": {
   "display_name": "Python 3.8.10 64-bit",
   "language": "python",
   "name": "python3"
  },
  "language_info": {
   "codemirror_mode": {
    "name": "ipython",
    "version": 3
   },
   "file_extension": ".py",
   "mimetype": "text/x-python",
   "name": "python",
   "nbconvert_exporter": "python",
   "pygments_lexer": "ipython3",
   "version": "3.8.10"
  },
  "orig_nbformat": 4,
  "vscode": {
   "interpreter": {
    "hash": "916dbcbb3f70747c44a77c7bcd40155683ae19c65e1c03b4aa3499c5328201f1"
   }
  }
 },
 "nbformat": 4,
 "nbformat_minor": 2
}
