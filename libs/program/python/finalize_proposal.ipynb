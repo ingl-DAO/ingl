{
 "cells": [
  {
   "cell_type": "code",
   "execution_count": 2,
   "metadata": {},
   "outputs": [
    {
     "name": "stdout",
     "output_type": "stream",
     "text": [
      "Client is connected\n",
      "4XDyv5WdNjSog1E1oRhheKqkcYRmrkmX2a7bd3FbPfrp\n",
      "5sJaXHGsEa3VF1h2RR326mdTQkbtww6qnmNuGTJoNv88\n",
      "9u9ep9hhtFTtpUxGhXZzBTzqvE78brcXJ95LbgiqYsen\n"
     ]
    },
    {
     "data": {
      "text/plain": [
       "{'jsonrpc': '2.0',\n",
       " 'result': '5RAQPA5PcT4xFKeA893PXuTkZBt7prRTj1uJJsG17tivXTvWGinw4uyQ4i92R69GSHuaGmTwJbjpxH56yU3sB8Fn',\n",
       " 'id': 4}"
      ]
     },
     "execution_count": 2,
     "metadata": {},
     "output_type": "execute_result"
    }
   ],
   "source": [
    "from instruction import keypair_from_json\n",
    "from processor import finalize_proposal\n",
    "from solana.publickey import PublicKey\n",
    "from solana.keypair import Keypair\n",
    "from solana.rpc.api import Client\n",
    "from state import Constants as ingl_constants\n",
    "from state import GlobalGems\n",
    "from borsh_construct import *\n",
    "import base64\n",
    "client = Client(\"https://api.devnet.solana.com\")\n",
    "print(\"Client is connected\" if client.is_connected() else \"Client is Disconnected\")\n",
    "payer_keypair = keypair_from_json(\"./keypair.json\")\n",
    "\n",
    "global_gem_pubkey, _global_gem_bump = PublicKey.find_program_address([bytes(ingl_constants.GLOBAL_GEM_KEY, 'UTF-8')], ingl_constants.INGL_PROGRAM_ID)\n",
    "\n",
    "numeration = GlobalGems.parse(base64.urlsafe_b64decode(client.get_account_info(global_gem_pubkey)['result']['value']['data'][0])).proposal_numeration\n",
    "validator_list = GlobalGems.parse(base64.urlsafe_b64decode(client.get_account_info(global_gem_pubkey)['result']['value']['data'][0])).validator_list\n",
    "\n",
    "for validator in validator_list :\n",
    "    print(PublicKey(validator))\n",
    "\n",
    "finalize_proposal(payer_keypair, numeration-1, client)"
   ]
  }
 ],
 "metadata": {
  "kernelspec": {
   "display_name": "Python 3.10.5 64-bit",
   "language": "python",
   "name": "python3"
  },
  "language_info": {
   "codemirror_mode": {
    "name": "ipython",
    "version": 3
   },
   "file_extension": ".py",
   "mimetype": "text/x-python",
   "name": "python",
   "nbconvert_exporter": "python",
   "pygments_lexer": "ipython3",
   "version": "3.10.5"
  },
  "orig_nbformat": 4,
  "vscode": {
   "interpreter": {
    "hash": "369f2c481f4da34e4445cda3fffd2e751bd1c4d706f27375911949ba6bb62e1c"
   }
  }
 },
 "nbformat": 4,
 "nbformat_minor": 2
}
